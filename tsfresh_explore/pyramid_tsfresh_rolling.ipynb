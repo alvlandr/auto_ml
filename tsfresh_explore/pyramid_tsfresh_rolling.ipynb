{
 "cells": [
  {
   "cell_type": "code",
   "execution_count": 1,
   "metadata": {},
   "outputs": [
    {
     "name": "stderr",
     "output_type": "stream",
     "text": [
      "/home/nurlan/anaconda3/lib/python3.6/site-packages/statsmodels/compat/pandas.py:56: FutureWarning: The pandas.core.datetools module is deprecated and will be removed in a future version. Please use the pandas.tseries module instead.\n",
      "  from pandas.core import datetools\n"
     ]
    }
   ],
   "source": [
    "import pandas as pd\n",
    "import numpy as np\n",
    "import math\n",
    "import time\n",
    "from tqdm import tqdm\n",
    "import warnings\n",
    "import matplotlib.pyplot as plt\n",
    "%matplotlib inline\n",
    "\n",
    "import seaborn as sns\n",
    "sns.set_style('whitegrid')\n",
    "\n",
    "from fbprophet import Prophet\n",
    "from pyramid.arima import auto_arima\n",
    "\n",
    "from sklearn.metrics import mean_absolute_error\n",
    "\n",
    "\n",
    "def mean_absolute_percentage_error(y_true, y_pred): \n",
    "    return np.mean(np.abs((y_true - y_pred) / y_true))\n",
    "\n",
    "# tsfresh functions\n",
    "from tsfresh import extract_features\n",
    "from tsfresh.utilities.dataframe_functions import make_forecasting_frame\n",
    "from tsfresh.utilities.dataframe_functions import impute\n",
    "from tsfresh.feature_extraction import MinimalFCParameters\n",
    "with warnings.catch_warnings():\n",
    "    warnings.simplefilter(\"ignore\")"
   ]
  },
  {
   "cell_type": "code",
   "execution_count": 2,
   "metadata": {},
   "outputs": [
    {
     "data": {
      "text/plain": [
       "(144, 1)"
      ]
     },
     "execution_count": 2,
     "metadata": {},
     "output_type": "execute_result"
    }
   ],
   "source": [
    "df = pd.read_csv('AirPassengers.csv', usecols=[1])\n",
    "df.shape"
   ]
  },
  {
   "cell_type": "code",
   "execution_count": 3,
   "metadata": {},
   "outputs": [],
   "source": [
    "middle_point = 120 \n",
    "data_train = np.array(df.iloc[:middle_point]).squeeze()\n",
    "data_test = np.array(df[middle_point:]).squeeze()\n",
    "data = np.concatenate([data_train, data_test])"
   ]
  },
  {
   "cell_type": "code",
   "execution_count": 4,
   "metadata": {},
   "outputs": [],
   "source": [
    "params = {}\n",
    "params['pyramid_mode'] = 'stepwise'\n",
    "params['ic'] = 'oob'\n",
    "params['period'] = 12\n",
    "params['random_state'] = 42\n",
    "params['n_fits'] = 10\n",
    "params['trend'] = 'c'\n",
    "params['n_jobs'] = 1\n",
    "params['scoring'] = 'mae'\n",
    "params['out_of_sample_size'] = 10\n",
    "params['dynamic'] = False"
   ]
  },
  {
   "cell_type": "code",
   "execution_count": 5,
   "metadata": {},
   "outputs": [],
   "source": [
    "def plot_results(time_series,train_prediction, test_prediction, y_test):\n",
    "    \n",
    "    \"\"\"\n",
    "    Plots the original time series and it prediction\n",
    "    \"\"\"\n",
    "    \n",
    "    train_pr = train_prediction\n",
    "    test_pr = test_prediction\n",
    "    ts = time_series\n",
    "    \n",
    "    plt.figure(figsize=(10,7))\n",
    "\n",
    "    plt.plot(ts, label = \"true\")\n",
    "    \n",
    "    plt.plot(np.concatenate([train_pr, test_pr])[1:], \n",
    "         label = \"predictions, \\n MAPE = {0}, MAE = {1}\".format(\n",
    "             np.round(mean_absolute_percentage_error(test_pr, y_test), 3),\n",
    "             np.round(mean_absolute_error(test_pr, y_test), 3)))\n",
    "\n",
    "\n",
    "    plt.axvline(x=119, label = \"train-test-split\", color = 'r')\n",
    "\n",
    "    plt.xlabel(\"time\", size = 20)\n",
    "    plt.ylabel(\"value\", size = 20)\n",
    "\n",
    "\n",
    "    plt.legend(fontsize = 15)\n",
    "\n",
    "    plt.show()\n",
    "    pass"
   ]
  },
  {
   "cell_type": "code",
   "execution_count": 6,
   "metadata": {},
   "outputs": [],
   "source": [
    "def fit_pyramid(data_train, exog_train = None, params = None):\n",
    "\n",
    "    \"\"\"\n",
    "    pyramid_mode {\"stepwise\", \"random_search\"}\n",
    "\n",
    "    \"\"\"\n",
    "    \n",
    "    if params['pyramid_mode'] == \"stepwise\":\n",
    "        model = auto_arima(data_train, exogenous=exog_train, start_p=0, start_q=0, max_p=5, max_q=5,\n",
    "        m=params['period'], n_jobs = params['n_jobs'], scoring = params['scoring'], \n",
    "        out_of_sample_size = params['out_of_sample_size'], \n",
    "        start_P=0, start_Q = 0, max_d=2, max_D=2,max_P = 5, max_Q = 5, trace=True,\n",
    "        error_action='ignore', information_criterion = params['ic'], trend = params['trend'],\n",
    "        suppress_warnings=True, stepwise=True)\n",
    "    \n",
    "    elif params['pyramid_mode'] == 'random_search':\n",
    "        model = auto_arima(data_train, exogenous=exog_train, start_p=0, start_q=0, max_p=5, max_q=5, \n",
    "        m=params['period'], scoring = params['scoring'], out_of_sample_size = params['out_of_sample_size'],\n",
    "        start_P=0, start_Q = 0, n_jobs=params['n_jobs'], max_d=2, max_D=2,max_P = 5, max_Q = 5, trace=True,\n",
    "        error_action='ignore', information_criterion = params['ic'], trend = params['trend'],\n",
    "        suppress_warnings=True, \n",
    "        stepwise=False, random=True, random_state=params['random_state'], n_fits = params['n_fits'])\n",
    "    \n",
    "    return model"
   ]
  },
  {
   "cell_type": "code",
   "execution_count": 7,
   "metadata": {},
   "outputs": [
    {
     "name": "stderr",
     "output_type": "stream",
     "text": [
      "/home/nurlan/anaconda3/lib/python3.6/site-packages/tsfresh/feature_extraction/settings.py:106: DeprecationWarning: inspect.getargspec() is deprecated, use inspect.signature() or inspect.getfullargspec()\n",
      "  if callable(func) and hasattr(func, \"fctype\") and len(getargspec(func).args) == 1:\n"
     ]
    }
   ],
   "source": [
    "my_dict_of_features = MinimalFCParameters()"
   ]
  },
  {
   "cell_type": "code",
   "execution_count": 8,
   "metadata": {},
   "outputs": [],
   "source": [
    "def fit_rolling_pyramid(y_train, max_timeshift = 10, rolling_direction = 1, params = None, my_dict_of_features=None):\n",
    "\n",
    "    df_shift, y = make_forecasting_frame(y_train, kind = \"price\", \n",
    "                        max_timeshift = max_timeshift, rolling_direction = rolling_direction)\n",
    "    X_train = extract_features(df_shift, column_id=\"id\", column_sort=\"time\", \n",
    "                                    column_value=\"value\", impute_function=impute, show_warnings=False,\n",
    "                                  default_fc_parameters = my_dict_of_features,disable_progressbar = True)\n",
    "    X_train.dropna(axis = 1, inplace = True)\n",
    "    exog_df = X_train[:-1]\n",
    "    X_train = np.array(X_train)\n",
    "    ts = y_train[2:]\n",
    "    exog = X_train[:-1]\n",
    "    last_exog = X_train[-1]\n",
    "    model = fit_pyramid(data_train=ts, exog_train=exog,params = params)\n",
    "    predict_in_sample = model.predict_in_sample(exogenous = exog)\n",
    "    return model, last_exog, predict_in_sample, exog_df"
   ]
  },
  {
   "cell_type": "code",
   "execution_count": 9,
   "metadata": {},
   "outputs": [],
   "source": [
    " def predict_rolling_pyramid_2(model, last_exog, y_train, forecast_horizont, \n",
    "                               max_timeshift = 10, rolling_direction = 1, my_dict_of_features =None):\n",
    "        \n",
    "        \"\"\"\n",
    "        Predicting values on the next forecast_horizont values\n",
    "        \"\"\"\n",
    "        predictions = np.empty(forecast_horizont)\n",
    "        predictions[0] = model.predict(n_periods = 1, exogenous = last_exog.reshape(1,-1))\n",
    "        merged_exog = last_exog.reshape(1,-1)\n",
    "        for it in range(1,forecast_horizont):\n",
    "            \n",
    "            y_train_tmp = np.append(y_train, predictions[it-1])\n",
    "            df_shift, y = make_forecasting_frame(y_train_tmp, kind = \"price\", \n",
    "                            max_timeshift = max_timeshift, rolling_direction = rolling_direction)\n",
    "        \n",
    "            X_train = extract_features(df_shift, default_fc_parameters = my_dict_of_features,\n",
    "                                       column_id=\"id\", column_sort=\"time\", disable_progressbar = True,\n",
    "                    column_value=\"value\", impute_function=impute, show_warnings=False)\n",
    "        \n",
    "            X_train.dropna(axis = 1, inplace = True)\n",
    "            X_train = np.array(X_train)\n",
    "            #print (X_train.shape)\n",
    "            ts_tmp =y_train_tmp[2:]\n",
    "            exog_tmp = X_train[-1].reshape(1,-1)\n",
    "            merged_exog = np.vstack((merged_exog, exog_tmp))\n",
    "            \n",
    "            y_pred = model.predict(n_periods = it+1, exogenous = merged_exog)\n",
    "        \n",
    "        predictions = y_pred\n",
    "        \n",
    "        return predictions"
   ]
  },
  {
   "cell_type": "code",
   "execution_count": 10,
   "metadata": {},
   "outputs": [
    {
     "name": "stdout",
     "output_type": "stream",
     "text": [
      "Fit ARIMA: order=(0, 0, 0) seasonal_order=(0, 0, 0, 12); AIC=nan, BIC=nan, Fit time=nan seconds\n",
      "Fit ARIMA: order=(1, 0, 0) seasonal_order=(1, 0, 0, 12); AIC=950.156, BIC=983.404, Fit time=2.133 seconds\n",
      "Fit ARIMA: order=(0, 0, 1) seasonal_order=(0, 0, 1, 12); AIC=1090.610, BIC=1123.858, Fit time=1.277 seconds\n",
      "Fit ARIMA: order=(1, 0, 0) seasonal_order=(0, 0, 0, 12); AIC=1097.598, BIC=1128.076, Fit time=0.478 seconds\n",
      "Fit ARIMA: order=(1, 0, 0) seasonal_order=(2, 0, 0, 12); AIC=957.702, BIC=993.721, Fit time=4.491 seconds\n",
      "Fit ARIMA: order=(1, 0, 0) seasonal_order=(1, 0, 1, 12); AIC=968.972, BIC=1004.991, Fit time=1.753 seconds\n",
      "Fit ARIMA: order=(1, 0, 0) seasonal_order=(2, 0, 1, 12); AIC=969.684, BIC=1008.474, Fit time=3.380 seconds\n",
      "Fit ARIMA: order=(0, 0, 0) seasonal_order=(1, 0, 0, 12); AIC=997.708, BIC=1028.185, Fit time=2.027 seconds\n",
      "Fit ARIMA: order=(2, 0, 0) seasonal_order=(1, 0, 0, 12); AIC=968.315, BIC=1004.333, Fit time=2.053 seconds\n",
      "Fit ARIMA: order=(1, 0, 1) seasonal_order=(1, 0, 0, 12); AIC=988.739, BIC=1024.758, Fit time=1.728 seconds\n",
      "Fit ARIMA: order=(2, 0, 1) seasonal_order=(1, 0, 0, 12); AIC=nan, BIC=nan, Fit time=nan seconds\n",
      "Total fit time: 19.407 seconds\n"
     ]
    }
   ],
   "source": [
    "model, last, predict_in_sample, Exog = fit_rolling_pyramid(y_train=data_train, params=params,\n",
    "                                                           my_dict_of_features=my_dict_of_features)"
   ]
  },
  {
   "cell_type": "code",
   "execution_count": 79,
   "metadata": {
    "scrolled": true
   },
   "outputs": [
    {
     "data": {
      "text/html": [
       "<table class=\"simpletable\">\n",
       "<caption>Statespace Model Results</caption>\n",
       "<tr>\n",
       "  <th>Dep. Variable:</th>                  <td>y</td>               <th>  No. Observations:  </th>    <td>118</td>  \n",
       "</tr>\n",
       "<tr>\n",
       "  <th>Model:</th>           <td>SARIMAX(1, 0, 0)x(2, 0, 0, 12)</td> <th>  Log Likelihood     </th> <td>-480.050</td>\n",
       "</tr>\n",
       "<tr>\n",
       "  <th>Date:</th>                   <td>Tue, 24 Jul 2018</td>        <th>  AIC                </th>  <td>990.099</td>\n",
       "</tr>\n",
       "<tr>\n",
       "  <th>Time:</th>                       <td>18:10:22</td>            <th>  BIC                </th> <td>1031.660</td>\n",
       "</tr>\n",
       "<tr>\n",
       "  <th>Sample:</th>                         <td>0</td>               <th>  HQIC               </th> <td>1006.974</td>\n",
       "</tr>\n",
       "<tr>\n",
       "  <th></th>                             <td> - 118</td>             <th>                     </th>     <td> </td>   \n",
       "</tr>\n",
       "<tr>\n",
       "  <th>Covariance Type:</th>               <td>opg</td>              <th>                     </th>     <td> </td>   \n",
       "</tr>\n",
       "</table>\n",
       "<table class=\"simpletable\">\n",
       "<tr>\n",
       "      <td></td>         <th>coef</th>     <th>std err</th>      <th>z</th>      <th>P>|z|</th>  <th>[0.025</th>    <th>0.975]</th>  \n",
       "</tr>\n",
       "<tr>\n",
       "  <th>intercept</th> <td>    1.3523</td> <td>    1.561</td> <td>    0.866</td> <td> 0.386</td> <td>   -1.707</td> <td>    4.412</td>\n",
       "</tr>\n",
       "<tr>\n",
       "  <th>x1</th>        <td>    0.0677</td> <td>    0.096</td> <td>    0.704</td> <td> 0.481</td> <td>   -0.121</td> <td>    0.256</td>\n",
       "</tr>\n",
       "<tr>\n",
       "  <th>x2</th>        <td>   23.6855</td> <td>    2.984</td> <td>    7.937</td> <td> 0.000</td> <td>   17.837</td> <td>   29.534</td>\n",
       "</tr>\n",
       "<tr>\n",
       "  <th>x3</th>        <td>   23.6855</td> <td>    2.984</td> <td>    7.937</td> <td> 0.000</td> <td>   17.837</td> <td>   29.534</td>\n",
       "</tr>\n",
       "<tr>\n",
       "  <th>x4</th>        <td>   -4.6424</td> <td>    1.912</td> <td>   -2.429</td> <td> 0.015</td> <td>   -8.389</td> <td>   -0.896</td>\n",
       "</tr>\n",
       "<tr>\n",
       "  <th>x5</th>        <td>    0.0082</td> <td>    0.059</td> <td>    0.139</td> <td> 0.889</td> <td>   -0.107</td> <td>    0.124</td>\n",
       "</tr>\n",
       "<tr>\n",
       "  <th>x6</th>        <td>    1.1218</td> <td>    2.566</td> <td>    0.437</td> <td> 0.662</td> <td>   -3.908</td> <td>    6.151</td>\n",
       "</tr>\n",
       "<tr>\n",
       "  <th>x7</th>        <td>    0.7941</td> <td>    0.128</td> <td>    6.207</td> <td> 0.000</td> <td>    0.543</td> <td>    1.045</td>\n",
       "</tr>\n",
       "<tr>\n",
       "  <th>const</th>     <td>         0</td> <td> 9175.121</td> <td>        0</td> <td> 1.000</td> <td> -1.8e+04</td> <td>  1.8e+04</td>\n",
       "</tr>\n",
       "<tr>\n",
       "  <th>x8</th>        <td>   -1.8901</td> <td>    6.203</td> <td>   -0.305</td> <td> 0.761</td> <td>  -14.048</td> <td>   10.268</td>\n",
       "</tr>\n",
       "<tr>\n",
       "  <th>x9</th>        <td>   -0.0033</td> <td>    0.001</td> <td>   -2.383</td> <td> 0.017</td> <td>   -0.006</td> <td>   -0.001</td>\n",
       "</tr>\n",
       "<tr>\n",
       "  <th>ar.L1</th>     <td>    0.6868</td> <td>    0.096</td> <td>    7.141</td> <td> 0.000</td> <td>    0.498</td> <td>    0.875</td>\n",
       "</tr>\n",
       "<tr>\n",
       "  <th>ar.S.L12</th>  <td>    0.3657</td> <td>    0.086</td> <td>    4.271</td> <td> 0.000</td> <td>    0.198</td> <td>    0.534</td>\n",
       "</tr>\n",
       "<tr>\n",
       "  <th>ar.S.L24</th>  <td>    0.5638</td> <td>    0.094</td> <td>    6.019</td> <td> 0.000</td> <td>    0.380</td> <td>    0.747</td>\n",
       "</tr>\n",
       "<tr>\n",
       "  <th>sigma2</th>    <td>  168.8547</td> <td>   34.230</td> <td>    4.933</td> <td> 0.000</td> <td>  101.764</td> <td>  235.945</td>\n",
       "</tr>\n",
       "</table>\n",
       "<table class=\"simpletable\">\n",
       "<tr>\n",
       "  <th>Ljung-Box (Q):</th>          <td>47.22</td> <th>  Jarque-Bera (JB):  </th> <td>3.98</td>\n",
       "</tr>\n",
       "<tr>\n",
       "  <th>Prob(Q):</th>                <td>0.20</td>  <th>  Prob(JB):          </th> <td>0.14</td>\n",
       "</tr>\n",
       "<tr>\n",
       "  <th>Heteroskedasticity (H):</th> <td>1.27</td>  <th>  Skew:              </th> <td>0.43</td>\n",
       "</tr>\n",
       "<tr>\n",
       "  <th>Prob(H) (two-sided):</th>    <td>0.46</td>  <th>  Kurtosis:          </th> <td>3.27</td>\n",
       "</tr>\n",
       "</table><br/><br/>Warnings:<br/>[1] Covariance matrix calculated using the outer product of gradients (complex-step).<br/>[2] Covariance matrix is singular or near-singular, with condition number 1.34e+23. Standard errors may be unstable."
      ],
      "text/plain": [
       "<class 'statsmodels.iolib.summary.Summary'>\n",
       "\"\"\"\n",
       "                                 Statespace Model Results                                 \n",
       "==========================================================================================\n",
       "Dep. Variable:                                  y   No. Observations:                  118\n",
       "Model:             SARIMAX(1, 0, 0)x(2, 0, 0, 12)   Log Likelihood                -480.050\n",
       "Date:                            Tue, 24 Jul 2018   AIC                            990.099\n",
       "Time:                                    18:10:22   BIC                           1031.660\n",
       "Sample:                                         0   HQIC                          1006.974\n",
       "                                            - 118                                         \n",
       "Covariance Type:                              opg                                         \n",
       "==============================================================================\n",
       "                 coef    std err          z      P>|z|      [0.025      0.975]\n",
       "------------------------------------------------------------------------------\n",
       "intercept      1.3523      1.561      0.866      0.386      -1.707       4.412\n",
       "x1             0.0677      0.096      0.704      0.481      -0.121       0.256\n",
       "x2            23.6855      2.984      7.937      0.000      17.837      29.534\n",
       "x3            23.6855      2.984      7.937      0.000      17.837      29.534\n",
       "x4            -4.6424      1.912     -2.429      0.015      -8.389      -0.896\n",
       "x5             0.0082      0.059      0.139      0.889      -0.107       0.124\n",
       "x6             1.1218      2.566      0.437      0.662      -3.908       6.151\n",
       "x7             0.7941      0.128      6.207      0.000       0.543       1.045\n",
       "const               0   9175.121          0      1.000    -1.8e+04     1.8e+04\n",
       "x8            -1.8901      6.203     -0.305      0.761     -14.048      10.268\n",
       "x9            -0.0033      0.001     -2.383      0.017      -0.006      -0.001\n",
       "ar.L1          0.6868      0.096      7.141      0.000       0.498       0.875\n",
       "ar.S.L12       0.3657      0.086      4.271      0.000       0.198       0.534\n",
       "ar.S.L24       0.5638      0.094      6.019      0.000       0.380       0.747\n",
       "sigma2       168.8547     34.230      4.933      0.000     101.764     235.945\n",
       "===================================================================================\n",
       "Ljung-Box (Q):                       47.22   Jarque-Bera (JB):                 3.98\n",
       "Prob(Q):                              0.20   Prob(JB):                         0.14\n",
       "Heteroskedasticity (H):               1.27   Skew:                             0.43\n",
       "Prob(H) (two-sided):                  0.46   Kurtosis:                         3.27\n",
       "===================================================================================\n",
       "\n",
       "Warnings:\n",
       "[1] Covariance matrix calculated using the outer product of gradients (complex-step).\n",
       "[2] Covariance matrix is singular or near-singular, with condition number 1.34e+23. Standard errors may be unstable.\n",
       "\"\"\""
      ]
     },
     "execution_count": 79,
     "metadata": {},
     "output_type": "execute_result"
    }
   ],
   "source": [
    "model.summary()"
   ]
  },
  {
   "cell_type": "code",
   "execution_count": 12,
   "metadata": {},
   "outputs": [],
   "source": [
    "%%capture\n",
    "predictions = predict_rolling_pyramid_2(model,last,data_train,24, my_dict_of_features=my_dict_of_features)"
   ]
  },
  {
   "cell_type": "code",
   "execution_count": 13,
   "metadata": {},
   "outputs": [
    {
     "data": {
      "text/plain": [
       "array([339.97966619, 312.4355693 , 357.24526708, 354.44203616,\n",
       "       370.87301216, 436.81011414, 461.15803737, 471.63131839,\n",
       "       388.08931   , 368.00967834, 314.26227413, 333.93429003,\n",
       "       343.0639035 , 309.08400863, 353.15343963, 350.60201665,\n",
       "       366.88213686, 431.63411311, 455.66332951, 466.10607537,\n",
       "       384.49382616, 365.01852713, 312.57663305, 332.0209995 ])"
      ]
     },
     "execution_count": 13,
     "metadata": {},
     "output_type": "execute_result"
    }
   ],
   "source": [
    "predictions"
   ]
  },
  {
   "cell_type": "code",
   "execution_count": 14,
   "metadata": {},
   "outputs": [
    {
     "data": {
      "image/png": "[encoded data removed]",
      "text/plain": [
       "<matplotlib.figure.Figure at 0x7fd96829db38>"
      ]
     },
     "metadata": {},
     "output_type": "display_data"
    }
   ],
   "source": [
    "plot_results(data,np.concatenate([data[:4],predict_in_sample[1:]]),predictions,data_test)"
   ]
  },
  {
   "cell_type": "code",
   "execution_count": null,
   "metadata": {},
   "outputs": [],
   "source": []
  }
 ],
 "metadata": {
  "kernelspec": {
   "display_name": "Python 3",
   "language": "python",
   "name": "python3"
  },
  "language_info": {
   "codemirror_mode": {
    "name": "ipython",
    "version": 3
   },
   "file_extension": ".py",
   "mimetype": "text/x-python",
   "name": "python",
   "nbconvert_exporter": "python",
   "pygments_lexer": "ipython3",
   "version": "3.6.4"
  }
 },
 "nbformat": 4,
 "nbformat_minor": 2
}
