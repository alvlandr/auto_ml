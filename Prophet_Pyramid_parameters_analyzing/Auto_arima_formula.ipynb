{
 "cells": [
  {
   "cell_type": "code",
   "execution_count": 1,
   "metadata": {},
   "outputs": [],
   "source": [
    "import pandas as pd\n",
    "import numpy as np\n",
    "import math\n",
    "import time\n",
    "from tqdm import tqdm\n",
    "\n",
    "import matplotlib.pyplot as plt\n",
    "%matplotlib inline\n",
    "\n",
    "import seaborn as sns\n",
    "sns.set_style('whitegrid')\n",
    "\n",
    "from fbprophet import Prophet\n",
    "from pyramid.arima import auto_arima\n",
    "import statsmodels.api as sm\n",
    "from sklearn.metrics import mean_absolute_error\n",
    "\n",
    "\n",
    "def mean_absolute_percentage_error(y_true, y_pred): \n",
    "    return np.mean(np.abs((y_true - y_pred) / y_true))"
   ]
  },
  {
   "cell_type": "markdown",
   "metadata": {},
   "source": [
    "# Plotting functions"
   ]
  },
  {
   "cell_type": "code",
   "execution_count": 2,
   "metadata": {},
   "outputs": [],
   "source": [
    "def plotting_features(exog, mode):\n",
    "    \"\"\"\n",
    "    plotting features\n",
    "    \"\"\"\n",
    "    \n",
    "    if mode == 'prophet':\n",
    "        Exog = exog.values\n",
    "        \n",
    "    elif mode == 'pyramid':\n",
    "        Exog = exog\n",
    "\n",
    "    else:\n",
    "        print(\"check mode\")\n",
    "        return None\n",
    "    \n",
    "    box = dict(facecolor='yellow', pad=5, alpha=0.2)\n",
    "\n",
    "    fig, ((ax1, ax2), (ax3, ax4)) = plt.subplots(2, 2)\n",
    "    \n",
    "    #left  = 0.125  # the left side of the subplots of the figure\n",
    "    #right = 0.9    # the right side of the subplots of the figure\n",
    "    #bottom = 0.1   # the bottom of the subplots of the figure\n",
    "    #top = 0.9      # the top of the subplots of the figure\n",
    "    #wspace = 0.2   # the amount of width reserved for blank space between subplots\n",
    "    #hspace = 0.2   # the amount of height reserved for white space between subplots\n",
    "    \n",
    "    fig.subplots_adjust(top=2, bottom=1,  right=2, left=0, wspace=0.6)\n",
    "    \n",
    "\n",
    "    ax1.plot(Time,Exog[:,0])\n",
    "    ax1.set_ylabel('exog_1', bbox=box)\n",
    "\n",
    "\n",
    "    ax3.set_ylabel('exog_2',bbox=box)\n",
    "    ax3.plot(Time,Exog[:,1])\n",
    "\n",
    "    labelx = -0.3  # axes coords\n",
    "\n",
    "    ax2.plot(Time,Exog[:,2])\n",
    "    ax2.set_ylabel('exog_3', bbox=box)\n",
    "    ax2.yaxis.set_label_coords(labelx, 0.5)\n",
    "\n",
    "\n",
    "    ax4.plot(Time,Exog[:,3])\n",
    "    ax4.set_ylabel('exog_4', bbox=box)\n",
    "    ax4.yaxis.set_label_coords(labelx, 0.5)\n",
    "\n",
    "    plt.show()\n",
    "    \n",
    "    pass"
   ]
  },
  {
   "cell_type": "code",
   "execution_count": 3,
   "metadata": {},
   "outputs": [],
   "source": [
    "def plotting_time_series(y_without_lags, y_with_lags, mode):\n",
    "    \"\"\"\n",
    "    Plot two time series\n",
    "    \"\"\"\n",
    "    if mode == 'prophet':\n",
    "        ts_without_lags = data_without_lags[\"y\"].values\n",
    "        ts_with_lags = data_with_lags[\"y\"].values\n",
    "        \n",
    "    elif mode == 'pyramid':\n",
    "        ts_without_lags = y_without_lags\n",
    "        ts_with_lags = y_with_lags\n",
    "        \n",
    "    else:\n",
    "        print(\"Check mode\")\n",
    "    \n",
    "    box = dict(facecolor='yellow', pad=5, alpha=0.2)\n",
    "\n",
    "    fig, ((ax1, ax2)) = plt.subplots(2, 1, figsize = (3, 7))\n",
    "    fig.subplots_adjust(top = 2, bottom = 1,  right = 2, left = 0, hspace = 0.2)\n",
    "\n",
    "    ax1.plot(Time, ts_without_lags)\n",
    "    ax1.set_ylabel(\"value\", bbox = box)\n",
    "    ax1.set_title(\"y without lags\", bbox = box)\n",
    "\n",
    "\n",
    "    ax2.set_ylabel(\"value\", bbox = box)\n",
    "    ax2.plot(Time, ts_with_lags)\n",
    "    ax2.set_title(\"y with lags\", bbox = box)\n",
    "\n",
    "    #fig.tight_layout() # Or equivalently,  \"plt.tight_layout()\"\n",
    "\n",
    "    plt.show()\n",
    "    \n",
    "    pass"
   ]
  },
  {
   "cell_type": "code",
   "execution_count": 4,
   "metadata": {},
   "outputs": [],
   "source": [
    "def plot_results(time_series, Time, train_prediction, test_prediction, y_test, mode, description):\n",
    "    \n",
    "    \"\"\"\n",
    "    Plots the original time series and it prediction\n",
    "    \"\"\"\n",
    "    if mode == 'prophet':\n",
    "        ts = time_series[\"y\"].values\n",
    "        train_pr = train_prediction[\"yhat\"].values\n",
    "        test_pr = test_prediction[\"yhat\"].values\n",
    "    \n",
    "    elif mode == 'pyramid':\n",
    "        train_pr = train_prediction\n",
    "        test_pr = test_prediction\n",
    "        ts = time_series\n",
    "        \n",
    "    \n",
    "    else:\n",
    "        print(\"Check mode\")\n",
    "        return None\n",
    "    \n",
    "    plt.figure(figsize=(10,7))\n",
    "\n",
    "    plt.plot(Time, ts, label = \"true\")\n",
    "    \n",
    "    plt.plot(Time[start_point+1: end_point], np.concatenate([train_pr, test_pr])[1:], \n",
    "         label = \"predictions, \\n MAPE = {0}, MAE = {1}\".format(\n",
    "             np.round(mean_absolute_percentage_error(test_pr, y_test), 3),\n",
    "             np.round(mean_absolute_error(test_pr, y_test), 3)))\n",
    "\n",
    "\n",
    "    plt.axvline(x=middle_point, label = \"train-test-split\", color = 'r')\n",
    "\n",
    "    plt.xlabel(\"time\", size = 20)\n",
    "    plt.ylabel(\"value\", size = 20)\n",
    "    plt.title(\"{}\".format(description), size = 20)\n",
    "\n",
    "\n",
    "    plt.legend(fontsize = 15)\n",
    "\n",
    "    plt.show()\n",
    "    pass"
   ]
  },
  {
   "cell_type": "markdown",
   "metadata": {},
   "source": [
    "# Extra functions"
   ]
  },
  {
   "cell_type": "code",
   "execution_count": 5,
   "metadata": {},
   "outputs": [],
   "source": [
    "def generate_problem_synthetic_2_AR(n_elements, mode = 'prophet', seed = 123):\n",
    "    \"\"\"\n",
    "    Generates time-series, Exog, Time\n",
    "    \"\"\"\n",
    "    # random seed\n",
    "    np.random.seed(seed)\n",
    "    \n",
    "    Time = np.arange(0, n_elements)\n",
    "    \n",
    "    # generate exog features\n",
    "    Exog = np.concatenate([f_1(Time,2,1,1,0.1,0), \n",
    "                           f_1(Time,1,0.5,0.2,-0.1,0.01), \n",
    "                           f_1(Time,1,0.6,1,0.5,0.02), \n",
    "                           f_1(Time,1,0.7,0.5,0.5,-0.02) + 10], axis = 1)\n",
    "    \n",
    "    # generate time-series\n",
    "    y_without_lags = generate_ts_1(Exog)\n",
    "    \n",
    "    y_with_lags = generate_ts_2(Exog)\n",
    "    \n",
    "    \n",
    "    if mode == 'prophet':\n",
    "        \n",
    "        # generate data frame\n",
    "        data_without_lags = pd.DataFrame(y_without_lags)\n",
    "        data_without_lags.columns = [\"y\"]\n",
    "        data_without_lags[\"ds\"] = pd.date_range(start='1/1/2018', periods=len(data_without_lags), freq='M')\n",
    "\n",
    "        data_with_lags = pd.DataFrame(y_with_lags)\n",
    "        data_with_lags.columns = [\"y\"]\n",
    "        data_with_lags[\"ds\"] = pd.date_range(start='1/1/2018', periods=len(data_with_lags), freq='M')\n",
    "\n",
    "        exog = pd.DataFrame(Exog)\n",
    "        exog.columns = [\"f1\", \"f2\", \"f3\", \"f4\"]\n",
    "        exog[\"ds\"] = pd.date_range(start='1/1/2018', periods=len(exog), freq='M')\n",
    "    \n",
    "        return (data_without_lags, data_with_lags, exog, Time)\n",
    "    \n",
    "    elif mode == 'pyramid':\n",
    "        return (y_without_lags, y_with_lags, Exog, Time)\n",
    "    \n",
    "    else:\n",
    "        print(\"Check mode!\")\n",
    "        return None"
   ]
  },
  {
   "cell_type": "code",
   "execution_count": 6,
   "metadata": {},
   "outputs": [],
   "source": [
    "def train_test_split(data, start_point, middle_point, end_point, mode, exog_flag = False):\n",
    "    \"\"\"\n",
    "    Make train-test-split using input parameters\n",
    "    \"\"\"\n",
    "    \n",
    "    if mode == 'prophet':\n",
    "        data_train = data.iloc[start_point: middle_point].copy()\n",
    "        data_test = data.iloc[middle_point: end_point].copy()\n",
    "        \n",
    "        \n",
    "        if exog_flag == False:\n",
    "            \n",
    "            y_test = data_test[\"y\"].values\n",
    "            del data_test[\"y\"]\n",
    "            \n",
    "            return data_train, data_test, y_test\n",
    "        \n",
    "        else:\n",
    "            \n",
    "            return data_train, data_test\n",
    "    \n",
    "    elif mode == 'pyramid':\n",
    "        \n",
    "        data_train = data[start_point: middle_point]\n",
    "        data_test = data[middle_point: end_point]\n",
    "        \n",
    "        if exog_flag == False:\n",
    "            return data_train, data_test, data_test\n",
    "        else:\n",
    "            return data_train, data_test\n",
    "        \n",
    "    else:\n",
    "        print(\"Check mode\")\n",
    "        return None, None, None"
   ]
  },
  {
   "cell_type": "code",
   "execution_count": 7,
   "metadata": {},
   "outputs": [],
   "source": [
    "def Fit(mode, data_train, exog_train = None, params = None):\n",
    "    \n",
    "    \"\"\"\n",
    "    Fit the models\n",
    "    \"\"\"\n",
    "    \n",
    "    if mode == 'prophet':\n",
    "        model = fit_prophet(data_train = data_train, exog_train = exog_train, params = params)\n",
    "        \n",
    "    elif mode == 'pyramid':\n",
    "        model = fit_pyramid(data_train = data_train, exog_train = exog_train, params = params)\n",
    "        \n",
    "    else:\n",
    "        print(\"Check mode\")\n",
    "        model = None\n",
    "        \n",
    "    return model"
   ]
  },
  {
   "cell_type": "code",
   "execution_count": 8,
   "metadata": {},
   "outputs": [],
   "source": [
    "def Predict(mode, model, data_train, data_test, exog_train = None, exog_test = None, params = None):\n",
    "    \"\"\"\n",
    "    Model prediction on train and test\n",
    "    \"\"\"\n",
    "    \n",
    "    if mode == 'prophet':\n",
    "        model = predict_prophet(model = model, data_train = data_train, data_test = data_test, \n",
    "                                exog_train = exog_train, exog_test = exog_test, params = params)\n",
    "        \n",
    "    elif mode == 'pyramid':\n",
    "        model = predict_pyramid(model = model, \n",
    "                                exog_train = exog_train, exog_test = exog_test, params = params)\n",
    "        \n",
    "    else:\n",
    "        print(\"Check mode\")\n",
    "        model = None\n",
    "        \n",
    "    return model"
   ]
  },
  {
   "cell_type": "code",
   "execution_count": 9,
   "metadata": {},
   "outputs": [],
   "source": [
    "def fit_prophet(data_train, exog_train = None, params = None):\n",
    "    \n",
    "    \"\"\"\n",
    "    Method fit for prophet\n",
    "    \"\"\"\n",
    "    \n",
    "    data_train_new = data_train.copy()\n",
    "    \n",
    "    model = Prophet()\n",
    "    \n",
    "    if exog_train is not None:\n",
    "        \n",
    "        data_train_new = pd.merge(data_train_new, exog_train, on = \"ds\")\n",
    "        \n",
    "        model.add_regressor(\"f1\")\n",
    "        model.add_regressor(\"f2\")\n",
    "        model.add_regressor(\"f3\")\n",
    "        model.add_regressor(\"f4\")\n",
    "    \n",
    "    model.fit(data_train_new)\n",
    "    \n",
    "    return model"
   ]
  },
  {
   "cell_type": "code",
   "execution_count": 10,
   "metadata": {},
   "outputs": [],
   "source": [
    "def predict_prophet(model, data_train, data_test, exog_train = None, exog_test = None, params = None):\n",
    "    \"\"\"\n",
    "    Prediction for prophet\n",
    "    \"\"\"\n",
    "    \n",
    "    data_test_new = data_test.copy()\n",
    "    data_train_new = data_train.copy()\n",
    "    \n",
    "    if exog_train is not None:\n",
    "        data_train_new = pd.merge(data_train_new, exog_train, on = \"ds\")\n",
    "        data_test_new = pd.merge(data_test_new, exog_test, on = \"ds\")\n",
    "    \n",
    "    forecast_train = model.predict(data_train_new)\n",
    "    forecast_test = model.predict(data_test_new)\n",
    "    \n",
    "    return forecast_train, forecast_test"
   ]
  },
  {
   "cell_type": "code",
   "execution_count": 11,
   "metadata": {},
   "outputs": [],
   "source": [
    "def fit_pyramid(data_train, exog_train = None, params = None):\n",
    "\n",
    "    \"\"\"\n",
    "    pyramid_mode {\"stepwise\", \"random_search\"}\n",
    "\n",
    "    \"\"\"\n",
    "    \n",
    "    if params['pyramid_mode'] == \"stepwise\":\n",
    "        model = auto_arima(data_train, exogenous=exog_train, start_p=0, start_q=0, max_p=5, max_q=5,\n",
    "        m=params['period'], n_jobs = params['n_jobs'], scoring = params['scoring'], \n",
    "        out_of_sample_size = params['out_of_sample_size'], \n",
    "        start_P=0, start_Q = 0, max_d=2, max_D=2,max_P = 5, max_Q = 5, trace=False,\n",
    "        error_action='ignore', information_criterion = params['ic'], trend = params['trend'],\n",
    "        suppress_warnings=True, stepwise=True)\n",
    "    \n",
    "    elif params['pyramid_mode'] == 'random_search':\n",
    "        model = auto_arima(data_train, exogenous=exog_train, start_p=0, start_q=0, max_p=5, max_q=5, \n",
    "        m=params['period'], scoring = params['scoring'], out_of_sample_size = params['out_of_sample_size'],\n",
    "        start_P=0, start_Q = 0, n_jobs=params['n_jobs'], max_d=2, max_D=2,max_P = 5, max_Q = 5, trace=False,\n",
    "        error_action='ignore', information_criterion = params['ic'], trend = params['trend'],\n",
    "        suppress_warnings=True, seasonal = params['seasonal'],\n",
    "        stepwise=False, random=True, random_state=params['random_state'], n_fits = params['n_fits'])\n",
    "    \n",
    "    return model"
   ]
  },
  {
   "cell_type": "code",
   "execution_count": 12,
   "metadata": {},
   "outputs": [],
   "source": [
    "def predict_pyramid(model, exog_train = None, exog_test = None, params = None):\n",
    "    \n",
    "    predict_in_sample = model.predict_in_sample(exogenous = exog_train, dynamic = params['dynamic'])\n",
    "    predict_out_of_sample = model.predict(n_periods = params['n_periods'], exogenous = exog_test)\n",
    "    \n",
    "    return predict_in_sample, predict_out_of_sample"
   ]
  },
  {
   "cell_type": "markdown",
   "metadata": {},
   "source": [
    "# Data generation functions"
   ]
  },
  {
   "cell_type": "code",
   "execution_count": 13,
   "metadata": {},
   "outputs": [],
   "source": [
    "def f_1(time,start,k,sigma,c,ct,seed = 123):\n",
    "    \"\"\"\n",
    "    time: np.array (len_ts,)\n",
    "    k: parameter of AR(1)\n",
    "    sigma: variance of noise\n",
    "    c: constant part of trend\n",
    "    ct : koef of linear part of trend\n",
    "    \"\"\"\n",
    "    len_ts = time.shape[0]\n",
    "    np.random.seed(seed)\n",
    "    f = np.empty(len_ts)\n",
    "    f[0] = start\n",
    "    w = np.random.normal(size = len_ts, scale = sigma)\n",
    "    for i in range(1,len_ts):\n",
    "        f[i] = k * f[i-1] + c +ct * i + w[i]    \n",
    "    return f.reshape(-1,1)\n",
    "\n",
    "def generate_ts_1(exog):\n",
    "    \"\"\"\n",
    "    exog: np.array (len_ts, k_exog)\n",
    "    \"\"\"\n",
    "    a = (np.ones(exog.shape[1])/exog.shape[1]).reshape(-1,1)\n",
    "    y = exog @ a\n",
    "    return y.squeeze()\n",
    "\n",
    "def generate_ts_2(exog):\n",
    "    y = np.zeros(exog.shape[0])\n",
    "    a = (np.ones(exog.shape[1])/exog.shape[1]).reshape(-1,1)\n",
    "    for i in range(exog.shape[0]):\n",
    "        y[i] = exog[i] @ a\n",
    "        if (y[i-1] != None):\n",
    "            y[i] = y[i] + 1 * y[i-1]\n",
    "        if (y[i-2] != None):\n",
    "            y[i] = y[i] - 0.5  * y[i-2]\n",
    "        if (y[i-3] != None):\n",
    "            y[i] = y[i] + 0.25 * y[i-3]\n",
    "    return y\n",
    "\n",
    "\n",
    "def generate_ts_nonlinear(exog):\n",
    "    \n",
    "    \"\"\"\n",
    "    exog: np.array (len_ts, number_exog), number_exog = 4\n",
    "    \"\"\"\n",
    "    \n",
    "    y = 0.4 * exog[:, 1] * exog[:, 2] + exog[:, 2] / exog[:, 3]\n",
    "    \n",
    "    return y\n",
    "\n",
    "def generate_ts_nonlinear_with_lags(exog):\n",
    "    \n",
    "    \"\"\"\n",
    "    exog: np.array (len_ts, number_exog), number_exog = 4\n",
    "    \"\"\"\n",
    "    \n",
    "    y = 0.4 * exog[:, 0] * exog[:, 2] + exog[:, 1] / exog[:, 2]\n",
    "    \n",
    "    for i in range(2, exog.shape[0]):\n",
    "        \n",
    "        y[i] = y[i] + 0.2 * y[i-1] + 0.2 * y[i-2] + 0.1 * y[i-1]\n",
    "        \n",
    "    return y"
   ]
  },
  {
   "cell_type": "markdown",
   "metadata": {},
   "source": [
    "# Pyramid Approach"
   ]
  },
  {
   "cell_type": "code",
   "execution_count": 14,
   "metadata": {},
   "outputs": [],
   "source": [
    "# Global_mode\n",
    "global_mode = 'pyramid'"
   ]
  },
  {
   "cell_type": "markdown",
   "metadata": {},
   "source": [
    "# Generate problem"
   ]
  },
  {
   "cell_type": "code",
   "execution_count": 15,
   "metadata": {},
   "outputs": [],
   "source": [
    "n_samples = 300\n",
    "data_without_lags, data_with_lags, exog, Time = generate_problem_synthetic_2_AR(n_samples, mode = global_mode, seed = 123)"
   ]
  },
  {
   "cell_type": "markdown",
   "metadata": {},
   "source": [
    "# Train-test-split"
   ]
  },
  {
   "cell_type": "code",
   "execution_count": 16,
   "metadata": {},
   "outputs": [],
   "source": [
    "start_point = 0\n",
    "middle_point = 100\n",
    "end_point = 300\n",
    "\n",
    "data_train_without_lags, data_test_without_lags, y_test_without_lags = train_test_split(data_without_lags, start_point, \n",
    "                                           middle_point, end_point, global_mode, exog_flag = False)\n",
    "\n",
    "data_train_with_lags, data_test_with_lags, y_test_with_lags = train_test_split(data_with_lags, start_point, \n",
    "                                           middle_point, end_point, mode = global_mode, exog_flag = False)\n",
    "\n",
    "\n",
    "exog_train, exog_test = train_test_split(exog, start_point, \n",
    "                                           middle_point, end_point, mode = global_mode, exog_flag = True)"
   ]
  },
  {
   "cell_type": "markdown",
   "metadata": {},
   "source": [
    "# with exog"
   ]
  },
  {
   "cell_type": "code",
   "execution_count": 17,
   "metadata": {},
   "outputs": [],
   "source": [
    "params = {}\n",
    "params['pyramid_mode'] = 'stepwise'\n",
    "params['ic'] = 'oob'\n",
    "params['period'] = 1\n",
    "params['random_state'] = 42\n",
    "params['n_fits'] = 100\n",
    "params['trend'] = 'ct'\n",
    "params['n_jobs'] = 1\n",
    "params['scoring'] = 'mae'\n",
    "params['out_of_sample_size'] = 10\n",
    "params['dynamic'] = False\n",
    "params['n_periods'] = end_point - middle_point"
   ]
  },
  {
   "cell_type": "code",
   "execution_count": 18,
   "metadata": {},
   "outputs": [],
   "source": [
    "model = Fit(mode = global_mode, data_train = data_train_with_lags, exog_train = exog_train, params = params)"
   ]
  },
  {
   "cell_type": "code",
   "execution_count": 19,
   "metadata": {},
   "outputs": [],
   "source": [
    "train_prediction, test_prediction = Predict(mode = global_mode, model = model, \n",
    "                        data_train = data_train_with_lags, data_test = data_test_with_lags,\n",
    "                        exog_train = exog_train, exog_test = exog_test, params = params)"
   ]
  },
  {
   "cell_type": "code",
   "execution_count": 20,
   "metadata": {},
   "outputs": [
    {
     "data": {
      "image/png": "[encoded data removed]",
      "text/plain": [
       "<Figure size 720x504 with 1 Axes>"
      ]
     },
     "metadata": {},
     "output_type": "display_data"
    }
   ],
   "source": [
    "description = \"Pyramid without lags\"\n",
    "plot_results(data_with_lags, Time, train_prediction, test_prediction, y_test_with_lags, global_mode, description)"
   ]
  },
  {
   "cell_type": "code",
   "execution_count": 21,
   "metadata": {},
   "outputs": [
    {
     "data": {
      "text/html": [
       "<table class=\"simpletable\">\n",
       "<caption>Statespace Model Results</caption>\n",
       "<tr>\n",
       "  <th>Dep. Variable:</th>           <td>y</td>        <th>  No. Observations:  </th>    <td>100</td>  \n",
       "</tr>\n",
       "<tr>\n",
       "  <th>Model:</th>           <td>SARIMAX(1, 0, 3)</td> <th>  Log Likelihood     </th>  <td>72.633</td> \n",
       "</tr>\n",
       "<tr>\n",
       "  <th>Date:</th>            <td>Fri, 20 Jul 2018</td> <th>  AIC                </th> <td>-123.266</td>\n",
       "</tr>\n",
       "<tr>\n",
       "  <th>Time:</th>                <td>16:17:41</td>     <th>  BIC                </th>  <td>-94.609</td>\n",
       "</tr>\n",
       "<tr>\n",
       "  <th>Sample:</th>                  <td>0</td>        <th>  HQIC               </th> <td>-111.668</td>\n",
       "</tr>\n",
       "<tr>\n",
       "  <th></th>                      <td> - 100</td>      <th>                     </th>     <td> </td>   \n",
       "</tr>\n",
       "<tr>\n",
       "  <th>Covariance Type:</th>        <td>opg</td>       <th>                     </th>     <td> </td>   \n",
       "</tr>\n",
       "</table>\n",
       "<table class=\"simpletable\">\n",
       "<tr>\n",
       "      <td></td>         <th>coef</th>     <th>std err</th>      <th>z</th>      <th>P>|z|</th>  <th>[0.025</th>    <th>0.975]</th>  \n",
       "</tr>\n",
       "<tr>\n",
       "  <th>intercept</th> <td>   -0.1213</td> <td>    0.360</td> <td>   -0.336</td> <td> 0.737</td> <td>   -0.828</td> <td>    0.585</td>\n",
       "</tr>\n",
       "<tr>\n",
       "  <th>drift</th>     <td>    0.0044</td> <td>    0.006</td> <td>    0.730</td> <td> 0.465</td> <td>   -0.007</td> <td>    0.016</td>\n",
       "</tr>\n",
       "<tr>\n",
       "  <th>x1</th>        <td>    1.8280</td> <td>    0.166</td> <td>   11.005</td> <td> 0.000</td> <td>    1.502</td> <td>    2.154</td>\n",
       "</tr>\n",
       "<tr>\n",
       "  <th>x2</th>        <td>   -3.4512</td> <td>    0.324</td> <td>  -10.659</td> <td> 0.000</td> <td>   -4.086</td> <td>   -2.817</td>\n",
       "</tr>\n",
       "<tr>\n",
       "  <th>x3</th>        <td>   -1.1977</td> <td>    0.410</td> <td>   -2.920</td> <td> 0.004</td> <td>   -2.002</td> <td>   -0.394</td>\n",
       "</tr>\n",
       "<tr>\n",
       "  <th>x4</th>        <td>    1.4796</td> <td>    1.049</td> <td>    1.411</td> <td> 0.158</td> <td>   -0.576</td> <td>    3.535</td>\n",
       "</tr>\n",
       "<tr>\n",
       "  <th>ar.L1</th>     <td>    0.9742</td> <td>    0.032</td> <td>   30.558</td> <td> 0.000</td> <td>    0.912</td> <td>    1.037</td>\n",
       "</tr>\n",
       "<tr>\n",
       "  <th>ma.L1</th>     <td>    2.8102</td> <td>    0.099</td> <td>   28.348</td> <td> 0.000</td> <td>    2.616</td> <td>    3.004</td>\n",
       "</tr>\n",
       "<tr>\n",
       "  <th>ma.L2</th>     <td>    2.6893</td> <td>    0.186</td> <td>   14.423</td> <td> 0.000</td> <td>    2.324</td> <td>    3.055</td>\n",
       "</tr>\n",
       "<tr>\n",
       "  <th>ma.L3</th>     <td>    0.8733</td> <td>    0.088</td> <td>    9.938</td> <td> 0.000</td> <td>    0.701</td> <td>    1.046</td>\n",
       "</tr>\n",
       "<tr>\n",
       "  <th>sigma2</th>    <td>    0.0101</td> <td>    0.002</td> <td>    4.595</td> <td> 0.000</td> <td>    0.006</td> <td>    0.014</td>\n",
       "</tr>\n",
       "</table>\n",
       "<table class=\"simpletable\">\n",
       "<tr>\n",
       "  <th>Ljung-Box (Q):</th>          <td>77.69</td> <th>  Jarque-Bera (JB):  </th> <td>0.69</td>\n",
       "</tr>\n",
       "<tr>\n",
       "  <th>Prob(Q):</th>                <td>0.00</td>  <th>  Prob(JB):          </th> <td>0.71</td>\n",
       "</tr>\n",
       "<tr>\n",
       "  <th>Heteroskedasticity (H):</th> <td>0.35</td>  <th>  Skew:              </th> <td>0.19</td>\n",
       "</tr>\n",
       "<tr>\n",
       "  <th>Prob(H) (two-sided):</th>    <td>0.00</td>  <th>  Kurtosis:          </th> <td>2.86</td>\n",
       "</tr>\n",
       "</table><br/><br/>Warnings:<br/>[1] Covariance matrix calculated using the outer product of gradients (complex-step)."
      ],
      "text/plain": [
       "<class 'statsmodels.iolib.summary.Summary'>\n",
       "\"\"\"\n",
       "                           Statespace Model Results                           \n",
       "==============================================================================\n",
       "Dep. Variable:                      y   No. Observations:                  100\n",
       "Model:               SARIMAX(1, 0, 3)   Log Likelihood                  72.633\n",
       "Date:                Fri, 20 Jul 2018   AIC                           -123.266\n",
       "Time:                        16:17:41   BIC                            -94.609\n",
       "Sample:                             0   HQIC                          -111.668\n",
       "                                - 100                                         \n",
       "Covariance Type:                  opg                                         \n",
       "==============================================================================\n",
       "                 coef    std err          z      P>|z|      [0.025      0.975]\n",
       "------------------------------------------------------------------------------\n",
       "intercept     -0.1213      0.360     -0.336      0.737      -0.828       0.585\n",
       "drift          0.0044      0.006      0.730      0.465      -0.007       0.016\n",
       "x1             1.8280      0.166     11.005      0.000       1.502       2.154\n",
       "x2            -3.4512      0.324    -10.659      0.000      -4.086      -2.817\n",
       "x3            -1.1977      0.410     -2.920      0.004      -2.002      -0.394\n",
       "x4             1.4796      1.049      1.411      0.158      -0.576       3.535\n",
       "ar.L1          0.9742      0.032     30.558      0.000       0.912       1.037\n",
       "ma.L1          2.8102      0.099     28.348      0.000       2.616       3.004\n",
       "ma.L2          2.6893      0.186     14.423      0.000       2.324       3.055\n",
       "ma.L3          0.8733      0.088      9.938      0.000       0.701       1.046\n",
       "sigma2         0.0101      0.002      4.595      0.000       0.006       0.014\n",
       "===================================================================================\n",
       "Ljung-Box (Q):                       77.69   Jarque-Bera (JB):                 0.69\n",
       "Prob(Q):                              0.00   Prob(JB):                         0.71\n",
       "Heteroskedasticity (H):               0.35   Skew:                             0.19\n",
       "Prob(H) (two-sided):                  0.00   Kurtosis:                         2.86\n",
       "===================================================================================\n",
       "\n",
       "Warnings:\n",
       "[1] Covariance matrix calculated using the outer product of gradients (complex-step).\n",
       "\"\"\""
      ]
     },
     "execution_count": 21,
     "metadata": {},
     "output_type": "execute_result"
    }
   ],
   "source": [
    "model.summary()"
   ]
  },
  {
   "cell_type": "code",
   "execution_count": 22,
   "metadata": {},
   "outputs": [],
   "source": [
    "c = model.params()[0]\n",
    "ct = model.params()[1]\n",
    "ex_params = model.params()[2:6]\n",
    "phi_1 = model.params()[6]\n",
    "theta = model.params()[7:10]\n",
    "last_from_train = data_train_with_lags[-1]"
   ]
  },
  {
   "cell_type": "code",
   "execution_count": 91,
   "metadata": {},
   "outputs": [
    {
     "data": {
      "text/plain": [
       "array([-0.12127892,  0.00444863,  1.8279714 , -3.45122926, -1.1977307 ,\n",
       "        1.47960306,  0.97421736,  2.81017019,  2.68934316,  0.87328984,\n",
       "        0.01012048])"
      ]
     },
     "execution_count": 91,
     "metadata": {},
     "output_type": "execute_result"
    }
   ],
   "source": [
    "model.params()"
   ]
  },
  {
   "cell_type": "markdown",
   "metadata": {},
   "source": [
    "$$\n",
    "SARIMAX(1,0,3) \\rightarrow ARMA(1,3)\n",
    "$$\n",
    "$\\Rightarrow$\n",
    "$$\n",
    "y_t = c_0 + c_1t + x_1 Exog^1_t + x_2 Exog^2_t + x_3 Exog^3_t + x_4 Exog^4_t + \\phi_1 y_{t-1} + \\theta_1 \\epsilon_{t-1} + \\theta_2 \\epsilon_{t-2} + \\theta_3 \\epsilon_{t-3} + \\epsilon_t\n",
    "$$\n",
    "$\\Rightarrow$\n",
    "\n",
    "\n",
    "$$\n",
    "y_t = 0.121 + 0.004 t + 1.827 *Exog^1_t - 3.451* Exog^2_t -1.197 *Exog^3_t + 1.479* Exog^4_t + \\\\+0.972 * y_{t-1} + 2.810* \\epsilon_{t-1} + 2.689* \\epsilon_{t-2} + 0.873* \\epsilon_{t-3} + \\epsilon_t\n",
    "$$, where $\\epsilon \\sim \\mathcal{N}(0, 0.010)$"
   ]
  },
  {
   "cell_type": "code",
   "execution_count": 31,
   "metadata": {},
   "outputs": [],
   "source": [
    "def generate_path_from_formula(n_periods = 300):\n",
    "    y = np.empty(n_periods)\n",
    "    y[0] = c+ phi_1 * (last_from_train- ex_params @ exog[-1]) + ex_params @ exog[0]\n",
    "    for i in range(1,300):\n",
    "        y[i] = c + ct * i + phi_1 * (y[i-1] - ex_params @ exog[i-1]) + ex_params @ exog[i]\n",
    "    return y"
   ]
  },
  {
   "cell_type": "code",
   "execution_count": 34,
   "metadata": {},
   "outputs": [],
   "source": [
    "test_prediction_direct = generate_path_from_formula()[100:]"
   ]
  },
  {
   "cell_type": "code",
   "execution_count": null,
   "metadata": {},
   "outputs": [],
   "source": []
  },
  {
   "cell_type": "code",
   "execution_count": 35,
   "metadata": {},
   "outputs": [
    {
     "data": {
      "image/png": "[encoded data removed]",
      "text/plain": [
       "<Figure size 720x504 with 1 Axes>"
      ]
     },
     "metadata": {},
     "output_type": "display_data"
    }
   ],
   "source": [
    "description = \"Pyramid without lags direct prediction\"\n",
    "plot_results(data_with_lags, Time, train_prediction, test_prediction_direct, y_test_with_lags, global_mode, description)"
   ]
  },
  {
   "cell_type": "code",
   "execution_count": 36,
   "metadata": {},
   "outputs": [],
   "source": [
    "direct_ts = exog @ ex_params.T \n",
    "residual = data_with_lags - direct_ts\n",
    "\n",
    "plt.figure(figsize=(10,8))\n",
    "plt.plot(data_with_lags, label = \"true ts\")\n",
    "plt.plot(np.concatenate([ train_prediction, test_prediction]), label = \"forecast by Pyramid\")\n",
    "plt.plot(direct_ts, label = \"LR on exogs\")\n",
    "plt.plot(residual,label = \"residual\")\n",
    "plt.legend(loc=2, prop={'size': 15})\n",
    "plt.axvline(x=100, label = \"train-test-split\", color = 'pink')\n",
    "plt.show()"
   ]
  },
  {
   "cell_type": "code",
   "execution_count": 43,
   "metadata": {},
   "outputs": [],
   "source": [
    "def generate_path_from_formula_without_exog(residual,n_periods = 300):\n",
    "    y = np.empty(n_periods)\n",
    "    y[0] = residual[0]\n",
    "    for i in range(1,100):\n",
    "        y[i] = c + ct * i + phi_1 * residual[i-1]\n",
    "    for i in range(100,300):\n",
    "        y[i] = c + ct * i + phi_1 * y[i-1]\n",
    "    return y"
   ]
  },
  {
   "cell_type": "code",
   "execution_count": 88,
   "metadata": {},
   "outputs": [
    {
     "data": {
      "image/png": "[encoded data removed]",
      "text/plain": [
       "<Figure size 720x576 with 1 Axes>"
      ]
     },
     "metadata": {},
     "output_type": "display_data"
    }
   ],
   "source": [
    "plt.figure(figsize=(10,8))\n",
    "plt.plot(residual, label = \"residual\")\n",
    "plt.plot(generate_path_from_formula_without_exog(residual), label = \"forecast for residual\")\n",
    "plt.legend(loc=2, prop={'size': 15})\n",
    "plt.axvline(x=100, label = \"train-test-split\", color = 'pink')\n",
    "plt.show()"
   ]
  },
  {
   "cell_type": "code",
   "execution_count": null,
   "metadata": {},
   "outputs": [],
   "source": []
  }
 ],
 "metadata": {
  "kernelspec": {
   "display_name": "Python 3",
   "language": "python",
   "name": "python3"
  },
  "language_info": {
   "codemirror_mode": {
    "name": "ipython",
    "version": 3
   },
   "file_extension": ".py",
   "mimetype": "text/x-python",
   "name": "python",
   "nbconvert_exporter": "python",
   "pygments_lexer": "ipython3",
   "version": "3.6.5"
  }
 },
 "nbformat": 4,
 "nbformat_minor": 2
}
