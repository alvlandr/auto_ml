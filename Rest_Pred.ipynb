{
 "cells": [
  {
   "cell_type": "code",
   "execution_count": 30,
   "metadata": {},
   "outputs": [],
   "source": [
    "import pandas as pd\n",
    "import numpy as np\n",
    "import time\n",
    "\n",
    "import matplotlib.pyplot as plt\n",
    "% matplotlib inline"
   ]
  },
  {
   "cell_type": "markdown",
   "metadata": {},
   "source": [
    "# Preprocessing of data"
   ]
  },
  {
   "cell_type": "code",
   "execution_count": null,
   "metadata": {},
   "outputs": [],
   "source": [
    "data_train = pd.read_csv(\"train.csv\")\n",
    "data_test = pd.read_csv(\"test.csv\")\n",
    "\n",
    "data_train.head(5)\n",
    "\n",
    "data_train.shape\n",
    "\n",
    "data_test.head(5)\n",
    "\n",
    "data_test.shape\n",
    "\n",
    "data_train['Day'] = data_train['Open Date'].apply(lambda x: int(x[:2]))\n",
    "data_train['Month'] = data_train['Open Date'].apply(lambda x: int(x[3:5]))\n",
    "data_train['Year'] = data_train['Open Date'].apply(lambda x: int(x[6:]))\n",
    "\n",
    "del data_train['Open Date']\n",
    "\n",
    "data_train.head(5)\n",
    "\n",
    "y_train = data_train['revenue'].copy()\n",
    "\n",
    "X_train = data_train.copy()\n",
    "del X_train['revenue']\n",
    "\n",
    "X_train.head()\n",
    "\n",
    "y_train.head(5)\n",
    "\n",
    "data_test['Day'] = data_test['Open Date'].apply(lambda x: int(x[:2]))\n",
    "data_test['Month'] = data_test['Open Date'].apply(lambda x: int(x[3:5]))\n",
    "data_test['Year'] = data_test['Open Date'].apply(lambda x: int(x[6:]))\n",
    "\n",
    "del data_test['Open Date']\n",
    "\n",
    "data_test.head()\n",
    "\n",
    "X_test = data_test.copy()\n",
    "\n",
    "del X_train['City']\n",
    "del X_test['City']\n",
    "\n",
    "del X_train['City Group']\n",
    "del X_test['City Group']\n",
    "\n",
    "X_train[\"TypeInt\"] = X_train.Type.map({'FC': 0, 'IL': 1, 'DT': 2, 'MB': 3})\n",
    "X_test[\"TypeInt\"] = X_test.Type.map({'FC': 0, 'IL': 1, 'DT': 2, 'MB': 3})\n",
    "\n",
    "del X_train[\"Type\"]"
   ]
  },
  {
   "cell_type": "code",
   "execution_count": 3,
   "metadata": {},
   "outputs": [],
   "source": [
    "del X_test[\"Type\"]"
   ]
  },
  {
   "cell_type": "markdown",
   "metadata": {},
   "source": [
    "# TPOT"
   ]
  },
  {
   "cell_type": "code",
   "execution_count": 26,
   "metadata": {},
   "outputs": [],
   "source": [
    "from tpot import TPOTRegressor"
   ]
  },
  {
   "cell_type": "code",
   "execution_count": 28,
   "metadata": {},
   "outputs": [
    {
     "name": "stdout",
     "output_type": "stream",
     "text": [
      "29 operators have been imported by TPOT.\n"
     ]
    }
   ],
   "source": [
    "model = TPOTRegressor(generations=10, population_size=30, \n",
    "                      offspring_size=10, cv = 5, \n",
    "                      n_jobs = 1, scoring = 'neg_mean_squared_error',\n",
    "                      verbosity = 4)"
   ]
  },
  {
   "cell_type": "code",
   "execution_count": 46,
   "metadata": {
    "scrolled": true
   },
   "outputs": [
    {
     "name": "stderr",
     "output_type": "stream",
     "text": [
      "Optimization Progress:  38%|███▊      | 50/130 [00:15<00:33,  2.42pipeline/s]"
     ]
    },
    {
     "name": "stdout",
     "output_type": "stream",
     "text": [
      "_pre_test decorator: _random_mutation_operator: num_test=0 __init__() got an unexpected keyword argument 'max_depth'\n",
      "_pre_test decorator: _random_mutation_operator: num_test=0 __init__() got an unexpected keyword argument 'max_depth'\n"
     ]
    },
    {
     "name": "stderr",
     "output_type": "stream",
     "text": [
      "Optimization Progress:  55%|█████▍    | 71/130 [00:28<00:47,  1.23pipeline/s]"
     ]
    },
    {
     "name": "stdout",
     "output_type": "stream",
     "text": [
      "Pipeline encountered that has previously been evaluated during the optimization process. Using the score from the previous evaluation.\n"
     ]
    },
    {
     "name": "stderr",
     "output_type": "stream",
     "text": [
      "Optimization Progress:  85%|████████▍ | 110/130 [01:00<00:20,  1.04s/pipeline]"
     ]
    },
    {
     "name": "stdout",
     "output_type": "stream",
     "text": [
      "_pre_test decorator: _random_mutation_operator: num_test=0 Unsupported set of arguments: The combination of penalty='l2' and loss='epsilon_insensitive' are not supported when dual=False, Parameters: penalty='l2', loss='epsilon_insensitive', dual=False\n"
     ]
    },
    {
     "name": "stderr",
     "output_type": "stream",
     "text": [
      "                                                                              \r"
     ]
    },
    {
     "name": "stdout",
     "output_type": "stream",
     "text": [
      "Training time:  78.25010085105896\n"
     ]
    }
   ],
   "source": [
    "start_time = time.time()\n",
    "model.fit(X_train, y_train)\n",
    "print('Training time: ', time.time() - start_time)"
   ]
  },
  {
   "cell_type": "code",
   "execution_count": 47,
   "metadata": {},
   "outputs": [],
   "source": [
    "predictions = model.predict(X_test)"
   ]
  },
  {
   "cell_type": "code",
   "execution_count": 48,
   "metadata": {},
   "outputs": [
    {
     "data": {
      "text/plain": [
       "array([5156722.32216669, 4652795.52006888, 3438344.74925425, ...,\n",
       "       4666090.32193781, 3894997.94631687, 4636119.8256163 ])"
      ]
     },
     "execution_count": 48,
     "metadata": {},
     "output_type": "execute_result"
    }
   ],
   "source": [
    "predictions"
   ]
  },
  {
   "cell_type": "code",
   "execution_count": 50,
   "metadata": {},
   "outputs": [],
   "source": [
    "output = pd.DataFrame({'Id': data_test['Id'], 'Prediction': predictions})\n",
    "output.to_csv('tpot_1.csv', index = False)"
   ]
  },
  {
   "cell_type": "code",
   "execution_count": null,
   "metadata": {},
   "outputs": [],
   "source": []
  }
 ],
 "metadata": {
  "kernelspec": {
   "display_name": "Python 3",
   "language": "python",
   "name": "python3"
  },
  "language_info": {
   "codemirror_mode": {
    "name": "ipython",
    "version": 3
   },
   "file_extension": ".py",
   "mimetype": "text/x-python",
   "name": "python",
   "nbconvert_exporter": "python",
   "pygments_lexer": "ipython3",
   "version": "3.6.5"
  }
 },
 "nbformat": 4,
 "nbformat_minor": 2
}
