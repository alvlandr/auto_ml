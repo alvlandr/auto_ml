{
 "cells": [
  {
   "cell_type": "markdown",
   "metadata": {},
   "source": [
    "# M3 month with exog (full prediction)"
   ]
  },
  {
   "cell_type": "code",
   "execution_count": 53,
   "metadata": {},
   "outputs": [],
   "source": [
    "import numpy as np\n",
    "import pyramid\n",
    "import pandas as pd\n",
    "import math\n",
    "from scipy.stats import norm\n",
    "import statsmodels.api as sm\n",
    "import matplotlib.pyplot as plt\n",
    "from datetime import datetime\n",
    "import requests\n",
    "from io import BytesIO\n",
    "from sklearn import metrics\n",
    "from bokeh.plotting import figure, show, output_notebook\n",
    "from bokeh.models import Legend\n",
    "import pandas as pd\n",
    "from bokeh.models import Span\n",
    "from pyramid.arima import auto_arima"
   ]
  },
  {
   "cell_type": "code",
   "execution_count": 54,
   "metadata": {},
   "outputs": [],
   "source": [
    "def mean_absolute_percentage_error(y_true, y_pred): \n",
    "    return np.mean(np.abs((y_true - y_pred) / y_true)) * 100"
   ]
  },
  {
   "cell_type": "code",
   "execution_count": 55,
   "metadata": {},
   "outputs": [],
   "source": [
    "my_df = pd.read_csv('my_data_frame.csv',index_col=0)"
   ]
  },
  {
   "cell_type": "code",
   "execution_count": 56,
   "metadata": {},
   "outputs": [],
   "source": [
    "train_data = np.array(my_df.iloc[:,6:56]).astype(np.float32).T\n",
    "test_data = np.array(my_df.iloc[:,56:74]).astype(np.float32).T"
   ]
  },
  {
   "cell_type": "code",
   "execution_count": 57,
   "metadata": {},
   "outputs": [],
   "source": [
    "def fitters(train_data, random=True):\n",
    "    N_obs = train_data.shape[0]\n",
    "    N_ts = train_data.shape[1]\n",
    "    models = []\n",
    "    for i in range(N_ts):\n",
    "        indices = np.arange(N_ts)\n",
    "        X = train_data[:-1,indices!=i]\n",
    "        y = train_data[:,i].reshape(-1)\n",
    "        if (random==True):\n",
    "            model = auto_arima(y[1:], exogenous=X,start_p=1, start_q=1, max_p=5, max_q=5, m=12,\n",
    "                    start_P=0, n_jobs=-1, max_d=4, max_D=2,max_P = 2, max_Q = 2, trace=False,\n",
    "                    error_action='ignore',  # don't want to know if an order does not work\n",
    "                    suppress_warnings=True,  # don't want convergence warnings\n",
    "                    stepwise=False, random=True, random_state=42,  # we can fit a random search (not exhaustive)\n",
    "                    n_fits=200)\n",
    "            models.append(model)\n",
    "        else:\n",
    "            model = auto_arima(y[1:], exogenous = X,start_p=1, start_q=1, max_p=5, max_q=5, m=12,\n",
    "                          start_P=0, max_d=4, max_D=2,max_P = 2, max_Q = 2, trace=False,\n",
    "                          error_action='ignore',  # don't want to know if an order does not work\n",
    "                          suppress_warnings=True,  # don't want convergence warnings\n",
    "                          stepwise=True)  # set to stepwise\n",
    "            models.append(model)\n",
    "    return models      "
   ]
  },
  {
   "cell_type": "code",
   "execution_count": 58,
   "metadata": {},
   "outputs": [],
   "source": [
    "def predictions(n_periods,train_data,models):\n",
    "    N_ts = train_data.shape[1]\n",
    "    predictions = np.empty((n_periods,N_ts))\n",
    "    for n in range(n_periods):\n",
    "        prediction = []\n",
    "        indices = np.arange(N_ts)\n",
    "        for i in range(N_ts):\n",
    "            if (n==0):\n",
    "                x = train_data[-1,indices!=i].reshape(-1,N_ts-1)\n",
    "            else:\n",
    "                x = predictions[n-1,indices!=i].reshape(-1,N_ts-1)\n",
    "            prediction.append(models[i].predict(n_periods=1,exogenous = x))\n",
    "        predictions[n] = prediction\n",
    "    return predictions"
   ]
  },
  {
   "cell_type": "code",
   "execution_count": 59,
   "metadata": {},
   "outputs": [],
   "source": [
    "models = fitters(train_data,random=False)"
   ]
  },
  {
   "cell_type": "code",
   "execution_count": 69,
   "metadata": {},
   "outputs": [],
   "source": [
    "predictions_ts = predictions(n_periods=18,train_data=train_data,models=models)"
   ]
  },
  {
   "cell_type": "code",
   "execution_count": 71,
   "metadata": {},
   "outputs": [
    {
     "data": {
      "text/html": [
       "\n",
       "    <div class=\"bk-root\">\n",
       "        <a href=\"https://bokeh.pydata.org\" target=\"_blank\" class=\"bk-logo bk-logo-small bk-logo-notebook\"></a>\n",
       "        <span id=\"f80d982e-b5c1-42c5-a3e2-954d6d7ef465\">Loading BokehJS ...</span>\n",
       "    </div>"
      ]
     },
     "metadata": {},
     "output_type": "display_data"
    },
    {
     "data": {
      "application/javascript": [
       "\n",
       "(function(root) {\n",
       "  function now() {\n",
       "    return new Date();\n",
       "  }\n",
       "\n",
       "  var force = true;\n",
       "\n",
       "  if (typeof (root._bokeh_onload_callbacks) === \"undefined\" || force === true) {\n",
       "    root._bokeh_onload_callbacks = [];\n",
       "    root._bokeh_is_loading = undefined;\n",
       "  }\n",
       "\n",
       "  var JS_MIME_TYPE = 'application/javascript';\n",
       "  var HTML_MIME_TYPE = 'text/html';\n",
       "  var EXEC_MIME_TYPE = 'application/vnd.bokehjs_exec.v0+json';\n",
       "  var CLASS_NAME = 'output_bokeh rendered_html';\n",
       "\n",
       "  /**\n",
       "   * Render data to the DOM node\n",
       "   */\n",
       "  function render(props, node) {\n",
       "    var script = document.createElement(\"script\");\n",
       "    node.appendChild(script);\n",
       "  }\n",
       "\n",
       "  /**\n",
       "   * Handle when an output is cleared or removed\n",
       "   */\n",
       "  function handleClearOutput(event, handle) {\n",
       "    var cell = handle.cell;\n",
       "\n",
       "    var id = cell.output_area._bokeh_element_id;\n",
       "    var server_id = cell.output_area._bokeh_server_id;\n",
       "    // Clean up Bokeh references\n",
       "    if (id !== undefined) {\n",
       "      Bokeh.index[id].model.document.clear();\n",
       "      delete Bokeh.index[id];\n",
       "    }\n",
       "\n",
       "    if (server_id !== undefined) {\n",
       "      // Clean up Bokeh references\n",
       "      var cmd = \"from bokeh.io.state import curstate; print(curstate().uuid_to_server['\" + server_id + \"'].get_sessions()[0].document.roots[0]._id)\";\n",
       "      cell.notebook.kernel.execute(cmd, {\n",
       "        iopub: {\n",
       "          output: function(msg) {\n",
       "            var element_id = msg.content.text.trim();\n",
       "            Bokeh.index[element_id].model.document.clear();\n",
       "            delete Bokeh.index[element_id];\n",
       "          }\n",
       "        }\n",
       "      });\n",
       "      // Destroy server and session\n",
       "      var cmd = \"import bokeh.io.notebook as ion; ion.destroy_server('\" + server_id + \"')\";\n",
       "      cell.notebook.kernel.execute(cmd);\n",
       "    }\n",
       "  }\n",
       "\n",
       "  /**\n",
       "   * Handle when a new output is added\n",
       "   */\n",
       "  function handleAddOutput(event, handle) {\n",
       "    var output_area = handle.output_area;\n",
       "    var output = handle.output;\n",
       "\n",
       "    // limit handleAddOutput to display_data with EXEC_MIME_TYPE content only\n",
       "    if ((output.output_type != \"display_data\") || (!output.data.hasOwnProperty(EXEC_MIME_TYPE))) {\n",
       "      return\n",
       "    }\n",
       "\n",
       "    var toinsert = output_area.element.find(\".\" + CLASS_NAME.split(' ')[0]);\n",
       "\n",
       "    if (output.metadata[EXEC_MIME_TYPE][\"id\"] !== undefined) {\n",
       "      toinsert[toinsert.length - 1].firstChild.textContent = output.data[JS_MIME_TYPE];\n",
       "      // store reference to embed id on output_area\n",
       "      output_area._bokeh_element_id = output.metadata[EXEC_MIME_TYPE][\"id\"];\n",
       "    }\n",
       "    if (output.metadata[EXEC_MIME_TYPE][\"server_id\"] !== undefined) {\n",
       "      var bk_div = document.createElement(\"div\");\n",
       "      bk_div.innerHTML = output.data[HTML_MIME_TYPE];\n",
       "      var script_attrs = bk_div.children[0].attributes;\n",
       "      for (var i = 0; i < script_attrs.length; i++) {\n",
       "        toinsert[toinsert.length - 1].firstChild.setAttribute(script_attrs[i].name, script_attrs[i].value);\n",
       "      }\n",
       "      // store reference to server id on output_area\n",
       "      output_area._bokeh_server_id = output.metadata[EXEC_MIME_TYPE][\"server_id\"];\n",
       "    }\n",
       "  }\n",
       "\n",
       "  function register_renderer(events, OutputArea) {\n",
       "\n",
       "    function append_mime(data, metadata, element) {\n",
       "      // create a DOM node to render to\n",
       "      var toinsert = this.create_output_subarea(\n",
       "        metadata,\n",
       "        CLASS_NAME,\n",
       "        EXEC_MIME_TYPE\n",
       "      );\n",
       "      this.keyboard_manager.register_events(toinsert);\n",
       "      // Render to node\n",
       "      var props = {data: data, metadata: metadata[EXEC_MIME_TYPE]};\n",
       "      render(props, toinsert[toinsert.length - 1]);\n",
       "      element.append(toinsert);\n",
       "      return toinsert\n",
       "    }\n",
       "\n",
       "    /* Handle when an output is cleared or removed */\n",
       "    events.on('clear_output.CodeCell', handleClearOutput);\n",
       "    events.on('delete.Cell', handleClearOutput);\n",
       "\n",
       "    /* Handle when a new output is added */\n",
       "    events.on('output_added.OutputArea', handleAddOutput);\n",
       "\n",
       "    /**\n",
       "     * Register the mime type and append_mime function with output_area\n",
       "     */\n",
       "    OutputArea.prototype.register_mime_type(EXEC_MIME_TYPE, append_mime, {\n",
       "      /* Is output safe? */\n",
       "      safe: true,\n",
       "      /* Index of renderer in `output_area.display_order` */\n",
       "      index: 0\n",
       "    });\n",
       "  }\n",
       "\n",
       "  // register the mime type if in Jupyter Notebook environment and previously unregistered\n",
       "  if (root.Jupyter !== undefined) {\n",
       "    var events = require('base/js/events');\n",
       "    var OutputArea = require('notebook/js/outputarea').OutputArea;\n",
       "\n",
       "    if (OutputArea.prototype.mime_types().indexOf(EXEC_MIME_TYPE) == -1) {\n",
       "      register_renderer(events, OutputArea);\n",
       "    }\n",
       "  }\n",
       "\n",
       "  \n",
       "  if (typeof (root._bokeh_timeout) === \"undefined\" || force === true) {\n",
       "    root._bokeh_timeout = Date.now() + 5000;\n",
       "    root._bokeh_failed_load = false;\n",
       "  }\n",
       "\n",
       "  var NB_LOAD_WARNING = {'data': {'text/html':\n",
       "     \"<div style='background-color: #fdd'>\\n\"+\n",
       "     \"<p>\\n\"+\n",
       "     \"BokehJS does not appear to have successfully loaded. If loading BokehJS from CDN, this \\n\"+\n",
       "     \"may be due to a slow or bad network connection. Possible fixes:\\n\"+\n",
       "     \"</p>\\n\"+\n",
       "     \"<ul>\\n\"+\n",
       "     \"<li>re-rerun `output_notebook()` to attempt to load from CDN again, or</li>\\n\"+\n",
       "     \"<li>use INLINE resources instead, as so:</li>\\n\"+\n",
       "     \"</ul>\\n\"+\n",
       "     \"<code>\\n\"+\n",
       "     \"from bokeh.resources import INLINE\\n\"+\n",
       "     \"output_notebook(resources=INLINE)\\n\"+\n",
       "     \"</code>\\n\"+\n",
       "     \"</div>\"}};\n",
       "\n",
       "  function display_loaded() {\n",
       "    var el = document.getElementById(\"f80d982e-b5c1-42c5-a3e2-954d6d7ef465\");\n",
       "    if (el != null) {\n",
       "      el.textContent = \"BokehJS is loading...\";\n",
       "    }\n",
       "    if (root.Bokeh !== undefined) {\n",
       "      if (el != null) {\n",
       "        el.textContent = \"BokehJS \" + root.Bokeh.version + \" successfully loaded.\";\n",
       "      }\n",
       "    } else if (Date.now() < root._bokeh_timeout) {\n",
       "      setTimeout(display_loaded, 100)\n",
       "    }\n",
       "  }\n",
       "\n",
       "\n",
       "  function run_callbacks() {\n",
       "    try {\n",
       "      root._bokeh_onload_callbacks.forEach(function(callback) { callback() });\n",
       "    }\n",
       "    finally {\n",
       "      delete root._bokeh_onload_callbacks\n",
       "    }\n",
       "    console.info(\"Bokeh: all callbacks have finished\");\n",
       "  }\n",
       "\n",
       "  function load_libs(js_urls, callback) {\n",
       "    root._bokeh_onload_callbacks.push(callback);\n",
       "    if (root._bokeh_is_loading > 0) {\n",
       "      console.log(\"Bokeh: BokehJS is being loaded, scheduling callback at\", now());\n",
       "      return null;\n",
       "    }\n",
       "    if (js_urls == null || js_urls.length === 0) {\n",
       "      run_callbacks();\n",
       "      return null;\n",
       "    }\n",
       "    console.log(\"Bokeh: BokehJS not loaded, scheduling load and callback at\", now());\n",
       "    root._bokeh_is_loading = js_urls.length;\n",
       "    for (var i = 0; i < js_urls.length; i++) {\n",
       "      var url = js_urls[i];\n",
       "      var s = document.createElement('script');\n",
       "      s.src = url;\n",
       "      s.async = false;\n",
       "      s.onreadystatechange = s.onload = function() {\n",
       "        root._bokeh_is_loading--;\n",
       "        if (root._bokeh_is_loading === 0) {\n",
       "          console.log(\"Bokeh: all BokehJS libraries loaded\");\n",
       "          run_callbacks()\n",
       "        }\n",
       "      };\n",
       "      s.onerror = function() {\n",
       "        console.warn(\"failed to load library \" + url);\n",
       "      };\n",
       "      console.log(\"Bokeh: injecting script tag for BokehJS library: \", url);\n",
       "      document.getElementsByTagName(\"head\")[0].appendChild(s);\n",
       "    }\n",
       "  };var element = document.getElementById(\"f80d982e-b5c1-42c5-a3e2-954d6d7ef465\");\n",
       "  if (element == null) {\n",
       "    console.log(\"Bokeh: ERROR: autoload.js configured with elementid 'f80d982e-b5c1-42c5-a3e2-954d6d7ef465' but no matching script tag was found. \")\n",
       "    return false;\n",
       "  }\n",
       "\n",
       "  var js_urls = [\"https://cdn.pydata.org/bokeh/release/bokeh-0.12.16.min.js\", \"https://cdn.pydata.org/bokeh/release/bokeh-widgets-0.12.16.min.js\", \"https://cdn.pydata.org/bokeh/release/bokeh-tables-0.12.16.min.js\", \"https://cdn.pydata.org/bokeh/release/bokeh-gl-0.12.16.min.js\"];\n",
       "\n",
       "  var inline_js = [\n",
       "    function(Bokeh) {\n",
       "      Bokeh.set_log_level(\"info\");\n",
       "    },\n",
       "    \n",
       "    function(Bokeh) {\n",
       "      \n",
       "    },\n",
       "    function(Bokeh) {\n",
       "      console.log(\"Bokeh: injecting CSS: https://cdn.pydata.org/bokeh/release/bokeh-0.12.16.min.css\");\n",
       "      Bokeh.embed.inject_css(\"https://cdn.pydata.org/bokeh/release/bokeh-0.12.16.min.css\");\n",
       "      console.log(\"Bokeh: injecting CSS: https://cdn.pydata.org/bokeh/release/bokeh-widgets-0.12.16.min.css\");\n",
       "      Bokeh.embed.inject_css(\"https://cdn.pydata.org/bokeh/release/bokeh-widgets-0.12.16.min.css\");\n",
       "      console.log(\"Bokeh: injecting CSS: https://cdn.pydata.org/bokeh/release/bokeh-tables-0.12.16.min.css\");\n",
       "      Bokeh.embed.inject_css(\"https://cdn.pydata.org/bokeh/release/bokeh-tables-0.12.16.min.css\");\n",
       "    }\n",
       "  ];\n",
       "\n",
       "  function run_inline_js() {\n",
       "    \n",
       "    if ((root.Bokeh !== undefined) || (force === true)) {\n",
       "      for (var i = 0; i < inline_js.length; i++) {\n",
       "        inline_js[i].call(root, root.Bokeh);\n",
       "      }if (force === true) {\n",
       "        display_loaded();\n",
       "      }} else if (Date.now() < root._bokeh_timeout) {\n",
       "      setTimeout(run_inline_js, 100);\n",
       "    } else if (!root._bokeh_failed_load) {\n",
       "      console.log(\"Bokeh: BokehJS failed to load within specified timeout.\");\n",
       "      root._bokeh_failed_load = true;\n",
       "    } else if (force !== true) {\n",
       "      var cell = $(document.getElementById(\"f80d982e-b5c1-42c5-a3e2-954d6d7ef465\")).parents('.cell').data().cell;\n",
       "      cell.output_area.append_execute_result(NB_LOAD_WARNING)\n",
       "    }\n",
       "\n",
       "  }\n",
       "\n",
       "  if (root._bokeh_is_loading === 0) {\n",
       "    console.log(\"Bokeh: BokehJS loaded, going straight to plotting\");\n",
       "    run_inline_js();\n",
       "  } else {\n",
       "    load_libs(js_urls, function() {\n",
       "      console.log(\"Bokeh: BokehJS plotting callback run at\", now());\n",
       "      run_inline_js();\n",
       "    });\n",
       "  }\n",
       "}(window));"
      ],
      "application/vnd.bokehjs_load.v0+json": "\n(function(root) {\n  function now() {\n    return new Date();\n  }\n\n  var force = true;\n\n  if (typeof (root._bokeh_onload_callbacks) === \"undefined\" || force === true) {\n    root._bokeh_onload_callbacks = [];\n    root._bokeh_is_loading = undefined;\n  }\n\n  \n\n  \n  if (typeof (root._bokeh_timeout) === \"undefined\" || force === true) {\n    root._bokeh_timeout = Date.now() + 5000;\n    root._bokeh_failed_load = false;\n  }\n\n  var NB_LOAD_WARNING = {'data': {'text/html':\n     \"<div style='background-color: #fdd'>\\n\"+\n     \"<p>\\n\"+\n     \"BokehJS does not appear to have successfully loaded. If loading BokehJS from CDN, this \\n\"+\n     \"may be due to a slow or bad network connection. Possible fixes:\\n\"+\n     \"</p>\\n\"+\n     \"<ul>\\n\"+\n     \"<li>re-rerun `output_notebook()` to attempt to load from CDN again, or</li>\\n\"+\n     \"<li>use INLINE resources instead, as so:</li>\\n\"+\n     \"</ul>\\n\"+\n     \"<code>\\n\"+\n     \"from bokeh.resources import INLINE\\n\"+\n     \"output_notebook(resources=INLINE)\\n\"+\n     \"</code>\\n\"+\n     \"</div>\"}};\n\n  function display_loaded() {\n    var el = document.getElementById(\"f80d982e-b5c1-42c5-a3e2-954d6d7ef465\");\n    if (el != null) {\n      el.textContent = \"BokehJS is loading...\";\n    }\n    if (root.Bokeh !== undefined) {\n      if (el != null) {\n        el.textContent = \"BokehJS \" + root.Bokeh.version + \" successfully loaded.\";\n      }\n    } else if (Date.now() < root._bokeh_timeout) {\n      setTimeout(display_loaded, 100)\n    }\n  }\n\n\n  function run_callbacks() {\n    try {\n      root._bokeh_onload_callbacks.forEach(function(callback) { callback() });\n    }\n    finally {\n      delete root._bokeh_onload_callbacks\n    }\n    console.info(\"Bokeh: all callbacks have finished\");\n  }\n\n  function load_libs(js_urls, callback) {\n    root._bokeh_onload_callbacks.push(callback);\n    if (root._bokeh_is_loading > 0) {\n      console.log(\"Bokeh: BokehJS is being loaded, scheduling callback at\", now());\n      return null;\n    }\n    if (js_urls == null || js_urls.length === 0) {\n      run_callbacks();\n      return null;\n    }\n    console.log(\"Bokeh: BokehJS not loaded, scheduling load and callback at\", now());\n    root._bokeh_is_loading = js_urls.length;\n    for (var i = 0; i < js_urls.length; i++) {\n      var url = js_urls[i];\n      var s = document.createElement('script');\n      s.src = url;\n      s.async = false;\n      s.onreadystatechange = s.onload = function() {\n        root._bokeh_is_loading--;\n        if (root._bokeh_is_loading === 0) {\n          console.log(\"Bokeh: all BokehJS libraries loaded\");\n          run_callbacks()\n        }\n      };\n      s.onerror = function() {\n        console.warn(\"failed to load library \" + url);\n      };\n      console.log(\"Bokeh: injecting script tag for BokehJS library: \", url);\n      document.getElementsByTagName(\"head\")[0].appendChild(s);\n    }\n  };var element = document.getElementById(\"f80d982e-b5c1-42c5-a3e2-954d6d7ef465\");\n  if (element == null) {\n    console.log(\"Bokeh: ERROR: autoload.js configured with elementid 'f80d982e-b5c1-42c5-a3e2-954d6d7ef465' but no matching script tag was found. \")\n    return false;\n  }\n\n  var js_urls = [\"https://cdn.pydata.org/bokeh/release/bokeh-0.12.16.min.js\", \"https://cdn.pydata.org/bokeh/release/bokeh-widgets-0.12.16.min.js\", \"https://cdn.pydata.org/bokeh/release/bokeh-tables-0.12.16.min.js\", \"https://cdn.pydata.org/bokeh/release/bokeh-gl-0.12.16.min.js\"];\n\n  var inline_js = [\n    function(Bokeh) {\n      Bokeh.set_log_level(\"info\");\n    },\n    \n    function(Bokeh) {\n      \n    },\n    function(Bokeh) {\n      console.log(\"Bokeh: injecting CSS: https://cdn.pydata.org/bokeh/release/bokeh-0.12.16.min.css\");\n      Bokeh.embed.inject_css(\"https://cdn.pydata.org/bokeh/release/bokeh-0.12.16.min.css\");\n      console.log(\"Bokeh: injecting CSS: https://cdn.pydata.org/bokeh/release/bokeh-widgets-0.12.16.min.css\");\n      Bokeh.embed.inject_css(\"https://cdn.pydata.org/bokeh/release/bokeh-widgets-0.12.16.min.css\");\n      console.log(\"Bokeh: injecting CSS: https://cdn.pydata.org/bokeh/release/bokeh-tables-0.12.16.min.css\");\n      Bokeh.embed.inject_css(\"https://cdn.pydata.org/bokeh/release/bokeh-tables-0.12.16.min.css\");\n    }\n  ];\n\n  function run_inline_js() {\n    \n    if ((root.Bokeh !== undefined) || (force === true)) {\n      for (var i = 0; i < inline_js.length; i++) {\n        inline_js[i].call(root, root.Bokeh);\n      }if (force === true) {\n        display_loaded();\n      }} else if (Date.now() < root._bokeh_timeout) {\n      setTimeout(run_inline_js, 100);\n    } else if (!root._bokeh_failed_load) {\n      console.log(\"Bokeh: BokehJS failed to load within specified timeout.\");\n      root._bokeh_failed_load = true;\n    } else if (force !== true) {\n      var cell = $(document.getElementById(\"f80d982e-b5c1-42c5-a3e2-954d6d7ef465\")).parents('.cell').data().cell;\n      cell.output_area.append_execute_result(NB_LOAD_WARNING)\n    }\n\n  }\n\n  if (root._bokeh_is_loading === 0) {\n    console.log(\"Bokeh: BokehJS loaded, going straight to plotting\");\n    run_inline_js();\n  } else {\n    load_libs(js_urls, function() {\n      console.log(\"Bokeh: BokehJS plotting callback run at\", now());\n      run_inline_js();\n    });\n  }\n}(window));"
     },
     "metadata": {},
     "output_type": "display_data"
    }
   ],
   "source": [
    "output_notebook()\n",
    "\n",
    "def plot_arima(truth, forecasts, title=\"ARIMA\", xaxis_label='Time',\n",
    "               yaxis_label='Value', c1='#A6CEE3', c2='#B2DF8A', \n",
    "               forecast_start=None, **kwargs):\n",
    "    \n",
    "    # make truth and forecasts into pandas series\n",
    "    n_truth = truth.shape[0]\n",
    "    n_forecasts = forecasts.shape[0]\n",
    "    \n",
    "    # always plot truth the same\n",
    "    truth = pd.Series(truth, index=np.arange(truth.shape[0]))\n",
    "    \n",
    "    # if no defined forecast start, start at the end\n",
    "    if forecast_start is None:\n",
    "        idx = np.arange(n_truth, n_truth + n_forecasts)\n",
    "    else:\n",
    "        idx = np.arange(forecast_start, n_forecasts)\n",
    "    forecasts = pd.Series(forecasts, index=idx)\n",
    "    \n",
    "    # set up the plot\n",
    "    p = figure(title=title, plot_height=400, **kwargs)\n",
    "    p.grid.grid_line_alpha=0.3\n",
    "    p.xaxis.axis_label = xaxis_label\n",
    "    p.yaxis.axis_label = yaxis_label\n",
    "    \n",
    "    # add the lines\n",
    "    p.line(forecasts.index, forecasts.values, color=c2, legend='Forecasted')\n",
    "    p.line(truth.index, truth.values, color=c1, legend='Observed')\n",
    "    vline = Span(location=49,dimension='height', line_color='red',line_width=1)\n",
    "    p.renderers.extend([vline])\n",
    "    \n",
    "    return p\n",
    "\n",
    "def plot_arima_comparison(truth_forecast, forecasts, title=\"Comparison\", xaxis_label='Time',\n",
    "               yaxis_label='Value', c1='#A6CEE3', c2='#B2DF8A', \n",
    "               forecast_start=None, **kwargs):\n",
    "    \n",
    "    forecasts = pd.Series(forecasts)\n",
    "    true_forecasts = pd.Series(truth_forecast)\n",
    "    \n",
    "    \n",
    "    # set up the plot\n",
    "    p = figure(title=title, plot_height=600, plot_width=1000, **kwargs)\n",
    "    p.grid.grid_line_alpha=0.3\n",
    "    p.xaxis.axis_label = xaxis_label\n",
    "    p.yaxis.axis_label = yaxis_label\n",
    "    \n",
    "    # add the lines\n",
    "    l1 = p.line(forecasts.index, forecasts.values, color=c2, line_width = 2)\n",
    "    l3 = p.line(true_forecasts.index, true_forecasts.values, color=c1,line_width=3)\n",
    "    \n",
    "\n",
    "    legend = Legend(items=[\n",
    "    ('Forecasted_my_Stepwise'   , [l1]),\n",
    "    #('Forecasted_my_Stepwise_force' , [l7]),\n",
    "    ('Observed' , [l3]),], location=(0, -30))\n",
    "    p.add_layout(legend, 'right')\n",
    "    return p"
   ]
  },
  {
   "cell_type": "code",
   "execution_count": 73,
   "metadata": {},
   "outputs": [
    {
     "data": {
      "text/html": [
       "\n",
       "<div class=\"bk-root\">\n",
       "    <div class=\"bk-plotdiv\" id=\"5dc34f2e-9c45-4e33-8e2b-063edb4dde9d\"></div>\n",
       "</div>"
      ]
     },
     "metadata": {},
     "output_type": "display_data"
    },
    {
     "data": {
      "application/javascript": [
       "(function(root) {\n",
       "  function embed_document(root) {\n",
       "    \n",
       "  var docs_json = {\"4d9b9266-d21b-467e-935a-ee8da0cc66c2\":{\"roots\":{\"references\":[{\"attributes\":{\"below\":[{\"id\":\"c3c2ec7d-1995-46fb-bc68-4db7047b6417\",\"type\":\"LinearAxis\"}],\"left\":[{\"id\":\"77a31cba-1f6a-4e5c-88ee-247fac41b3b4\",\"type\":\"LinearAxis\"}],\"plot_width\":1000,\"renderers\":[{\"id\":\"c3c2ec7d-1995-46fb-bc68-4db7047b6417\",\"type\":\"LinearAxis\"},{\"id\":\"330df191-f829-4a12-9d2a-d3d5d5aab724\",\"type\":\"Grid\"},{\"id\":\"77a31cba-1f6a-4e5c-88ee-247fac41b3b4\",\"type\":\"LinearAxis\"},{\"id\":\"dfad468d-ba71-4342-83b2-4331dace83a4\",\"type\":\"Grid\"},{\"id\":\"0a529b02-f811-4d7c-9855-2230b1ac581d\",\"type\":\"BoxAnnotation\"},{\"id\":\"deb0933b-f369-481a-aece-53249fc89022\",\"type\":\"GlyphRenderer\"},{\"id\":\"b22818fb-57af-4f29-87d7-d7ca47910c1b\",\"type\":\"GlyphRenderer\"},{\"id\":\"90f8bb80-9cb0-43e3-a14b-44ac1aa0b362\",\"type\":\"Legend\"}],\"right\":[{\"id\":\"90f8bb80-9cb0-43e3-a14b-44ac1aa0b362\",\"type\":\"Legend\"}],\"title\":{\"id\":\"730bfd82-a452-4240-a33c-4f87220e411f\",\"type\":\"Title\"},\"toolbar\":{\"id\":\"d8da333c-b2d0-4e7d-a6dd-93ab62405c3b\",\"type\":\"Toolbar\"},\"x_range\":{\"id\":\"4481a7f8-b91d-4fb4-86c0-9eb18d4f91f0\",\"type\":\"DataRange1d\"},\"x_scale\":{\"id\":\"514c26d0-258f-45fe-a062-6503545dcd64\",\"type\":\"LinearScale\"},\"y_range\":{\"id\":\"66e40509-b0cc-4b3e-ac7d-7469ddad93f1\",\"type\":\"DataRange1d\"},\"y_scale\":{\"id\":\"2c81a9ca-7a55-4d6b-b9f0-6c590937a8b3\",\"type\":\"LinearScale\"}},\"id\":\"09fcb8fc-7d05-4613-9ac4-eeef42855466\",\"subtype\":\"Figure\",\"type\":\"Plot\"},{\"attributes\":{\"data_source\":{\"id\":\"0fd656b9-49b8-4f69-8f8b-653c1b28cf22\",\"type\":\"ColumnDataSource\"},\"glyph\":{\"id\":\"0843c380-db02-405e-8826-3b9f22b19ce0\",\"type\":\"Line\"},\"hover_glyph\":null,\"muted_glyph\":null,\"nonselection_glyph\":{\"id\":\"e93b6c5c-4e6e-4ed5-8203-de4635d228bf\",\"type\":\"Line\"},\"selection_glyph\":null,\"view\":{\"id\":\"65fbb4d6-4d5f-40c7-965c-85cac714ce45\",\"type\":\"CDSView\"}},\"id\":\"deb0933b-f369-481a-aece-53249fc89022\",\"type\":\"GlyphRenderer\"},{\"attributes\":{\"active_drag\":\"auto\",\"active_inspect\":\"auto\",\"active_scroll\":\"auto\",\"active_tap\":\"auto\",\"tools\":[{\"id\":\"2069c8ff-5227-4a25-a364-cb5b5f371512\",\"type\":\"PanTool\"},{\"id\":\"b66c212d-b0dd-4cd4-a5c9-b97d0c162684\",\"type\":\"WheelZoomTool\"},{\"id\":\"22305454-48d5-4f6c-bbc3-ab98d5d4cb59\",\"type\":\"BoxZoomTool\"},{\"id\":\"147b346d-d137-4b5d-b507-f5eae04fbaee\",\"type\":\"SaveTool\"},{\"id\":\"f52877e5-41ee-40f3-96ea-86257a32f3cd\",\"type\":\"ResetTool\"},{\"id\":\"89645e6b-285b-442d-bb81-a0ddd8f34826\",\"type\":\"HelpTool\"}]},\"id\":\"d8da333c-b2d0-4e7d-a6dd-93ab62405c3b\",\"type\":\"Toolbar\"},{\"attributes\":{\"line_color\":\"#B2DF8A\",\"line_width\":2,\"x\":{\"field\":\"x\"},\"y\":{\"field\":\"y\"}},\"id\":\"0843c380-db02-405e-8826-3b9f22b19ce0\",\"type\":\"Line\"},{\"attributes\":{\"label\":{\"value\":\"Observed\"},\"renderers\":[{\"id\":\"b22818fb-57af-4f29-87d7-d7ca47910c1b\",\"type\":\"GlyphRenderer\"}]},\"id\":\"b6e0c59d-a08b-4932-b946-0b2296093798\",\"type\":\"LegendItem\"},{\"attributes\":{\"source\":{\"id\":\"0fd656b9-49b8-4f69-8f8b-653c1b28cf22\",\"type\":\"ColumnDataSource\"}},\"id\":\"65fbb4d6-4d5f-40c7-965c-85cac714ce45\",\"type\":\"CDSView\"},{\"attributes\":{\"source\":{\"id\":\"8457184a-4deb-4638-bc84-fa3fbde4e0b1\",\"type\":\"ColumnDataSource\"}},\"id\":\"a8e3f5f0-d14a-46fe-8fbe-9160efff1641\",\"type\":\"CDSView\"},{\"attributes\":{\"callback\":null},\"id\":\"66e40509-b0cc-4b3e-ac7d-7469ddad93f1\",\"type\":\"DataRange1d\"},{\"attributes\":{},\"id\":\"e6952bd5-ba0c-4b0e-ba8b-0f249d76cd46\",\"type\":\"BasicTickFormatter\"},{\"attributes\":{\"label\":{\"value\":\"Forecasted_my_Stepwise\"},\"renderers\":[{\"id\":\"deb0933b-f369-481a-aece-53249fc89022\",\"type\":\"GlyphRenderer\"}]},\"id\":\"64b7c7a9-9208-4e41-a935-641899e38939\",\"type\":\"LegendItem\"},{\"attributes\":{},\"id\":\"02e603d3-b3a5-4b29-9a00-4155859f686f\",\"type\":\"BasicTicker\"},{\"attributes\":{\"items\":[{\"id\":\"64b7c7a9-9208-4e41-a935-641899e38939\",\"type\":\"LegendItem\"},{\"id\":\"b6e0c59d-a08b-4932-b946-0b2296093798\",\"type\":\"LegendItem\"}],\"location\":[0,-30],\"plot\":{\"id\":\"09fcb8fc-7d05-4613-9ac4-eeef42855466\",\"subtype\":\"Figure\",\"type\":\"Plot\"}},\"id\":\"90f8bb80-9cb0-43e3-a14b-44ac1aa0b362\",\"type\":\"Legend\"},{\"attributes\":{\"axis_label\":\"Time\",\"formatter\":{\"id\":\"b9c65c5b-305a-4db8-8ab5-609710efc3a5\",\"type\":\"BasicTickFormatter\"},\"plot\":{\"id\":\"09fcb8fc-7d05-4613-9ac4-eeef42855466\",\"subtype\":\"Figure\",\"type\":\"Plot\"},\"ticker\":{\"id\":\"02e603d3-b3a5-4b29-9a00-4155859f686f\",\"type\":\"BasicTicker\"}},\"id\":\"c3c2ec7d-1995-46fb-bc68-4db7047b6417\",\"type\":\"LinearAxis\"},{\"attributes\":{},\"id\":\"b90ae718-9250-4911-89ec-b4114b6d12a2\",\"type\":\"Selection\"},{\"attributes\":{\"grid_line_alpha\":{\"value\":0.3},\"plot\":{\"id\":\"09fcb8fc-7d05-4613-9ac4-eeef42855466\",\"subtype\":\"Figure\",\"type\":\"Plot\"},\"ticker\":{\"id\":\"02e603d3-b3a5-4b29-9a00-4155859f686f\",\"type\":\"BasicTicker\"}},\"id\":\"330df191-f829-4a12-9d2a-d3d5d5aab724\",\"type\":\"Grid\"},{\"attributes\":{},\"id\":\"2c81a9ca-7a55-4d6b-b9f0-6c590937a8b3\",\"type\":\"LinearScale\"},{\"attributes\":{\"line_alpha\":0.1,\"line_color\":\"#1f77b4\",\"line_width\":2,\"x\":{\"field\":\"x\"},\"y\":{\"field\":\"y\"}},\"id\":\"e93b6c5c-4e6e-4ed5-8203-de4635d228bf\",\"type\":\"Line\"},{\"attributes\":{},\"id\":\"5ba25b4d-3162-49db-989c-961050eb5b74\",\"type\":\"BasicTicker\"},{\"attributes\":{\"axis_label\":\"Value\",\"formatter\":{\"id\":\"e6952bd5-ba0c-4b0e-ba8b-0f249d76cd46\",\"type\":\"BasicTickFormatter\"},\"plot\":{\"id\":\"09fcb8fc-7d05-4613-9ac4-eeef42855466\",\"subtype\":\"Figure\",\"type\":\"Plot\"},\"ticker\":{\"id\":\"5ba25b4d-3162-49db-989c-961050eb5b74\",\"type\":\"BasicTicker\"}},\"id\":\"77a31cba-1f6a-4e5c-88ee-247fac41b3b4\",\"type\":\"LinearAxis\"},{\"attributes\":{\"callback\":null,\"data\":{\"x\":[0,1,2,3,4,5,6,7,8,9,10,11,12,13,14,15,16,17],\"y\":{\"__ndarray__\":\"E8IKZ36hrUCYD84wwdSkQK3ogNZBbqpAVM5JOCxeoUBOS9KaQSyqQMMbRL5y36RAnz5uxFwZqUAH0Ts3ebSjQI0V2zuNN6hAO7UVsfcppUAmXcfhoRaoQBdVUOuCVKVAUIyC9NW1p0DVJcMVqrOlQExxsPquiadApvgs5uPmpUC4tWb83VSnQDPMinVxFaZA\",\"dtype\":\"float64\",\"shape\":[18]}},\"selected\":{\"id\":\"b90ae718-9250-4911-89ec-b4114b6d12a2\",\"type\":\"Selection\"},\"selection_policy\":{\"id\":\"031bfa31-6627-4d19-8f2d-8557e9620836\",\"type\":\"UnionRenderers\"}},\"id\":\"0fd656b9-49b8-4f69-8f8b-653c1b28cf22\",\"type\":\"ColumnDataSource\"},{\"attributes\":{\"dimension\":1,\"grid_line_alpha\":{\"value\":0.3},\"plot\":{\"id\":\"09fcb8fc-7d05-4613-9ac4-eeef42855466\",\"subtype\":\"Figure\",\"type\":\"Plot\"},\"ticker\":{\"id\":\"5ba25b4d-3162-49db-989c-961050eb5b74\",\"type\":\"BasicTicker\"}},\"id\":\"dfad468d-ba71-4342-83b2-4331dace83a4\",\"type\":\"Grid\"},{\"attributes\":{},\"id\":\"031bfa31-6627-4d19-8f2d-8557e9620836\",\"type\":\"UnionRenderers\"},{\"attributes\":{},\"id\":\"514c26d0-258f-45fe-a062-6503545dcd64\",\"type\":\"LinearScale\"},{\"attributes\":{},\"id\":\"147b346d-d137-4b5d-b507-f5eae04fbaee\",\"type\":\"SaveTool\"},{\"attributes\":{},\"id\":\"2069c8ff-5227-4a25-a364-cb5b5f371512\",\"type\":\"PanTool\"},{\"attributes\":{},\"id\":\"e53ec5c4-60d2-457a-a0fb-bbddc765c416\",\"type\":\"Selection\"},{\"attributes\":{},\"id\":\"89645e6b-285b-442d-bb81-a0ddd8f34826\",\"type\":\"HelpTool\"},{\"attributes\":{},\"id\":\"f52877e5-41ee-40f3-96ea-86257a32f3cd\",\"type\":\"ResetTool\"},{\"attributes\":{\"data_source\":{\"id\":\"8457184a-4deb-4638-bc84-fa3fbde4e0b1\",\"type\":\"ColumnDataSource\"},\"glyph\":{\"id\":\"ea589225-63ae-448e-b6c3-ebb134ef3d1c\",\"type\":\"Line\"},\"hover_glyph\":null,\"muted_glyph\":null,\"nonselection_glyph\":{\"id\":\"cd5198b8-2da6-420f-a670-f99955ab1e1c\",\"type\":\"Line\"},\"selection_glyph\":null,\"view\":{\"id\":\"a8e3f5f0-d14a-46fe-8fbe-9160efff1641\",\"type\":\"CDSView\"}},\"id\":\"b22818fb-57af-4f29-87d7-d7ca47910c1b\",\"type\":\"GlyphRenderer\"},{\"attributes\":{\"plot\":null,\"text\":\"Comparison\"},\"id\":\"730bfd82-a452-4240-a33c-4f87220e411f\",\"type\":\"Title\"},{\"attributes\":{\"callback\":null,\"data\":{\"x\":[0,1,2,3,4,5,6,7,8,9,10,11,12,13,14,15,16,17],\"y\":{\"__ndarray__\":\"AIAORQAA8EMAgJ1FAADwRAAAUkQAgB1FAADDRAAAtEQAAHBDAADhRABAkkUAAOFEAADSRACAaEUAAAdFAADwQwAA/0QAALRE\",\"dtype\":\"float32\",\"shape\":[18]}},\"selected\":{\"id\":\"e53ec5c4-60d2-457a-a0fb-bbddc765c416\",\"type\":\"Selection\"},\"selection_policy\":{\"id\":\"8c5e2f40-96cc-4d6f-ab34-7e86e6cb5f6b\",\"type\":\"UnionRenderers\"}},\"id\":\"8457184a-4deb-4638-bc84-fa3fbde4e0b1\",\"type\":\"ColumnDataSource\"},{\"attributes\":{\"callback\":null},\"id\":\"4481a7f8-b91d-4fb4-86c0-9eb18d4f91f0\",\"type\":\"DataRange1d\"},{\"attributes\":{\"line_color\":\"#A6CEE3\",\"line_width\":3,\"x\":{\"field\":\"x\"},\"y\":{\"field\":\"y\"}},\"id\":\"ea589225-63ae-448e-b6c3-ebb134ef3d1c\",\"type\":\"Line\"},{\"attributes\":{\"line_alpha\":0.1,\"line_color\":\"#1f77b4\",\"line_width\":3,\"x\":{\"field\":\"x\"},\"y\":{\"field\":\"y\"}},\"id\":\"cd5198b8-2da6-420f-a670-f99955ab1e1c\",\"type\":\"Line\"},{\"attributes\":{\"bottom_units\":\"screen\",\"fill_alpha\":{\"value\":0.5},\"fill_color\":{\"value\":\"lightgrey\"},\"left_units\":\"screen\",\"level\":\"overlay\",\"line_alpha\":{\"value\":1.0},\"line_color\":{\"value\":\"black\"},\"line_dash\":[4,4],\"line_width\":{\"value\":2},\"plot\":null,\"render_mode\":\"css\",\"right_units\":\"screen\",\"top_units\":\"screen\"},\"id\":\"0a529b02-f811-4d7c-9855-2230b1ac581d\",\"type\":\"BoxAnnotation\"},{\"attributes\":{\"overlay\":{\"id\":\"0a529b02-f811-4d7c-9855-2230b1ac581d\",\"type\":\"BoxAnnotation\"}},\"id\":\"22305454-48d5-4f6c-bbc3-ab98d5d4cb59\",\"type\":\"BoxZoomTool\"},{\"attributes\":{},\"id\":\"b9c65c5b-305a-4db8-8ab5-609710efc3a5\",\"type\":\"BasicTickFormatter\"},{\"attributes\":{},\"id\":\"b66c212d-b0dd-4cd4-a5c9-b97d0c162684\",\"type\":\"WheelZoomTool\"},{\"attributes\":{},\"id\":\"8c5e2f40-96cc-4d6f-ab34-7e86e6cb5f6b\",\"type\":\"UnionRenderers\"}],\"root_ids\":[\"09fcb8fc-7d05-4613-9ac4-eeef42855466\"]},\"title\":\"Bokeh Application\",\"version\":\"0.12.16\"}};\n",
       "  var render_items = [{\"docid\":\"4d9b9266-d21b-467e-935a-ee8da0cc66c2\",\"elementid\":\"5dc34f2e-9c45-4e33-8e2b-063edb4dde9d\",\"modelid\":\"09fcb8fc-7d05-4613-9ac4-eeef42855466\"}];\n",
       "  root.Bokeh.embed.embed_items_notebook(docs_json, render_items);\n",
       "\n",
       "  }\n",
       "  if (root.Bokeh !== undefined) {\n",
       "    embed_document(root);\n",
       "  } else {\n",
       "    var attempts = 0;\n",
       "    var timer = setInterval(function(root) {\n",
       "      if (root.Bokeh !== undefined) {\n",
       "        embed_document(root);\n",
       "        clearInterval(timer);\n",
       "      }\n",
       "      attempts++;\n",
       "      if (attempts > 100) {\n",
       "        console.log(\"Bokeh: ERROR: Unable to run BokehJS code because BokehJS library is missing\")\n",
       "        clearInterval(timer);\n",
       "      }\n",
       "    }, 10, root)\n",
       "  }\n",
       "})(window);"
      ],
      "application/vnd.bokehjs_exec.v0+json": ""
     },
     "metadata": {
      "application/vnd.bokehjs_exec.v0+json": {
       "id": "09fcb8fc-7d05-4613-9ac4-eeef42855466"
      }
     },
     "output_type": "display_data"
    },
    {
     "data": {
      "text/html": [
       "\n",
       "<div class=\"bk-root\">\n",
       "    <div class=\"bk-plotdiv\" id=\"f3c8c1d8-68a6-434c-b6f7-b17486996600\"></div>\n",
       "</div>"
      ]
     },
     "metadata": {},
     "output_type": "display_data"
    },
    {
     "data": {
      "application/javascript": [
       "(function(root) {\n",
       "  function embed_document(root) {\n",
       "    \n",
       "  var docs_json = {\"0caecfe7-18f9-4ce7-aacd-3993f85dab81\":{\"roots\":{\"references\":[{\"attributes\":{\"overlay\":{\"id\":\"91f3d8b8-8ca9-4ea2-aaf4-03665274270f\",\"type\":\"BoxAnnotation\"}},\"id\":\"8f6e11ce-f404-461f-9f92-9a45c09bfa2d\",\"type\":\"BoxZoomTool\"},{\"attributes\":{},\"id\":\"eead4274-6651-4660-8f20-66528d86d576\",\"type\":\"BasicTicker\"},{\"attributes\":{\"source\":{\"id\":\"7c8a4399-e4b5-420b-959d-96302605a617\",\"type\":\"ColumnDataSource\"}},\"id\":\"c69a1bca-e4ac-4ed0-8c82-7b74a36e4a00\",\"type\":\"CDSView\"},{\"attributes\":{\"axis_label\":\"Time\",\"formatter\":{\"id\":\"41223fc4-a22c-453e-960a-fdfeef57f4fe\",\"type\":\"BasicTickFormatter\"},\"plot\":{\"id\":\"87fdbd32-26bf-492a-b9d2-9c340b010342\",\"subtype\":\"Figure\",\"type\":\"Plot\"},\"ticker\":{\"id\":\"eead4274-6651-4660-8f20-66528d86d576\",\"type\":\"BasicTicker\"}},\"id\":\"302ac187-0d44-460b-a7a0-556e572479fc\",\"type\":\"LinearAxis\"},{\"attributes\":{},\"id\":\"a55929b0-3c2b-4d95-a5fd-7ac4dc1991b0\",\"type\":\"UnionRenderers\"},{\"attributes\":{\"plot\":null,\"text\":\"Comparison\"},\"id\":\"54971364-1631-48df-974a-4d6dc7877399\",\"type\":\"Title\"},{\"attributes\":{\"callback\":null,\"data\":{\"x\":[0,1,2,3,4,5,6,7,8,9,10,11,12,13,14,15,16,17],\"y\":{\"__ndarray__\":\"AAC0RAAAUkQAALREAADDRAAAh0QAALRDAABwRAAApUQAAIdEAADSRAAAh0QAAFJEAABSRAAAFkQAAKVEAAClRACADkUAALRE\",\"dtype\":\"float32\",\"shape\":[18]}},\"selected\":{\"id\":\"c8108d6c-63d9-4a6c-a1e7-46e492a52523\",\"type\":\"Selection\"},\"selection_policy\":{\"id\":\"a8fa3e4d-c48d-41a5-b967-3c262ab18bfa\",\"type\":\"UnionRenderers\"}},\"id\":\"7c8a4399-e4b5-420b-959d-96302605a617\",\"type\":\"ColumnDataSource\"},{\"attributes\":{},\"id\":\"0cb3073d-e330-4cb0-a73d-b38a4cfb6002\",\"type\":\"LinearScale\"},{\"attributes\":{\"line_alpha\":0.1,\"line_color\":\"#1f77b4\",\"line_width\":2,\"x\":{\"field\":\"x\"},\"y\":{\"field\":\"y\"}},\"id\":\"56bf5416-f82d-4b84-b2a1-2c8635d28836\",\"type\":\"Line\"},{\"attributes\":{},\"id\":\"7335dbf3-5c59-4d41-9f0a-8750303f1993\",\"type\":\"ResetTool\"},{\"attributes\":{\"active_drag\":\"auto\",\"active_inspect\":\"auto\",\"active_scroll\":\"auto\",\"active_tap\":\"auto\",\"tools\":[{\"id\":\"ffa15eee-7ed3-48ea-ab9e-a2ddfe8f7a47\",\"type\":\"PanTool\"},{\"id\":\"786d8848-d59d-47fa-aa2d-080a0621a24c\",\"type\":\"WheelZoomTool\"},{\"id\":\"8f6e11ce-f404-461f-9f92-9a45c09bfa2d\",\"type\":\"BoxZoomTool\"},{\"id\":\"4bc9247b-8ebd-4baf-8020-9cb7f531c7a9\",\"type\":\"SaveTool\"},{\"id\":\"7335dbf3-5c59-4d41-9f0a-8750303f1993\",\"type\":\"ResetTool\"},{\"id\":\"38cf5179-89c1-4eca-b3d6-dafbdffb8cf3\",\"type\":\"HelpTool\"}]},\"id\":\"db0cfa7d-2ac1-40a6-9494-36d894fe541a\",\"type\":\"Toolbar\"},{\"attributes\":{\"items\":[{\"id\":\"c32abe2c-266f-49a2-923d-454ec1182a44\",\"type\":\"LegendItem\"},{\"id\":\"a8b7ca3e-e119-45c9-bd7e-644981ba7c17\",\"type\":\"LegendItem\"}],\"location\":[0,-30],\"plot\":{\"id\":\"87fdbd32-26bf-492a-b9d2-9c340b010342\",\"subtype\":\"Figure\",\"type\":\"Plot\"}},\"id\":\"f475854c-bba4-46e0-ac3c-0b58e6ad0b40\",\"type\":\"Legend\"},{\"attributes\":{\"callback\":null},\"id\":\"5fe6aa13-7c78-4a94-8ad9-7ad35ed2fcb4\",\"type\":\"DataRange1d\"},{\"attributes\":{},\"id\":\"c7691489-8d18-4cfc-ac98-53b1dc369dde\",\"type\":\"BasicTicker\"},{\"attributes\":{\"below\":[{\"id\":\"302ac187-0d44-460b-a7a0-556e572479fc\",\"type\":\"LinearAxis\"}],\"left\":[{\"id\":\"546cd5dd-668c-4c0e-92b9-4d7146475f59\",\"type\":\"LinearAxis\"}],\"plot_width\":1000,\"renderers\":[{\"id\":\"302ac187-0d44-460b-a7a0-556e572479fc\",\"type\":\"LinearAxis\"},{\"id\":\"b8ff26de-f48c-44bc-ac0f-04522f24e5db\",\"type\":\"Grid\"},{\"id\":\"546cd5dd-668c-4c0e-92b9-4d7146475f59\",\"type\":\"LinearAxis\"},{\"id\":\"dd5934af-3185-477a-9f97-eea8cb2d033a\",\"type\":\"Grid\"},{\"id\":\"91f3d8b8-8ca9-4ea2-aaf4-03665274270f\",\"type\":\"BoxAnnotation\"},{\"id\":\"4654eb0e-4c0f-4cd9-ad5e-a5106d773389\",\"type\":\"GlyphRenderer\"},{\"id\":\"a3aafafe-114e-4dd5-bd90-8cbd60893c33\",\"type\":\"GlyphRenderer\"},{\"id\":\"f475854c-bba4-46e0-ac3c-0b58e6ad0b40\",\"type\":\"Legend\"}],\"right\":[{\"id\":\"f475854c-bba4-46e0-ac3c-0b58e6ad0b40\",\"type\":\"Legend\"}],\"title\":{\"id\":\"54971364-1631-48df-974a-4d6dc7877399\",\"type\":\"Title\"},\"toolbar\":{\"id\":\"db0cfa7d-2ac1-40a6-9494-36d894fe541a\",\"type\":\"Toolbar\"},\"x_range\":{\"id\":\"5fe6aa13-7c78-4a94-8ad9-7ad35ed2fcb4\",\"type\":\"DataRange1d\"},\"x_scale\":{\"id\":\"d2c34513-4520-4b7e-a0a6-e6c6c900d12a\",\"type\":\"LinearScale\"},\"y_range\":{\"id\":\"ce5aae56-9e72-4ee9-beaa-89cfb6203421\",\"type\":\"DataRange1d\"},\"y_scale\":{\"id\":\"0cb3073d-e330-4cb0-a73d-b38a4cfb6002\",\"type\":\"LinearScale\"}},\"id\":\"87fdbd32-26bf-492a-b9d2-9c340b010342\",\"subtype\":\"Figure\",\"type\":\"Plot\"},{\"attributes\":{\"dimension\":1,\"grid_line_alpha\":{\"value\":0.3},\"plot\":{\"id\":\"87fdbd32-26bf-492a-b9d2-9c340b010342\",\"subtype\":\"Figure\",\"type\":\"Plot\"},\"ticker\":{\"id\":\"c7691489-8d18-4cfc-ac98-53b1dc369dde\",\"type\":\"BasicTicker\"}},\"id\":\"dd5934af-3185-477a-9f97-eea8cb2d033a\",\"type\":\"Grid\"},{\"attributes\":{},\"id\":\"4c953602-4cdf-4ac6-9ad9-54e4233cd5fa\",\"type\":\"Selection\"},{\"attributes\":{},\"id\":\"4d278c7a-2413-468a-ae4e-bffb7469b158\",\"type\":\"BasicTickFormatter\"},{\"attributes\":{\"label\":{\"value\":\"Forecasted_my_Stepwise\"},\"renderers\":[{\"id\":\"4654eb0e-4c0f-4cd9-ad5e-a5106d773389\",\"type\":\"GlyphRenderer\"}]},\"id\":\"c32abe2c-266f-49a2-923d-454ec1182a44\",\"type\":\"LegendItem\"},{\"attributes\":{\"label\":{\"value\":\"Observed\"},\"renderers\":[{\"id\":\"a3aafafe-114e-4dd5-bd90-8cbd60893c33\",\"type\":\"GlyphRenderer\"}]},\"id\":\"a8b7ca3e-e119-45c9-bd7e-644981ba7c17\",\"type\":\"LegendItem\"},{\"attributes\":{},\"id\":\"a8fa3e4d-c48d-41a5-b967-3c262ab18bfa\",\"type\":\"UnionRenderers\"},{\"attributes\":{\"line_color\":\"#A6CEE3\",\"line_width\":3,\"x\":{\"field\":\"x\"},\"y\":{\"field\":\"y\"}},\"id\":\"46d74579-fd9a-49db-aeb8-5910aa5cbfac\",\"type\":\"Line\"},{\"attributes\":{\"data_source\":{\"id\":\"7c8a4399-e4b5-420b-959d-96302605a617\",\"type\":\"ColumnDataSource\"},\"glyph\":{\"id\":\"46d74579-fd9a-49db-aeb8-5910aa5cbfac\",\"type\":\"Line\"},\"hover_glyph\":null,\"muted_glyph\":null,\"nonselection_glyph\":{\"id\":\"7a080f2d-477d-457f-8941-1ea5e98f5a01\",\"type\":\"Line\"},\"selection_glyph\":null,\"view\":{\"id\":\"c69a1bca-e4ac-4ed0-8c82-7b74a36e4a00\",\"type\":\"CDSView\"}},\"id\":\"a3aafafe-114e-4dd5-bd90-8cbd60893c33\",\"type\":\"GlyphRenderer\"},{\"attributes\":{},\"id\":\"41223fc4-a22c-453e-960a-fdfeef57f4fe\",\"type\":\"BasicTickFormatter\"},{\"attributes\":{},\"id\":\"786d8848-d59d-47fa-aa2d-080a0621a24c\",\"type\":\"WheelZoomTool\"},{\"attributes\":{},\"id\":\"d2c34513-4520-4b7e-a0a6-e6c6c900d12a\",\"type\":\"LinearScale\"},{\"attributes\":{},\"id\":\"4bc9247b-8ebd-4baf-8020-9cb7f531c7a9\",\"type\":\"SaveTool\"},{\"attributes\":{\"callback\":null},\"id\":\"ce5aae56-9e72-4ee9-beaa-89cfb6203421\",\"type\":\"DataRange1d\"},{\"attributes\":{\"callback\":null,\"data\":{\"x\":[0,1,2,3,4,5,6,7,8,9,10,11,12,13,14,15,16,17],\"y\":{\"__ndarray__\":\"AZWEViXYpEARSEQDRdSaQDjOioG2rZ9Axo4HR8qBmkDF7TvBONWaQNLtVylui59A9oUgX4IMnEAMdkMSpnOeQEgDUzFzBZtAihofaLjcnkDF4HKLUt+bQHSXzn5yWZ5AjYEUaGH4m0Da8A8sVAyeQOViO2L2Q5xASqYyFPrSnUBRwUpUEGmcQMBGtuHupZ1A\",\"dtype\":\"float64\",\"shape\":[18]}},\"selected\":{\"id\":\"4c953602-4cdf-4ac6-9ad9-54e4233cd5fa\",\"type\":\"Selection\"},\"selection_policy\":{\"id\":\"a55929b0-3c2b-4d95-a5fd-7ac4dc1991b0\",\"type\":\"UnionRenderers\"}},\"id\":\"b9cbf9e9-8fa6-4c97-b0f2-fa4ff8f7b5d5\",\"type\":\"ColumnDataSource\"},{\"attributes\":{\"line_color\":\"#B2DF8A\",\"line_width\":2,\"x\":{\"field\":\"x\"},\"y\":{\"field\":\"y\"}},\"id\":\"fdf8b499-95fb-44e6-8163-2b4929d2e37e\",\"type\":\"Line\"},{\"attributes\":{\"line_alpha\":0.1,\"line_color\":\"#1f77b4\",\"line_width\":3,\"x\":{\"field\":\"x\"},\"y\":{\"field\":\"y\"}},\"id\":\"7a080f2d-477d-457f-8941-1ea5e98f5a01\",\"type\":\"Line\"},{\"attributes\":{\"bottom_units\":\"screen\",\"fill_alpha\":{\"value\":0.5},\"fill_color\":{\"value\":\"lightgrey\"},\"left_units\":\"screen\",\"level\":\"overlay\",\"line_alpha\":{\"value\":1.0},\"line_color\":{\"value\":\"black\"},\"line_dash\":[4,4],\"line_width\":{\"value\":2},\"plot\":null,\"render_mode\":\"css\",\"right_units\":\"screen\",\"top_units\":\"screen\"},\"id\":\"91f3d8b8-8ca9-4ea2-aaf4-03665274270f\",\"type\":\"BoxAnnotation\"},{\"attributes\":{},\"id\":\"ffa15eee-7ed3-48ea-ab9e-a2ddfe8f7a47\",\"type\":\"PanTool\"},{\"attributes\":{\"grid_line_alpha\":{\"value\":0.3},\"plot\":{\"id\":\"87fdbd32-26bf-492a-b9d2-9c340b010342\",\"subtype\":\"Figure\",\"type\":\"Plot\"},\"ticker\":{\"id\":\"eead4274-6651-4660-8f20-66528d86d576\",\"type\":\"BasicTicker\"}},\"id\":\"b8ff26de-f48c-44bc-ac0f-04522f24e5db\",\"type\":\"Grid\"},{\"attributes\":{},\"id\":\"c8108d6c-63d9-4a6c-a1e7-46e492a52523\",\"type\":\"Selection\"},{\"attributes\":{\"axis_label\":\"Value\",\"formatter\":{\"id\":\"4d278c7a-2413-468a-ae4e-bffb7469b158\",\"type\":\"BasicTickFormatter\"},\"plot\":{\"id\":\"87fdbd32-26bf-492a-b9d2-9c340b010342\",\"subtype\":\"Figure\",\"type\":\"Plot\"},\"ticker\":{\"id\":\"c7691489-8d18-4cfc-ac98-53b1dc369dde\",\"type\":\"BasicTicker\"}},\"id\":\"546cd5dd-668c-4c0e-92b9-4d7146475f59\",\"type\":\"LinearAxis\"},{\"attributes\":{},\"id\":\"38cf5179-89c1-4eca-b3d6-dafbdffb8cf3\",\"type\":\"HelpTool\"},{\"attributes\":{\"source\":{\"id\":\"b9cbf9e9-8fa6-4c97-b0f2-fa4ff8f7b5d5\",\"type\":\"ColumnDataSource\"}},\"id\":\"2fe5762d-fe93-49fc-b63c-65f491f3d35a\",\"type\":\"CDSView\"},{\"attributes\":{\"data_source\":{\"id\":\"b9cbf9e9-8fa6-4c97-b0f2-fa4ff8f7b5d5\",\"type\":\"ColumnDataSource\"},\"glyph\":{\"id\":\"fdf8b499-95fb-44e6-8163-2b4929d2e37e\",\"type\":\"Line\"},\"hover_glyph\":null,\"muted_glyph\":null,\"nonselection_glyph\":{\"id\":\"56bf5416-f82d-4b84-b2a1-2c8635d28836\",\"type\":\"Line\"},\"selection_glyph\":null,\"view\":{\"id\":\"2fe5762d-fe93-49fc-b63c-65f491f3d35a\",\"type\":\"CDSView\"}},\"id\":\"4654eb0e-4c0f-4cd9-ad5e-a5106d773389\",\"type\":\"GlyphRenderer\"}],\"root_ids\":[\"87fdbd32-26bf-492a-b9d2-9c340b010342\"]},\"title\":\"Bokeh Application\",\"version\":\"0.12.16\"}};\n",
       "  var render_items = [{\"docid\":\"0caecfe7-18f9-4ce7-aacd-3993f85dab81\",\"elementid\":\"f3c8c1d8-68a6-434c-b6f7-b17486996600\",\"modelid\":\"87fdbd32-26bf-492a-b9d2-9c340b010342\"}];\n",
       "  root.Bokeh.embed.embed_items_notebook(docs_json, render_items);\n",
       "\n",
       "  }\n",
       "  if (root.Bokeh !== undefined) {\n",
       "    embed_document(root);\n",
       "  } else {\n",
       "    var attempts = 0;\n",
       "    var timer = setInterval(function(root) {\n",
       "      if (root.Bokeh !== undefined) {\n",
       "        embed_document(root);\n",
       "        clearInterval(timer);\n",
       "      }\n",
       "      attempts++;\n",
       "      if (attempts > 100) {\n",
       "        console.log(\"Bokeh: ERROR: Unable to run BokehJS code because BokehJS library is missing\")\n",
       "        clearInterval(timer);\n",
       "      }\n",
       "    }, 10, root)\n",
       "  }\n",
       "})(window);"
      ],
      "application/vnd.bokehjs_exec.v0+json": ""
     },
     "metadata": {
      "application/vnd.bokehjs_exec.v0+json": {
       "id": "87fdbd32-26bf-492a-b9d2-9c340b010342"
      }
     },
     "output_type": "display_data"
    },
    {
     "data": {
      "text/html": [
       "\n",
       "<div class=\"bk-root\">\n",
       "    <div class=\"bk-plotdiv\" id=\"c1f37cca-7c06-4b7d-a697-4d3a6b6ef45f\"></div>\n",
       "</div>"
      ]
     },
     "metadata": {},
     "output_type": "display_data"
    },
    {
     "data": {
      "application/javascript": [
       "(function(root) {\n",
       "  function embed_document(root) {\n",
       "    \n",
       "  var docs_json = {\"3d38baac-b44c-4430-8832-b78b1009f441\":{\"roots\":{\"references\":[{\"attributes\":{},\"id\":\"fc74590c-af7d-4ca2-8379-093acf424e24\",\"type\":\"BasicTickFormatter\"},{\"attributes\":{\"items\":[{\"id\":\"9a2ee0e9-cc98-48ba-9429-14b8a8dbf6d9\",\"type\":\"LegendItem\"},{\"id\":\"4aff5b1f-053a-4e15-9544-50bb705a41af\",\"type\":\"LegendItem\"}],\"location\":[0,-30],\"plot\":{\"id\":\"a1f5373a-83ea-4b52-8708-a092df08b016\",\"subtype\":\"Figure\",\"type\":\"Plot\"}},\"id\":\"20423da4-2222-4fb8-9220-85e46018f07a\",\"type\":\"Legend\"},{\"attributes\":{\"callback\":null},\"id\":\"1a39bde1-636f-4ddd-937a-c64de287aa01\",\"type\":\"DataRange1d\"},{\"attributes\":{},\"id\":\"65e138b2-0164-4a15-85d2-b1fdfb7d28a7\",\"type\":\"BasicTickFormatter\"},{\"attributes\":{},\"id\":\"c966fb8c-7a3d-43cf-89e9-e8ba8cf45fdd\",\"type\":\"Selection\"},{\"attributes\":{\"label\":{\"value\":\"Observed\"},\"renderers\":[{\"id\":\"50625309-84ac-4c02-9e0f-9c1360227ac9\",\"type\":\"GlyphRenderer\"}]},\"id\":\"4aff5b1f-053a-4e15-9544-50bb705a41af\",\"type\":\"LegendItem\"},{\"attributes\":{\"data_source\":{\"id\":\"9c297d9e-d115-484f-b68d-ec534173e733\",\"type\":\"ColumnDataSource\"},\"glyph\":{\"id\":\"a22c541a-41b9-4290-8679-1d854306a783\",\"type\":\"Line\"},\"hover_glyph\":null,\"muted_glyph\":null,\"nonselection_glyph\":{\"id\":\"6e8d953f-baf9-43b2-88ba-2ce77da542b9\",\"type\":\"Line\"},\"selection_glyph\":null,\"view\":{\"id\":\"15bb2e9e-db5d-4f65-bd8c-7ab4b474e9de\",\"type\":\"CDSView\"}},\"id\":\"50625309-84ac-4c02-9e0f-9c1360227ac9\",\"type\":\"GlyphRenderer\"},{\"attributes\":{\"line_color\":\"#A6CEE3\",\"line_width\":3,\"x\":{\"field\":\"x\"},\"y\":{\"field\":\"y\"}},\"id\":\"a22c541a-41b9-4290-8679-1d854306a783\",\"type\":\"Line\"},{\"attributes\":{},\"id\":\"068df03e-0e88-4463-98df-0b93ab7b013d\",\"type\":\"BasicTicker\"},{\"attributes\":{},\"id\":\"c877a1fe-97a1-45b6-a069-f21edc93f34f\",\"type\":\"UnionRenderers\"},{\"attributes\":{},\"id\":\"51b89fad-a80f-4344-bae8-5aeae8b56676\",\"type\":\"Selection\"},{\"attributes\":{\"source\":{\"id\":\"9c297d9e-d115-484f-b68d-ec534173e733\",\"type\":\"ColumnDataSource\"}},\"id\":\"15bb2e9e-db5d-4f65-bd8c-7ab4b474e9de\",\"type\":\"CDSView\"},{\"attributes\":{\"axis_label\":\"Time\",\"formatter\":{\"id\":\"65e138b2-0164-4a15-85d2-b1fdfb7d28a7\",\"type\":\"BasicTickFormatter\"},\"plot\":{\"id\":\"a1f5373a-83ea-4b52-8708-a092df08b016\",\"subtype\":\"Figure\",\"type\":\"Plot\"},\"ticker\":{\"id\":\"a16f7357-ab0e-4aad-9542-22312e0402a5\",\"type\":\"BasicTicker\"}},\"id\":\"5de5d5f7-9956-4f12-9dcd-97d51337eb0f\",\"type\":\"LinearAxis\"},{\"attributes\":{\"dimension\":1,\"grid_line_alpha\":{\"value\":0.3},\"plot\":{\"id\":\"a1f5373a-83ea-4b52-8708-a092df08b016\",\"subtype\":\"Figure\",\"type\":\"Plot\"},\"ticker\":{\"id\":\"068df03e-0e88-4463-98df-0b93ab7b013d\",\"type\":\"BasicTicker\"}},\"id\":\"00e722db-9ad5-49cd-ae2a-7b5cf463d5f9\",\"type\":\"Grid\"},{\"attributes\":{\"bottom_units\":\"screen\",\"fill_alpha\":{\"value\":0.5},\"fill_color\":{\"value\":\"lightgrey\"},\"left_units\":\"screen\",\"level\":\"overlay\",\"line_alpha\":{\"value\":1.0},\"line_color\":{\"value\":\"black\"},\"line_dash\":[4,4],\"line_width\":{\"value\":2},\"plot\":null,\"render_mode\":\"css\",\"right_units\":\"screen\",\"top_units\":\"screen\"},\"id\":\"0520b86b-99ef-4a13-94c7-1b01f9b16c66\",\"type\":\"BoxAnnotation\"},{\"attributes\":{},\"id\":\"a16f7357-ab0e-4aad-9542-22312e0402a5\",\"type\":\"BasicTicker\"},{\"attributes\":{\"label\":{\"value\":\"Forecasted_my_Stepwise\"},\"renderers\":[{\"id\":\"f75c8e77-b9ef-427b-b360-1aef5e9d0141\",\"type\":\"GlyphRenderer\"}]},\"id\":\"9a2ee0e9-cc98-48ba-9429-14b8a8dbf6d9\",\"type\":\"LegendItem\"},{\"attributes\":{\"line_alpha\":0.1,\"line_color\":\"#1f77b4\",\"line_width\":2,\"x\":{\"field\":\"x\"},\"y\":{\"field\":\"y\"}},\"id\":\"4f9e94e6-46a2-47e1-8de9-da687234716f\",\"type\":\"Line\"},{\"attributes\":{\"line_alpha\":0.1,\"line_color\":\"#1f77b4\",\"line_width\":3,\"x\":{\"field\":\"x\"},\"y\":{\"field\":\"y\"}},\"id\":\"6e8d953f-baf9-43b2-88ba-2ce77da542b9\",\"type\":\"Line\"},{\"attributes\":{\"source\":{\"id\":\"95098b61-dc59-40ea-b1dc-1dc7ff15b873\",\"type\":\"ColumnDataSource\"}},\"id\":\"e10af08b-3d7b-480e-a507-0f3e331d618f\",\"type\":\"CDSView\"},{\"attributes\":{},\"id\":\"45e0bce0-395f-4a9c-9d73-75f3b93e5e99\",\"type\":\"LinearScale\"},{\"attributes\":{},\"id\":\"e3fcb5d9-ba51-486f-8247-ea6ba1b75429\",\"type\":\"ResetTool\"},{\"attributes\":{\"axis_label\":\"Value\",\"formatter\":{\"id\":\"fc74590c-af7d-4ca2-8379-093acf424e24\",\"type\":\"BasicTickFormatter\"},\"plot\":{\"id\":\"a1f5373a-83ea-4b52-8708-a092df08b016\",\"subtype\":\"Figure\",\"type\":\"Plot\"},\"ticker\":{\"id\":\"068df03e-0e88-4463-98df-0b93ab7b013d\",\"type\":\"BasicTicker\"}},\"id\":\"cb844469-7198-4513-bd56-c89626e9477f\",\"type\":\"LinearAxis\"},{\"attributes\":{},\"id\":\"fcb36fa9-4400-4700-838b-55acd4a9a0f0\",\"type\":\"PanTool\"},{\"attributes\":{\"overlay\":{\"id\":\"0520b86b-99ef-4a13-94c7-1b01f9b16c66\",\"type\":\"BoxAnnotation\"}},\"id\":\"8275e0df-a682-4594-b364-19dd0795010a\",\"type\":\"BoxZoomTool\"},{\"attributes\":{\"plot\":null,\"text\":\"Comparison\"},\"id\":\"9dca093d-785e-4cd6-8e9f-6efcc9c24bb6\",\"type\":\"Title\"},{\"attributes\":{\"data_source\":{\"id\":\"95098b61-dc59-40ea-b1dc-1dc7ff15b873\",\"type\":\"ColumnDataSource\"},\"glyph\":{\"id\":\"29e619f6-876f-4a79-8f46-5dd02ce59b49\",\"type\":\"Line\"},\"hover_glyph\":null,\"muted_glyph\":null,\"nonselection_glyph\":{\"id\":\"4f9e94e6-46a2-47e1-8de9-da687234716f\",\"type\":\"Line\"},\"selection_glyph\":null,\"view\":{\"id\":\"e10af08b-3d7b-480e-a507-0f3e331d618f\",\"type\":\"CDSView\"}},\"id\":\"f75c8e77-b9ef-427b-b360-1aef5e9d0141\",\"type\":\"GlyphRenderer\"},{\"attributes\":{\"line_color\":\"#B2DF8A\",\"line_width\":2,\"x\":{\"field\":\"x\"},\"y\":{\"field\":\"y\"}},\"id\":\"29e619f6-876f-4a79-8f46-5dd02ce59b49\",\"type\":\"Line\"},{\"attributes\":{},\"id\":\"599e237c-5c45-4cbf-b768-d9a3882e4729\",\"type\":\"SaveTool\"},{\"attributes\":{},\"id\":\"315121e7-7afa-4cba-842b-66716a28fade\",\"type\":\"LinearScale\"},{\"attributes\":{\"active_drag\":\"auto\",\"active_inspect\":\"auto\",\"active_scroll\":\"auto\",\"active_tap\":\"auto\",\"tools\":[{\"id\":\"fcb36fa9-4400-4700-838b-55acd4a9a0f0\",\"type\":\"PanTool\"},{\"id\":\"3098cb80-34fb-44d6-933c-c5ffdc2f7cec\",\"type\":\"WheelZoomTool\"},{\"id\":\"8275e0df-a682-4594-b364-19dd0795010a\",\"type\":\"BoxZoomTool\"},{\"id\":\"599e237c-5c45-4cbf-b768-d9a3882e4729\",\"type\":\"SaveTool\"},{\"id\":\"e3fcb5d9-ba51-486f-8247-ea6ba1b75429\",\"type\":\"ResetTool\"},{\"id\":\"a233a3da-ce8e-490a-b2fd-c6e115798bf9\",\"type\":\"HelpTool\"}]},\"id\":\"3c20ad4f-b899-4e99-ae9c-2506a8aa08ca\",\"type\":\"Toolbar\"},{\"attributes\":{\"grid_line_alpha\":{\"value\":0.3},\"plot\":{\"id\":\"a1f5373a-83ea-4b52-8708-a092df08b016\",\"subtype\":\"Figure\",\"type\":\"Plot\"},\"ticker\":{\"id\":\"a16f7357-ab0e-4aad-9542-22312e0402a5\",\"type\":\"BasicTicker\"}},\"id\":\"fe6bf332-d2aa-4c12-a19f-26a6a15f2459\",\"type\":\"Grid\"},{\"attributes\":{},\"id\":\"3098cb80-34fb-44d6-933c-c5ffdc2f7cec\",\"type\":\"WheelZoomTool\"},{\"attributes\":{\"callback\":null},\"id\":\"35fa6428-0133-41dc-aad8-e263c74230d0\",\"type\":\"DataRange1d\"},{\"attributes\":{},\"id\":\"a233a3da-ce8e-490a-b2fd-c6e115798bf9\",\"type\":\"HelpTool\"},{\"attributes\":{\"callback\":null,\"data\":{\"x\":[0,1,2,3,4,5,6,7,8,9,10,11,12,13,14,15,16,17],\"y\":{\"__ndarray__\":\"J71X1y01ukDVr1KBL5fCQDqjEX+IhLxAChQjHcD1vEAL61SURRe7QCnSVzeSz71ArLMbYh2sukBZSdhXHQO8QPEeoFlF27pAzUvHS3JUvEBsUm0ZYUK7QACd0tMmJbxAqgm44QRMu0Cq07ybPQ28QML2vZTaXrtAv0jSaCLtu0BzEExEO2W7QHUFgq4L2LtA\",\"dtype\":\"float64\",\"shape\":[18]}},\"selected\":{\"id\":\"51b89fad-a80f-4344-bae8-5aeae8b56676\",\"type\":\"Selection\"},\"selection_policy\":{\"id\":\"c877a1fe-97a1-45b6-a069-f21edc93f34f\",\"type\":\"UnionRenderers\"}},\"id\":\"95098b61-dc59-40ea-b1dc-1dc7ff15b873\",\"type\":\"ColumnDataSource\"},{\"attributes\":{\"callback\":null,\"data\":{\"x\":[0,1,2,3,4,5,6,7,8,9,10,11,12,13,14,15,16,17],\"y\":{\"__ndarray__\":\"AGDMRQDAmUUAwNVEAMBVRQCwuEUAANJFAFCRRQBgH0UAAAdGAADwRQAA0kUAMKJFADCiRQCwuEUAAJZFAECwRQDwtEUAMIRF\",\"dtype\":\"float32\",\"shape\":[18]}},\"selected\":{\"id\":\"c966fb8c-7a3d-43cf-89e9-e8ba8cf45fdd\",\"type\":\"Selection\"},\"selection_policy\":{\"id\":\"a52e39e8-e7a6-4217-9073-84f75c39095f\",\"type\":\"UnionRenderers\"}},\"id\":\"9c297d9e-d115-484f-b68d-ec534173e733\",\"type\":\"ColumnDataSource\"},{\"attributes\":{\"below\":[{\"id\":\"5de5d5f7-9956-4f12-9dcd-97d51337eb0f\",\"type\":\"LinearAxis\"}],\"left\":[{\"id\":\"cb844469-7198-4513-bd56-c89626e9477f\",\"type\":\"LinearAxis\"}],\"plot_width\":1000,\"renderers\":[{\"id\":\"5de5d5f7-9956-4f12-9dcd-97d51337eb0f\",\"type\":\"LinearAxis\"},{\"id\":\"fe6bf332-d2aa-4c12-a19f-26a6a15f2459\",\"type\":\"Grid\"},{\"id\":\"cb844469-7198-4513-bd56-c89626e9477f\",\"type\":\"LinearAxis\"},{\"id\":\"00e722db-9ad5-49cd-ae2a-7b5cf463d5f9\",\"type\":\"Grid\"},{\"id\":\"0520b86b-99ef-4a13-94c7-1b01f9b16c66\",\"type\":\"BoxAnnotation\"},{\"id\":\"f75c8e77-b9ef-427b-b360-1aef5e9d0141\",\"type\":\"GlyphRenderer\"},{\"id\":\"50625309-84ac-4c02-9e0f-9c1360227ac9\",\"type\":\"GlyphRenderer\"},{\"id\":\"20423da4-2222-4fb8-9220-85e46018f07a\",\"type\":\"Legend\"}],\"right\":[{\"id\":\"20423da4-2222-4fb8-9220-85e46018f07a\",\"type\":\"Legend\"}],\"title\":{\"id\":\"9dca093d-785e-4cd6-8e9f-6efcc9c24bb6\",\"type\":\"Title\"},\"toolbar\":{\"id\":\"3c20ad4f-b899-4e99-ae9c-2506a8aa08ca\",\"type\":\"Toolbar\"},\"x_range\":{\"id\":\"35fa6428-0133-41dc-aad8-e263c74230d0\",\"type\":\"DataRange1d\"},\"x_scale\":{\"id\":\"315121e7-7afa-4cba-842b-66716a28fade\",\"type\":\"LinearScale\"},\"y_range\":{\"id\":\"1a39bde1-636f-4ddd-937a-c64de287aa01\",\"type\":\"DataRange1d\"},\"y_scale\":{\"id\":\"45e0bce0-395f-4a9c-9d73-75f3b93e5e99\",\"type\":\"LinearScale\"}},\"id\":\"a1f5373a-83ea-4b52-8708-a092df08b016\",\"subtype\":\"Figure\",\"type\":\"Plot\"},{\"attributes\":{},\"id\":\"a52e39e8-e7a6-4217-9073-84f75c39095f\",\"type\":\"UnionRenderers\"}],\"root_ids\":[\"a1f5373a-83ea-4b52-8708-a092df08b016\"]},\"title\":\"Bokeh Application\",\"version\":\"0.12.16\"}};\n",
       "  var render_items = [{\"docid\":\"3d38baac-b44c-4430-8832-b78b1009f441\",\"elementid\":\"c1f37cca-7c06-4b7d-a697-4d3a6b6ef45f\",\"modelid\":\"a1f5373a-83ea-4b52-8708-a092df08b016\"}];\n",
       "  root.Bokeh.embed.embed_items_notebook(docs_json, render_items);\n",
       "\n",
       "  }\n",
       "  if (root.Bokeh !== undefined) {\n",
       "    embed_document(root);\n",
       "  } else {\n",
       "    var attempts = 0;\n",
       "    var timer = setInterval(function(root) {\n",
       "      if (root.Bokeh !== undefined) {\n",
       "        embed_document(root);\n",
       "        clearInterval(timer);\n",
       "      }\n",
       "      attempts++;\n",
       "      if (attempts > 100) {\n",
       "        console.log(\"Bokeh: ERROR: Unable to run BokehJS code because BokehJS library is missing\")\n",
       "        clearInterval(timer);\n",
       "      }\n",
       "    }, 10, root)\n",
       "  }\n",
       "})(window);"
      ],
      "application/vnd.bokehjs_exec.v0+json": ""
     },
     "metadata": {
      "application/vnd.bokehjs_exec.v0+json": {
       "id": "a1f5373a-83ea-4b52-8708-a092df08b016"
      }
     },
     "output_type": "display_data"
    },
    {
     "data": {
      "text/html": [
       "\n",
       "<div class=\"bk-root\">\n",
       "    <div class=\"bk-plotdiv\" id=\"01cfc32c-4786-491c-a11a-337f464b8a25\"></div>\n",
       "</div>"
      ]
     },
     "metadata": {},
     "output_type": "display_data"
    },
    {
     "data": {
      "application/javascript": [
       "(function(root) {\n",
       "  function embed_document(root) {\n",
       "    \n",
       "  var docs_json = {\"30d13204-3330-43b6-844e-81b60b82d931\":{\"roots\":{\"references\":[{\"attributes\":{\"dimension\":1,\"grid_line_alpha\":{\"value\":0.3},\"plot\":{\"id\":\"a7e87219-1f0a-4fc0-9f9e-a86903e34765\",\"subtype\":\"Figure\",\"type\":\"Plot\"},\"ticker\":{\"id\":\"1765d3be-b3a9-432e-be26-d2babc1b9138\",\"type\":\"BasicTicker\"}},\"id\":\"13a6927d-4670-4e54-ba89-ba7709525c93\",\"type\":\"Grid\"},{\"attributes\":{\"items\":[{\"id\":\"70dddea6-083c-4049-a0ed-6e07c80c5f2b\",\"type\":\"LegendItem\"},{\"id\":\"2124803a-2a61-4598-a589-beea106ee7f8\",\"type\":\"LegendItem\"}],\"location\":[0,-30],\"plot\":{\"id\":\"a7e87219-1f0a-4fc0-9f9e-a86903e34765\",\"subtype\":\"Figure\",\"type\":\"Plot\"}},\"id\":\"b7321d19-a046-4d53-a9cf-62d303cc89f7\",\"type\":\"Legend\"},{\"attributes\":{\"source\":{\"id\":\"09b881a8-920c-4c90-bdcb-1ff0bf0bce18\",\"type\":\"ColumnDataSource\"}},\"id\":\"35d24810-4eef-4d9a-bf47-4ccd85b104e2\",\"type\":\"CDSView\"},{\"attributes\":{\"axis_label\":\"Value\",\"formatter\":{\"id\":\"81b6d974-fbd5-4a67-a8d0-79c3e8d91beb\",\"type\":\"BasicTickFormatter\"},\"plot\":{\"id\":\"a7e87219-1f0a-4fc0-9f9e-a86903e34765\",\"subtype\":\"Figure\",\"type\":\"Plot\"},\"ticker\":{\"id\":\"1765d3be-b3a9-432e-be26-d2babc1b9138\",\"type\":\"BasicTicker\"}},\"id\":\"21ee96fc-8311-48a9-a208-e64f759884aa\",\"type\":\"LinearAxis\"},{\"attributes\":{\"callback\":null,\"data\":{\"x\":[0,1,2,3,4,5,6,7,8,9,10,11,12,13,14,15,16,17],\"y\":{\"__ndarray__\":\"wjfJWF+5ukAlrLO4X7O2QDFjnbAPXbdA9/Gr4VdQt0AE3OaDvby5QH5aOGD9V7lAUn+k0EmOuUAqa0DGhRi5QB7R2zH8ULlALEfTQ88nuUAJyiofQkO5QOX+gT8/ELlAVITCQa84uUDAoDAKNR25QI6PJmwPPblAuZOxqYgjuUB8jH0i4zq5QMgfuhT9J7lA\",\"dtype\":\"float64\",\"shape\":[18]}},\"selected\":{\"id\":\"9ce99c0c-4f8a-42bc-a301-f8425d71a8df\",\"type\":\"Selection\"},\"selection_policy\":{\"id\":\"31fd9c2c-7033-48b1-8da4-3d7b92eb2156\",\"type\":\"UnionRenderers\"}},\"id\":\"09b881a8-920c-4c90-bdcb-1ff0bf0bce18\",\"type\":\"ColumnDataSource\"},{\"attributes\":{},\"id\":\"90f7ebea-44a7-463c-a4d7-b227ed7f8a14\",\"type\":\"HelpTool\"},{\"attributes\":{\"below\":[{\"id\":\"6424b438-87fb-4982-bd57-24ef37489b28\",\"type\":\"LinearAxis\"}],\"left\":[{\"id\":\"21ee96fc-8311-48a9-a208-e64f759884aa\",\"type\":\"LinearAxis\"}],\"plot_width\":1000,\"renderers\":[{\"id\":\"6424b438-87fb-4982-bd57-24ef37489b28\",\"type\":\"LinearAxis\"},{\"id\":\"6ed5d590-2507-4690-8ada-c1e31fd663d5\",\"type\":\"Grid\"},{\"id\":\"21ee96fc-8311-48a9-a208-e64f759884aa\",\"type\":\"LinearAxis\"},{\"id\":\"13a6927d-4670-4e54-ba89-ba7709525c93\",\"type\":\"Grid\"},{\"id\":\"ffa5286b-81fd-4605-ae3d-ed729907f642\",\"type\":\"BoxAnnotation\"},{\"id\":\"b4fd2a06-ef9b-471b-93b8-e511386b6e42\",\"type\":\"GlyphRenderer\"},{\"id\":\"b6049a7e-2bca-4008-b756-ea2e41d2c8e1\",\"type\":\"GlyphRenderer\"},{\"id\":\"b7321d19-a046-4d53-a9cf-62d303cc89f7\",\"type\":\"Legend\"}],\"right\":[{\"id\":\"b7321d19-a046-4d53-a9cf-62d303cc89f7\",\"type\":\"Legend\"}],\"title\":{\"id\":\"2e5de13e-2e0c-4947-b60f-546494859334\",\"type\":\"Title\"},\"toolbar\":{\"id\":\"f835ce27-751b-44f2-b836-22908f7dcebf\",\"type\":\"Toolbar\"},\"x_range\":{\"id\":\"791779f7-f3a8-4b34-955e-91393cf781f1\",\"type\":\"DataRange1d\"},\"x_scale\":{\"id\":\"a0ce5ed1-f7fe-4810-ad28-d739031f45e2\",\"type\":\"LinearScale\"},\"y_range\":{\"id\":\"1c2048b3-99a8-46d9-8b63-d11a56bcb5e9\",\"type\":\"DataRange1d\"},\"y_scale\":{\"id\":\"8692eb4b-c5db-468c-8bf0-54e63e51163d\",\"type\":\"LinearScale\"}},\"id\":\"a7e87219-1f0a-4fc0-9f9e-a86903e34765\",\"subtype\":\"Figure\",\"type\":\"Plot\"},{\"attributes\":{\"line_alpha\":0.1,\"line_color\":\"#1f77b4\",\"line_width\":3,\"x\":{\"field\":\"x\"},\"y\":{\"field\":\"y\"}},\"id\":\"fc1e7c38-dd50-4525-8b34-6a68c7b1e9d1\",\"type\":\"Line\"},{\"attributes\":{\"plot\":null,\"text\":\"Comparison\"},\"id\":\"2e5de13e-2e0c-4947-b60f-546494859334\",\"type\":\"Title\"},{\"attributes\":{},\"id\":\"1765d3be-b3a9-432e-be26-d2babc1b9138\",\"type\":\"BasicTicker\"},{\"attributes\":{},\"id\":\"d6b72308-a22d-4513-948a-d62f69b127ff\",\"type\":\"ResetTool\"},{\"attributes\":{\"line_alpha\":0.1,\"line_color\":\"#1f77b4\",\"line_width\":2,\"x\":{\"field\":\"x\"},\"y\":{\"field\":\"y\"}},\"id\":\"5141632f-480c-4b28-bf38-17d8e5e58fe3\",\"type\":\"Line\"},{\"attributes\":{},\"id\":\"e5ff1e2b-6502-47ed-83f0-db883d57c128\",\"type\":\"PanTool\"},{\"attributes\":{\"callback\":null},\"id\":\"1c2048b3-99a8-46d9-8b63-d11a56bcb5e9\",\"type\":\"DataRange1d\"},{\"attributes\":{},\"id\":\"932e2fdd-255a-4726-adf6-c089a332dfd2\",\"type\":\"BasicTicker\"},{\"attributes\":{\"data_source\":{\"id\":\"851a2bdc-191a-463f-893f-c8a2cd207e8b\",\"type\":\"ColumnDataSource\"},\"glyph\":{\"id\":\"0abf03d2-214e-4a94-a39a-3d54db2b6819\",\"type\":\"Line\"},\"hover_glyph\":null,\"muted_glyph\":null,\"nonselection_glyph\":{\"id\":\"fc1e7c38-dd50-4525-8b34-6a68c7b1e9d1\",\"type\":\"Line\"},\"selection_glyph\":null,\"view\":{\"id\":\"eef26a45-d214-46fe-9e76-0c02623f59fa\",\"type\":\"CDSView\"}},\"id\":\"b6049a7e-2bca-4008-b756-ea2e41d2c8e1\",\"type\":\"GlyphRenderer\"},{\"attributes\":{\"overlay\":{\"id\":\"ffa5286b-81fd-4605-ae3d-ed729907f642\",\"type\":\"BoxAnnotation\"}},\"id\":\"014829ee-c480-4c25-8acb-344f3f047e6a\",\"type\":\"BoxZoomTool\"},{\"attributes\":{\"active_drag\":\"auto\",\"active_inspect\":\"auto\",\"active_scroll\":\"auto\",\"active_tap\":\"auto\",\"tools\":[{\"id\":\"e5ff1e2b-6502-47ed-83f0-db883d57c128\",\"type\":\"PanTool\"},{\"id\":\"d878133e-fcb7-453f-a4bc-541b311dd2d1\",\"type\":\"WheelZoomTool\"},{\"id\":\"014829ee-c480-4c25-8acb-344f3f047e6a\",\"type\":\"BoxZoomTool\"},{\"id\":\"4e50ce34-7f60-4b38-82bc-72d9ab01743c\",\"type\":\"SaveTool\"},{\"id\":\"d6b72308-a22d-4513-948a-d62f69b127ff\",\"type\":\"ResetTool\"},{\"id\":\"90f7ebea-44a7-463c-a4d7-b227ed7f8a14\",\"type\":\"HelpTool\"}]},\"id\":\"f835ce27-751b-44f2-b836-22908f7dcebf\",\"type\":\"Toolbar\"},{\"attributes\":{},\"id\":\"81b6d974-fbd5-4a67-a8d0-79c3e8d91beb\",\"type\":\"BasicTickFormatter\"},{\"attributes\":{\"axis_label\":\"Time\",\"formatter\":{\"id\":\"0a824367-f49b-489e-a01e-12f72c0f1f26\",\"type\":\"BasicTickFormatter\"},\"plot\":{\"id\":\"a7e87219-1f0a-4fc0-9f9e-a86903e34765\",\"subtype\":\"Figure\",\"type\":\"Plot\"},\"ticker\":{\"id\":\"932e2fdd-255a-4726-adf6-c089a332dfd2\",\"type\":\"BasicTicker\"}},\"id\":\"6424b438-87fb-4982-bd57-24ef37489b28\",\"type\":\"LinearAxis\"},{\"attributes\":{},\"id\":\"9ce99c0c-4f8a-42bc-a301-f8425d71a8df\",\"type\":\"Selection\"},{\"attributes\":{\"callback\":null},\"id\":\"791779f7-f3a8-4b34-955e-91393cf781f1\",\"type\":\"DataRange1d\"},{\"attributes\":{},\"id\":\"2de4de41-4e39-4879-b1af-cec0f5f31433\",\"type\":\"Selection\"},{\"attributes\":{},\"id\":\"31fd9c2c-7033-48b1-8da4-3d7b92eb2156\",\"type\":\"UnionRenderers\"},{\"attributes\":{\"label\":{\"value\":\"Observed\"},\"renderers\":[{\"id\":\"b6049a7e-2bca-4008-b756-ea2e41d2c8e1\",\"type\":\"GlyphRenderer\"}]},\"id\":\"2124803a-2a61-4598-a589-beea106ee7f8\",\"type\":\"LegendItem\"},{\"attributes\":{},\"id\":\"c5d047be-4c4f-468d-8458-452cc84d6d32\",\"type\":\"UnionRenderers\"},{\"attributes\":{\"bottom_units\":\"screen\",\"fill_alpha\":{\"value\":0.5},\"fill_color\":{\"value\":\"lightgrey\"},\"left_units\":\"screen\",\"level\":\"overlay\",\"line_alpha\":{\"value\":1.0},\"line_color\":{\"value\":\"black\"},\"line_dash\":[4,4],\"line_width\":{\"value\":2},\"plot\":null,\"render_mode\":\"css\",\"right_units\":\"screen\",\"top_units\":\"screen\"},\"id\":\"ffa5286b-81fd-4605-ae3d-ed729907f642\",\"type\":\"BoxAnnotation\"},{\"attributes\":{},\"id\":\"4e50ce34-7f60-4b38-82bc-72d9ab01743c\",\"type\":\"SaveTool\"},{\"attributes\":{\"callback\":null,\"data\":{\"x\":[0,1,2,3,4,5,6,7,8,9,10,11,12,13,14,15,16,17],\"y\":{\"__ndarray__\":\"AODnRQAghUUAQCtFAABIRQAg30UAgNlFAAC0RQCADkUAMEBGAIAJRgDwFkYAILdFAEDORQAg/UUAgPJFAODYRQCg+kUAAMhF\",\"dtype\":\"float32\",\"shape\":[18]}},\"selected\":{\"id\":\"2de4de41-4e39-4879-b1af-cec0f5f31433\",\"type\":\"Selection\"},\"selection_policy\":{\"id\":\"c5d047be-4c4f-468d-8458-452cc84d6d32\",\"type\":\"UnionRenderers\"}},\"id\":\"851a2bdc-191a-463f-893f-c8a2cd207e8b\",\"type\":\"ColumnDataSource\"},{\"attributes\":{\"label\":{\"value\":\"Forecasted_my_Stepwise\"},\"renderers\":[{\"id\":\"b4fd2a06-ef9b-471b-93b8-e511386b6e42\",\"type\":\"GlyphRenderer\"}]},\"id\":\"70dddea6-083c-4049-a0ed-6e07c80c5f2b\",\"type\":\"LegendItem\"},{\"attributes\":{\"line_color\":\"#A6CEE3\",\"line_width\":3,\"x\":{\"field\":\"x\"},\"y\":{\"field\":\"y\"}},\"id\":\"0abf03d2-214e-4a94-a39a-3d54db2b6819\",\"type\":\"Line\"},{\"attributes\":{\"data_source\":{\"id\":\"09b881a8-920c-4c90-bdcb-1ff0bf0bce18\",\"type\":\"ColumnDataSource\"},\"glyph\":{\"id\":\"3ba21a0c-b024-4dcb-82f7-479c841b947d\",\"type\":\"Line\"},\"hover_glyph\":null,\"muted_glyph\":null,\"nonselection_glyph\":{\"id\":\"5141632f-480c-4b28-bf38-17d8e5e58fe3\",\"type\":\"Line\"},\"selection_glyph\":null,\"view\":{\"id\":\"35d24810-4eef-4d9a-bf47-4ccd85b104e2\",\"type\":\"CDSView\"}},\"id\":\"b4fd2a06-ef9b-471b-93b8-e511386b6e42\",\"type\":\"GlyphRenderer\"},{\"attributes\":{\"source\":{\"id\":\"851a2bdc-191a-463f-893f-c8a2cd207e8b\",\"type\":\"ColumnDataSource\"}},\"id\":\"eef26a45-d214-46fe-9e76-0c02623f59fa\",\"type\":\"CDSView\"},{\"attributes\":{},\"id\":\"0a824367-f49b-489e-a01e-12f72c0f1f26\",\"type\":\"BasicTickFormatter\"},{\"attributes\":{},\"id\":\"8692eb4b-c5db-468c-8bf0-54e63e51163d\",\"type\":\"LinearScale\"},{\"attributes\":{\"grid_line_alpha\":{\"value\":0.3},\"plot\":{\"id\":\"a7e87219-1f0a-4fc0-9f9e-a86903e34765\",\"subtype\":\"Figure\",\"type\":\"Plot\"},\"ticker\":{\"id\":\"932e2fdd-255a-4726-adf6-c089a332dfd2\",\"type\":\"BasicTicker\"}},\"id\":\"6ed5d590-2507-4690-8ada-c1e31fd663d5\",\"type\":\"Grid\"},{\"attributes\":{\"line_color\":\"#B2DF8A\",\"line_width\":2,\"x\":{\"field\":\"x\"},\"y\":{\"field\":\"y\"}},\"id\":\"3ba21a0c-b024-4dcb-82f7-479c841b947d\",\"type\":\"Line\"},{\"attributes\":{},\"id\":\"d878133e-fcb7-453f-a4bc-541b311dd2d1\",\"type\":\"WheelZoomTool\"},{\"attributes\":{},\"id\":\"a0ce5ed1-f7fe-4810-ad28-d739031f45e2\",\"type\":\"LinearScale\"}],\"root_ids\":[\"a7e87219-1f0a-4fc0-9f9e-a86903e34765\"]},\"title\":\"Bokeh Application\",\"version\":\"0.12.16\"}};\n",
       "  var render_items = [{\"docid\":\"30d13204-3330-43b6-844e-81b60b82d931\",\"elementid\":\"01cfc32c-4786-491c-a11a-337f464b8a25\",\"modelid\":\"a7e87219-1f0a-4fc0-9f9e-a86903e34765\"}];\n",
       "  root.Bokeh.embed.embed_items_notebook(docs_json, render_items);\n",
       "\n",
       "  }\n",
       "  if (root.Bokeh !== undefined) {\n",
       "    embed_document(root);\n",
       "  } else {\n",
       "    var attempts = 0;\n",
       "    var timer = setInterval(function(root) {\n",
       "      if (root.Bokeh !== undefined) {\n",
       "        embed_document(root);\n",
       "        clearInterval(timer);\n",
       "      }\n",
       "      attempts++;\n",
       "      if (attempts > 100) {\n",
       "        console.log(\"Bokeh: ERROR: Unable to run BokehJS code because BokehJS library is missing\")\n",
       "        clearInterval(timer);\n",
       "      }\n",
       "    }, 10, root)\n",
       "  }\n",
       "})(window);"
      ],
      "application/vnd.bokehjs_exec.v0+json": ""
     },
     "metadata": {
      "application/vnd.bokehjs_exec.v0+json": {
       "id": "a7e87219-1f0a-4fc0-9f9e-a86903e34765"
      }
     },
     "output_type": "display_data"
    },
    {
     "data": {
      "text/html": [
       "\n",
       "<div class=\"bk-root\">\n",
       "    <div class=\"bk-plotdiv\" id=\"3946a944-0cac-4ead-a1ff-7a201ad5b4e8\"></div>\n",
       "</div>"
      ]
     },
     "metadata": {},
     "output_type": "display_data"
    },
    {
     "data": {
      "application/javascript": [
       "(function(root) {\n",
       "  function embed_document(root) {\n",
       "    \n",
       "  var docs_json = {\"e5ac5b3a-be05-4b6f-871b-0c17561ad910\":{\"roots\":{\"references\":[{\"attributes\":{\"dimension\":1,\"grid_line_alpha\":{\"value\":0.3},\"plot\":{\"id\":\"1f7fb2a2-fee6-470c-9798-2e8501a4c886\",\"subtype\":\"Figure\",\"type\":\"Plot\"},\"ticker\":{\"id\":\"77de6f8a-bbf8-4de7-9689-731cd158b464\",\"type\":\"BasicTicker\"}},\"id\":\"c39aa068-5879-4863-a26b-9ccde8b29cb6\",\"type\":\"Grid\"},{\"attributes\":{},\"id\":\"dd7fcd53-3848-4b6d-950f-b6c1730a63a8\",\"type\":\"PanTool\"},{\"attributes\":{\"source\":{\"id\":\"b252221f-a779-45a5-8ce4-3d9bc9dfedf7\",\"type\":\"ColumnDataSource\"}},\"id\":\"dc36a0a3-ace5-4a9b-a74c-29bfa71146e5\",\"type\":\"CDSView\"},{\"attributes\":{},\"id\":\"3fcaf868-ba78-4f4e-9f71-0af6599a7d7e\",\"type\":\"ResetTool\"},{\"attributes\":{\"active_drag\":\"auto\",\"active_inspect\":\"auto\",\"active_scroll\":\"auto\",\"active_tap\":\"auto\",\"tools\":[{\"id\":\"dd7fcd53-3848-4b6d-950f-b6c1730a63a8\",\"type\":\"PanTool\"},{\"id\":\"09cf55ea-18f9-440b-9579-9db0975c7bc8\",\"type\":\"WheelZoomTool\"},{\"id\":\"6b210d5d-0673-4324-9fde-7db3525c4b7b\",\"type\":\"BoxZoomTool\"},{\"id\":\"328e1e12-b1d4-4ff2-b546-3b7cb38b9ecd\",\"type\":\"SaveTool\"},{\"id\":\"3fcaf868-ba78-4f4e-9f71-0af6599a7d7e\",\"type\":\"ResetTool\"},{\"id\":\"cf49c9f4-8a2f-44c7-b664-e4835cb83148\",\"type\":\"HelpTool\"}]},\"id\":\"4a57340a-0ff6-42f5-b0d6-54deb5141225\",\"type\":\"Toolbar\"},{\"attributes\":{\"callback\":null,\"data\":{\"x\":[0,1,2,3,4,5,6,7,8,9,10,11,12,13,14,15,16,17],\"y\":{\"__ndarray__\":\"TOwEI8bDzkBSrohmJFPGQMYErUZZP8RAcg61Aa3ewUDFTdzX7ITCQGv/x36KnsBA5YXRamnbwEAEsC0qXo3AQGseG6hoZsFA5GkEofgmwUCTLb8Bl3LBQE030I8HLMFAVRaEf+RnwUBBk992RyzBQJr2+Q0KUsFAgTf/3JciwUAESGffN0XBQJs4Bgu6I8FA\",\"dtype\":\"float64\",\"shape\":[18]}},\"selected\":{\"id\":\"a75f79f2-bf89-4344-bd36-382b42ee755a\",\"type\":\"Selection\"},\"selection_policy\":{\"id\":\"89e10481-e728-4d19-9291-26babbb14949\",\"type\":\"UnionRenderers\"}},\"id\":\"3b23753b-2742-42fe-9c64-992823777e03\",\"type\":\"ColumnDataSource\"},{\"attributes\":{},\"id\":\"b349acc2-76e7-411f-828f-10a88138ff58\",\"type\":\"BasicTickFormatter\"},{\"attributes\":{\"axis_label\":\"Value\",\"formatter\":{\"id\":\"280b4e18-47b5-44e5-a571-1c548f7ac1c3\",\"type\":\"BasicTickFormatter\"},\"plot\":{\"id\":\"1f7fb2a2-fee6-470c-9798-2e8501a4c886\",\"subtype\":\"Figure\",\"type\":\"Plot\"},\"ticker\":{\"id\":\"77de6f8a-bbf8-4de7-9689-731cd158b464\",\"type\":\"BasicTicker\"}},\"id\":\"1a3490ba-d54c-4f6f-a427-bd9efbaa7266\",\"type\":\"LinearAxis\"},{\"attributes\":{\"line_color\":\"#A6CEE3\",\"line_width\":3,\"x\":{\"field\":\"x\"},\"y\":{\"field\":\"y\"}},\"id\":\"9eeacac2-0fca-4c92-b475-0eff4326579c\",\"type\":\"Line\"},{\"attributes\":{},\"id\":\"77de6f8a-bbf8-4de7-9689-731cd158b464\",\"type\":\"BasicTicker\"},{\"attributes\":{\"axis_label\":\"Time\",\"formatter\":{\"id\":\"b349acc2-76e7-411f-828f-10a88138ff58\",\"type\":\"BasicTickFormatter\"},\"plot\":{\"id\":\"1f7fb2a2-fee6-470c-9798-2e8501a4c886\",\"subtype\":\"Figure\",\"type\":\"Plot\"},\"ticker\":{\"id\":\"15f656a4-6deb-4042-810c-1e6a244800bc\",\"type\":\"BasicTicker\"}},\"id\":\"b99121e7-73b4-4ea4-954f-feab46c34eea\",\"type\":\"LinearAxis\"},{\"attributes\":{},\"id\":\"09cf55ea-18f9-440b-9579-9db0975c7bc8\",\"type\":\"WheelZoomTool\"},{\"attributes\":{\"callback\":null},\"id\":\"9783b76d-3f73-479d-be53-aae61c5e182e\",\"type\":\"DataRange1d\"},{\"attributes\":{\"grid_line_alpha\":{\"value\":0.3},\"plot\":{\"id\":\"1f7fb2a2-fee6-470c-9798-2e8501a4c886\",\"subtype\":\"Figure\",\"type\":\"Plot\"},\"ticker\":{\"id\":\"15f656a4-6deb-4042-810c-1e6a244800bc\",\"type\":\"BasicTicker\"}},\"id\":\"9ec5cd9b-9f1e-4f85-bd32-91b9f2f0f585\",\"type\":\"Grid\"},{\"attributes\":{},\"id\":\"64e902f1-8219-4cb7-874d-bbd91b56eeb9\",\"type\":\"LinearScale\"},{\"attributes\":{},\"id\":\"cf3434e2-ecf4-4eab-8ead-2af3c6d99e9b\",\"type\":\"LinearScale\"},{\"attributes\":{},\"id\":\"328e1e12-b1d4-4ff2-b546-3b7cb38b9ecd\",\"type\":\"SaveTool\"},{\"attributes\":{\"line_alpha\":0.1,\"line_color\":\"#1f77b4\",\"line_width\":2,\"x\":{\"field\":\"x\"},\"y\":{\"field\":\"y\"}},\"id\":\"8a78ab4c-f138-41a5-8b85-6466a0c4edfb\",\"type\":\"Line\"},{\"attributes\":{\"line_color\":\"#B2DF8A\",\"line_width\":2,\"x\":{\"field\":\"x\"},\"y\":{\"field\":\"y\"}},\"id\":\"03aaecd2-f7d9-4a6b-ab29-9b65b17ee94c\",\"type\":\"Line\"},{\"attributes\":{\"below\":[{\"id\":\"b99121e7-73b4-4ea4-954f-feab46c34eea\",\"type\":\"LinearAxis\"}],\"left\":[{\"id\":\"1a3490ba-d54c-4f6f-a427-bd9efbaa7266\",\"type\":\"LinearAxis\"}],\"plot_width\":1000,\"renderers\":[{\"id\":\"b99121e7-73b4-4ea4-954f-feab46c34eea\",\"type\":\"LinearAxis\"},{\"id\":\"9ec5cd9b-9f1e-4f85-bd32-91b9f2f0f585\",\"type\":\"Grid\"},{\"id\":\"1a3490ba-d54c-4f6f-a427-bd9efbaa7266\",\"type\":\"LinearAxis\"},{\"id\":\"c39aa068-5879-4863-a26b-9ccde8b29cb6\",\"type\":\"Grid\"},{\"id\":\"2447773f-6e49-4fb3-b54e-46a30a2b86fa\",\"type\":\"BoxAnnotation\"},{\"id\":\"557372a4-fa69-4db4-98f6-f4a4e6d1ca25\",\"type\":\"GlyphRenderer\"},{\"id\":\"e1306127-3ecc-4b75-9745-371622666760\",\"type\":\"GlyphRenderer\"},{\"id\":\"fd0a86de-c49d-4d18-b995-c735f3740257\",\"type\":\"Legend\"}],\"right\":[{\"id\":\"fd0a86de-c49d-4d18-b995-c735f3740257\",\"type\":\"Legend\"}],\"title\":{\"id\":\"2bf0478d-9fc7-41ca-afa1-15ea83803731\",\"type\":\"Title\"},\"toolbar\":{\"id\":\"4a57340a-0ff6-42f5-b0d6-54deb5141225\",\"type\":\"Toolbar\"},\"x_range\":{\"id\":\"dad44ccb-cf66-4ccd-a86d-0004f2c4d7d2\",\"type\":\"DataRange1d\"},\"x_scale\":{\"id\":\"cf3434e2-ecf4-4eab-8ead-2af3c6d99e9b\",\"type\":\"LinearScale\"},\"y_range\":{\"id\":\"9783b76d-3f73-479d-be53-aae61c5e182e\",\"type\":\"DataRange1d\"},\"y_scale\":{\"id\":\"64e902f1-8219-4cb7-874d-bbd91b56eeb9\",\"type\":\"LinearScale\"}},\"id\":\"1f7fb2a2-fee6-470c-9798-2e8501a4c886\",\"subtype\":\"Figure\",\"type\":\"Plot\"},{\"attributes\":{\"callback\":null,\"data\":{\"x\":[0,1,2,3,4,5,6,7,8,9,10,11,12,13,14,15,16,17],\"y\":{\"__ndarray__\":\"ALDlRQAgy0UAwChFAPAHRgCIEEYAKCBGADgVRgCQyUUAIBlGAIhCRgAIHUYAQANGAEAcRgAYK0YAMCdGAIAJRgDw60UAgAlG\",\"dtype\":\"float32\",\"shape\":[18]}},\"selected\":{\"id\":\"e923b210-255d-4798-836b-97d5534ce210\",\"type\":\"Selection\"},\"selection_policy\":{\"id\":\"7818b596-5735-4c99-bd95-b63ca2e5ecf0\",\"type\":\"UnionRenderers\"}},\"id\":\"b252221f-a779-45a5-8ce4-3d9bc9dfedf7\",\"type\":\"ColumnDataSource\"},{\"attributes\":{\"label\":{\"value\":\"Observed\"},\"renderers\":[{\"id\":\"e1306127-3ecc-4b75-9745-371622666760\",\"type\":\"GlyphRenderer\"}]},\"id\":\"c85d4a54-a59e-4994-b5f2-13993316c877\",\"type\":\"LegendItem\"},{\"attributes\":{\"data_source\":{\"id\":\"b252221f-a779-45a5-8ce4-3d9bc9dfedf7\",\"type\":\"ColumnDataSource\"},\"glyph\":{\"id\":\"9eeacac2-0fca-4c92-b475-0eff4326579c\",\"type\":\"Line\"},\"hover_glyph\":null,\"muted_glyph\":null,\"nonselection_glyph\":{\"id\":\"2f2ca267-65dd-48b0-8ff7-d8240fe83102\",\"type\":\"Line\"},\"selection_glyph\":null,\"view\":{\"id\":\"dc36a0a3-ace5-4a9b-a74c-29bfa71146e5\",\"type\":\"CDSView\"}},\"id\":\"e1306127-3ecc-4b75-9745-371622666760\",\"type\":\"GlyphRenderer\"},{\"attributes\":{},\"id\":\"7818b596-5735-4c99-bd95-b63ca2e5ecf0\",\"type\":\"UnionRenderers\"},{\"attributes\":{\"overlay\":{\"id\":\"2447773f-6e49-4fb3-b54e-46a30a2b86fa\",\"type\":\"BoxAnnotation\"}},\"id\":\"6b210d5d-0673-4324-9fde-7db3525c4b7b\",\"type\":\"BoxZoomTool\"},{\"attributes\":{\"plot\":null,\"text\":\"Comparison\"},\"id\":\"2bf0478d-9fc7-41ca-afa1-15ea83803731\",\"type\":\"Title\"},{\"attributes\":{},\"id\":\"89e10481-e728-4d19-9291-26babbb14949\",\"type\":\"UnionRenderers\"},{\"attributes\":{\"callback\":null},\"id\":\"dad44ccb-cf66-4ccd-a86d-0004f2c4d7d2\",\"type\":\"DataRange1d\"},{\"attributes\":{},\"id\":\"280b4e18-47b5-44e5-a571-1c548f7ac1c3\",\"type\":\"BasicTickFormatter\"},{\"attributes\":{\"data_source\":{\"id\":\"3b23753b-2742-42fe-9c64-992823777e03\",\"type\":\"ColumnDataSource\"},\"glyph\":{\"id\":\"03aaecd2-f7d9-4a6b-ab29-9b65b17ee94c\",\"type\":\"Line\"},\"hover_glyph\":null,\"muted_glyph\":null,\"nonselection_glyph\":{\"id\":\"8a78ab4c-f138-41a5-8b85-6466a0c4edfb\",\"type\":\"Line\"},\"selection_glyph\":null,\"view\":{\"id\":\"db423c5d-f962-4e92-a607-82214d50800c\",\"type\":\"CDSView\"}},\"id\":\"557372a4-fa69-4db4-98f6-f4a4e6d1ca25\",\"type\":\"GlyphRenderer\"},{\"attributes\":{\"line_alpha\":0.1,\"line_color\":\"#1f77b4\",\"line_width\":3,\"x\":{\"field\":\"x\"},\"y\":{\"field\":\"y\"}},\"id\":\"2f2ca267-65dd-48b0-8ff7-d8240fe83102\",\"type\":\"Line\"},{\"attributes\":{\"source\":{\"id\":\"3b23753b-2742-42fe-9c64-992823777e03\",\"type\":\"ColumnDataSource\"}},\"id\":\"db423c5d-f962-4e92-a607-82214d50800c\",\"type\":\"CDSView\"},{\"attributes\":{},\"id\":\"a75f79f2-bf89-4344-bd36-382b42ee755a\",\"type\":\"Selection\"},{\"attributes\":{\"bottom_units\":\"screen\",\"fill_alpha\":{\"value\":0.5},\"fill_color\":{\"value\":\"lightgrey\"},\"left_units\":\"screen\",\"level\":\"overlay\",\"line_alpha\":{\"value\":1.0},\"line_color\":{\"value\":\"black\"},\"line_dash\":[4,4],\"line_width\":{\"value\":2},\"plot\":null,\"render_mode\":\"css\",\"right_units\":\"screen\",\"top_units\":\"screen\"},\"id\":\"2447773f-6e49-4fb3-b54e-46a30a2b86fa\",\"type\":\"BoxAnnotation\"},{\"attributes\":{},\"id\":\"e923b210-255d-4798-836b-97d5534ce210\",\"type\":\"Selection\"},{\"attributes\":{},\"id\":\"cf49c9f4-8a2f-44c7-b664-e4835cb83148\",\"type\":\"HelpTool\"},{\"attributes\":{\"items\":[{\"id\":\"568564be-1e30-499a-8325-5a733cc9c0f9\",\"type\":\"LegendItem\"},{\"id\":\"c85d4a54-a59e-4994-b5f2-13993316c877\",\"type\":\"LegendItem\"}],\"location\":[0,-30],\"plot\":{\"id\":\"1f7fb2a2-fee6-470c-9798-2e8501a4c886\",\"subtype\":\"Figure\",\"type\":\"Plot\"}},\"id\":\"fd0a86de-c49d-4d18-b995-c735f3740257\",\"type\":\"Legend\"},{\"attributes\":{},\"id\":\"15f656a4-6deb-4042-810c-1e6a244800bc\",\"type\":\"BasicTicker\"},{\"attributes\":{\"label\":{\"value\":\"Forecasted_my_Stepwise\"},\"renderers\":[{\"id\":\"557372a4-fa69-4db4-98f6-f4a4e6d1ca25\",\"type\":\"GlyphRenderer\"}]},\"id\":\"568564be-1e30-499a-8325-5a733cc9c0f9\",\"type\":\"LegendItem\"}],\"root_ids\":[\"1f7fb2a2-fee6-470c-9798-2e8501a4c886\"]},\"title\":\"Bokeh Application\",\"version\":\"0.12.16\"}};\n",
       "  var render_items = [{\"docid\":\"e5ac5b3a-be05-4b6f-871b-0c17561ad910\",\"elementid\":\"3946a944-0cac-4ead-a1ff-7a201ad5b4e8\",\"modelid\":\"1f7fb2a2-fee6-470c-9798-2e8501a4c886\"}];\n",
       "  root.Bokeh.embed.embed_items_notebook(docs_json, render_items);\n",
       "\n",
       "  }\n",
       "  if (root.Bokeh !== undefined) {\n",
       "    embed_document(root);\n",
       "  } else {\n",
       "    var attempts = 0;\n",
       "    var timer = setInterval(function(root) {\n",
       "      if (root.Bokeh !== undefined) {\n",
       "        embed_document(root);\n",
       "        clearInterval(timer);\n",
       "      }\n",
       "      attempts++;\n",
       "      if (attempts > 100) {\n",
       "        console.log(\"Bokeh: ERROR: Unable to run BokehJS code because BokehJS library is missing\")\n",
       "        clearInterval(timer);\n",
       "      }\n",
       "    }, 10, root)\n",
       "  }\n",
       "})(window);"
      ],
      "application/vnd.bokehjs_exec.v0+json": ""
     },
     "metadata": {
      "application/vnd.bokehjs_exec.v0+json": {
       "id": "1f7fb2a2-fee6-470c-9798-2e8501a4c886"
      }
     },
     "output_type": "display_data"
    },
    {
     "data": {
      "text/html": [
       "\n",
       "<div class=\"bk-root\">\n",
       "    <div class=\"bk-plotdiv\" id=\"1c4978ac-7c87-499f-a56d-38a649d5937f\"></div>\n",
       "</div>"
      ]
     },
     "metadata": {},
     "output_type": "display_data"
    },
    {
     "data": {
      "application/javascript": [
       "(function(root) {\n",
       "  function embed_document(root) {\n",
       "    \n",
       "  var docs_json = {\"3f5ea599-9ae8-467f-b4b8-78f6bba11176\":{\"roots\":{\"references\":[{\"attributes\":{},\"id\":\"20c0ee5c-6446-44a2-a837-48f22b8d6c15\",\"type\":\"HelpTool\"},{\"attributes\":{},\"id\":\"0b054d14-2eb1-435f-91df-632bcfd14c00\",\"type\":\"UnionRenderers\"},{\"attributes\":{\"callback\":null,\"data\":{\"x\":[0,1,2,3,4,5,6,7,8,9,10,11,12,13,14,15,16,17],\"y\":{\"__ndarray__\":\"AADhQwAAFkUAgDtFAEDORADA80QAgDtEAOBERQDAKEUAMMBFAIC7RABAzkQAQM5EACB9RQBAzkQA4ERFAAAWQwDAc0UAQANF\",\"dtype\":\"float32\",\"shape\":[18]}},\"selected\":{\"id\":\"7d4103c8-337b-4a57-b314-e74bd6552888\",\"type\":\"Selection\"},\"selection_policy\":{\"id\":\"0615421b-b7a8-4410-a8c0-9f0ed8d4aa16\",\"type\":\"UnionRenderers\"}},\"id\":\"b0dc8cc2-7515-43cd-9b82-d3babdd64180\",\"type\":\"ColumnDataSource\"},{\"attributes\":{\"callback\":null},\"id\":\"f59377b5-8516-45c1-80be-190a6b52cabc\",\"type\":\"DataRange1d\"},{\"attributes\":{\"bottom_units\":\"screen\",\"fill_alpha\":{\"value\":0.5},\"fill_color\":{\"value\":\"lightgrey\"},\"left_units\":\"screen\",\"level\":\"overlay\",\"line_alpha\":{\"value\":1.0},\"line_color\":{\"value\":\"black\"},\"line_dash\":[4,4],\"line_width\":{\"value\":2},\"plot\":null,\"render_mode\":\"css\",\"right_units\":\"screen\",\"top_units\":\"screen\"},\"id\":\"f72da00e-1dbf-4b1f-9b99-29838bfb7cdc\",\"type\":\"BoxAnnotation\"},{\"attributes\":{\"below\":[{\"id\":\"51171ea9-36f5-40ce-b08b-0c5c4b4ed6f5\",\"type\":\"LinearAxis\"}],\"left\":[{\"id\":\"0bbb7e4d-a466-4614-9c3b-5818cd97ae84\",\"type\":\"LinearAxis\"}],\"plot_width\":1000,\"renderers\":[{\"id\":\"51171ea9-36f5-40ce-b08b-0c5c4b4ed6f5\",\"type\":\"LinearAxis\"},{\"id\":\"d9f742e9-1543-4ead-99e3-4e0e2067d4f1\",\"type\":\"Grid\"},{\"id\":\"0bbb7e4d-a466-4614-9c3b-5818cd97ae84\",\"type\":\"LinearAxis\"},{\"id\":\"aa40677b-359f-4727-bb1c-0f14c8fcdbe2\",\"type\":\"Grid\"},{\"id\":\"f72da00e-1dbf-4b1f-9b99-29838bfb7cdc\",\"type\":\"BoxAnnotation\"},{\"id\":\"85f996a1-42b2-4b39-a96b-92481584e332\",\"type\":\"GlyphRenderer\"},{\"id\":\"3be9e524-2144-40fd-8728-116cd3d0e60f\",\"type\":\"GlyphRenderer\"},{\"id\":\"6c2fb382-0f32-40b4-98b7-c57857ea9f46\",\"type\":\"Legend\"}],\"right\":[{\"id\":\"6c2fb382-0f32-40b4-98b7-c57857ea9f46\",\"type\":\"Legend\"}],\"title\":{\"id\":\"bafbae51-964c-42eb-a179-06a24a86b50d\",\"type\":\"Title\"},\"toolbar\":{\"id\":\"4db884fa-37a4-4a49-90bd-da22463fe515\",\"type\":\"Toolbar\"},\"x_range\":{\"id\":\"f59377b5-8516-45c1-80be-190a6b52cabc\",\"type\":\"DataRange1d\"},\"x_scale\":{\"id\":\"f20e6224-05b5-4bf1-be2f-94e7a2bb0ef1\",\"type\":\"LinearScale\"},\"y_range\":{\"id\":\"db77d3de-29bb-40c6-9f40-cb93e602702d\",\"type\":\"DataRange1d\"},\"y_scale\":{\"id\":\"00e146e4-a8ff-48e1-8a79-c16c11173a74\",\"type\":\"LinearScale\"}},\"id\":\"1ad0a06e-4d27-4a90-a5bc-b7daa1eaccc0\",\"subtype\":\"Figure\",\"type\":\"Plot\"},{\"attributes\":{},\"id\":\"4f671a04-56fb-4370-8fcc-06344141a41e\",\"type\":\"Selection\"},{\"attributes\":{\"source\":{\"id\":\"b0dc8cc2-7515-43cd-9b82-d3babdd64180\",\"type\":\"ColumnDataSource\"}},\"id\":\"e50dba76-cb6a-4215-8290-a7cab0302fab\",\"type\":\"CDSView\"},{\"attributes\":{\"line_alpha\":0.1,\"line_color\":\"#1f77b4\",\"line_width\":2,\"x\":{\"field\":\"x\"},\"y\":{\"field\":\"y\"}},\"id\":\"c2724768-03f3-4a4d-83a5-4b4083de02c6\",\"type\":\"Line\"},{\"attributes\":{\"data_source\":{\"id\":\"b0dc8cc2-7515-43cd-9b82-d3babdd64180\",\"type\":\"ColumnDataSource\"},\"glyph\":{\"id\":\"92f696e1-6d25-4dc2-9aec-23ffb7b6f083\",\"type\":\"Line\"},\"hover_glyph\":null,\"muted_glyph\":null,\"nonselection_glyph\":{\"id\":\"07188191-f494-4561-abec-54bb06a4d266\",\"type\":\"Line\"},\"selection_glyph\":null,\"view\":{\"id\":\"e50dba76-cb6a-4215-8290-a7cab0302fab\",\"type\":\"CDSView\"}},\"id\":\"3be9e524-2144-40fd-8728-116cd3d0e60f\",\"type\":\"GlyphRenderer\"},{\"attributes\":{\"dimension\":1,\"grid_line_alpha\":{\"value\":0.3},\"plot\":{\"id\":\"1ad0a06e-4d27-4a90-a5bc-b7daa1eaccc0\",\"subtype\":\"Figure\",\"type\":\"Plot\"},\"ticker\":{\"id\":\"832f09f0-709b-4245-9db0-79523884e1bb\",\"type\":\"BasicTicker\"}},\"id\":\"aa40677b-359f-4727-bb1c-0f14c8fcdbe2\",\"type\":\"Grid\"},{\"attributes\":{\"callback\":null},\"id\":\"db77d3de-29bb-40c6-9f40-cb93e602702d\",\"type\":\"DataRange1d\"},{\"attributes\":{},\"id\":\"0615421b-b7a8-4410-a8c0-9f0ed8d4aa16\",\"type\":\"UnionRenderers\"},{\"attributes\":{\"axis_label\":\"Value\",\"formatter\":{\"id\":\"f2d36c13-0b25-4a70-b0ba-d9bf8d26b02e\",\"type\":\"BasicTickFormatter\"},\"plot\":{\"id\":\"1ad0a06e-4d27-4a90-a5bc-b7daa1eaccc0\",\"subtype\":\"Figure\",\"type\":\"Plot\"},\"ticker\":{\"id\":\"832f09f0-709b-4245-9db0-79523884e1bb\",\"type\":\"BasicTicker\"}},\"id\":\"0bbb7e4d-a466-4614-9c3b-5818cd97ae84\",\"type\":\"LinearAxis\"},{\"attributes\":{\"source\":{\"id\":\"31c62cc4-ccb6-4d75-9bec-e4b608d70fca\",\"type\":\"ColumnDataSource\"}},\"id\":\"3eaa4a16-9536-47ce-9834-8cc866a334e4\",\"type\":\"CDSView\"},{\"attributes\":{\"plot\":null,\"text\":\"Comparison\"},\"id\":\"bafbae51-964c-42eb-a179-06a24a86b50d\",\"type\":\"Title\"},{\"attributes\":{\"overlay\":{\"id\":\"f72da00e-1dbf-4b1f-9b99-29838bfb7cdc\",\"type\":\"BoxAnnotation\"}},\"id\":\"b1cf7522-fbd4-4919-9a60-b0576e20c493\",\"type\":\"BoxZoomTool\"},{\"attributes\":{\"line_alpha\":0.1,\"line_color\":\"#1f77b4\",\"line_width\":3,\"x\":{\"field\":\"x\"},\"y\":{\"field\":\"y\"}},\"id\":\"07188191-f494-4561-abec-54bb06a4d266\",\"type\":\"Line\"},{\"attributes\":{},\"id\":\"00e146e4-a8ff-48e1-8a79-c16c11173a74\",\"type\":\"LinearScale\"},{\"attributes\":{},\"id\":\"8c9165e9-8dfe-4be7-849a-d8b9c8c434ea\",\"type\":\"BasicTickFormatter\"},{\"attributes\":{\"data_source\":{\"id\":\"31c62cc4-ccb6-4d75-9bec-e4b608d70fca\",\"type\":\"ColumnDataSource\"},\"glyph\":{\"id\":\"51b01424-8f0f-4cad-9ade-25c5fedd46cc\",\"type\":\"Line\"},\"hover_glyph\":null,\"muted_glyph\":null,\"nonselection_glyph\":{\"id\":\"c2724768-03f3-4a4d-83a5-4b4083de02c6\",\"type\":\"Line\"},\"selection_glyph\":null,\"view\":{\"id\":\"3eaa4a16-9536-47ce-9834-8cc866a334e4\",\"type\":\"CDSView\"}},\"id\":\"85f996a1-42b2-4b39-a96b-92481584e332\",\"type\":\"GlyphRenderer\"},{\"attributes\":{},\"id\":\"4ac5e29e-ed91-4053-9c5a-20b547162e43\",\"type\":\"ResetTool\"},{\"attributes\":{\"grid_line_alpha\":{\"value\":0.3},\"plot\":{\"id\":\"1ad0a06e-4d27-4a90-a5bc-b7daa1eaccc0\",\"subtype\":\"Figure\",\"type\":\"Plot\"},\"ticker\":{\"id\":\"d09203ef-0548-453f-8505-22dcacdecbd6\",\"type\":\"BasicTicker\"}},\"id\":\"d9f742e9-1543-4ead-99e3-4e0e2067d4f1\",\"type\":\"Grid\"},{\"attributes\":{\"line_color\":\"#A6CEE3\",\"line_width\":3,\"x\":{\"field\":\"x\"},\"y\":{\"field\":\"y\"}},\"id\":\"92f696e1-6d25-4dc2-9aec-23ffb7b6f083\",\"type\":\"Line\"},{\"attributes\":{\"axis_label\":\"Time\",\"formatter\":{\"id\":\"8c9165e9-8dfe-4be7-849a-d8b9c8c434ea\",\"type\":\"BasicTickFormatter\"},\"plot\":{\"id\":\"1ad0a06e-4d27-4a90-a5bc-b7daa1eaccc0\",\"subtype\":\"Figure\",\"type\":\"Plot\"},\"ticker\":{\"id\":\"d09203ef-0548-453f-8505-22dcacdecbd6\",\"type\":\"BasicTicker\"}},\"id\":\"51171ea9-36f5-40ce-b08b-0c5c4b4ed6f5\",\"type\":\"LinearAxis\"},{\"attributes\":{},\"id\":\"d09203ef-0548-453f-8505-22dcacdecbd6\",\"type\":\"BasicTicker\"},{\"attributes\":{\"active_drag\":\"auto\",\"active_inspect\":\"auto\",\"active_scroll\":\"auto\",\"active_tap\":\"auto\",\"tools\":[{\"id\":\"96d4ffb9-9bff-4470-8e2b-1b988fba6636\",\"type\":\"PanTool\"},{\"id\":\"826e7015-e17c-433c-a78c-2ef361ee47f4\",\"type\":\"WheelZoomTool\"},{\"id\":\"b1cf7522-fbd4-4919-9a60-b0576e20c493\",\"type\":\"BoxZoomTool\"},{\"id\":\"644d9439-8cb1-416d-bc7b-3cdc59f7689b\",\"type\":\"SaveTool\"},{\"id\":\"4ac5e29e-ed91-4053-9c5a-20b547162e43\",\"type\":\"ResetTool\"},{\"id\":\"20c0ee5c-6446-44a2-a837-48f22b8d6c15\",\"type\":\"HelpTool\"}]},\"id\":\"4db884fa-37a4-4a49-90bd-da22463fe515\",\"type\":\"Toolbar\"},{\"attributes\":{},\"id\":\"f20e6224-05b5-4bf1-be2f-94e7a2bb0ef1\",\"type\":\"LinearScale\"},{\"attributes\":{\"label\":{\"value\":\"Observed\"},\"renderers\":[{\"id\":\"3be9e524-2144-40fd-8728-116cd3d0e60f\",\"type\":\"GlyphRenderer\"}]},\"id\":\"9e47fee8-90be-40c9-b402-c60310495264\",\"type\":\"LegendItem\"},{\"attributes\":{},\"id\":\"7d4103c8-337b-4a57-b314-e74bd6552888\",\"type\":\"Selection\"},{\"attributes\":{\"items\":[{\"id\":\"523aec1c-8a27-41eb-9ee7-4ad5fe1fd7a2\",\"type\":\"LegendItem\"},{\"id\":\"9e47fee8-90be-40c9-b402-c60310495264\",\"type\":\"LegendItem\"}],\"location\":[0,-30],\"plot\":{\"id\":\"1ad0a06e-4d27-4a90-a5bc-b7daa1eaccc0\",\"subtype\":\"Figure\",\"type\":\"Plot\"}},\"id\":\"6c2fb382-0f32-40b4-98b7-c57857ea9f46\",\"type\":\"Legend\"},{\"attributes\":{},\"id\":\"644d9439-8cb1-416d-bc7b-3cdc59f7689b\",\"type\":\"SaveTool\"},{\"attributes\":{\"line_color\":\"#B2DF8A\",\"line_width\":2,\"x\":{\"field\":\"x\"},\"y\":{\"field\":\"y\"}},\"id\":\"51b01424-8f0f-4cad-9ade-25c5fedd46cc\",\"type\":\"Line\"},{\"attributes\":{},\"id\":\"96d4ffb9-9bff-4470-8e2b-1b988fba6636\",\"type\":\"PanTool\"},{\"attributes\":{\"callback\":null,\"data\":{\"x\":[0,1,2,3,4,5,6,7,8,9,10,11,12,13,14,15,16,17],\"y\":{\"__ndarray__\":\"jSaL11dmr0C0WTre+iKeQB2hdX0fGqdA8MYENaAblUCFHpLKCQeiQDyXg8JCBJNAPebsOzg5oUDkJfecqkCXQFgAxgsHhqFALW0/kD3mmEBmBHFPo+agQCWBZpVn4plAP/4yIn1coEC9Fwzm52+aQGfQrVyLw59AiE+ud/r1mkCPB65iaiefQPLtmt5VbJtA\",\"dtype\":\"float64\",\"shape\":[18]}},\"selected\":{\"id\":\"4f671a04-56fb-4370-8fcc-06344141a41e\",\"type\":\"Selection\"},\"selection_policy\":{\"id\":\"0b054d14-2eb1-435f-91df-632bcfd14c00\",\"type\":\"UnionRenderers\"}},\"id\":\"31c62cc4-ccb6-4d75-9bec-e4b608d70fca\",\"type\":\"ColumnDataSource\"},{\"attributes\":{},\"id\":\"832f09f0-709b-4245-9db0-79523884e1bb\",\"type\":\"BasicTicker\"},{\"attributes\":{},\"id\":\"f2d36c13-0b25-4a70-b0ba-d9bf8d26b02e\",\"type\":\"BasicTickFormatter\"},{\"attributes\":{},\"id\":\"826e7015-e17c-433c-a78c-2ef361ee47f4\",\"type\":\"WheelZoomTool\"},{\"attributes\":{\"label\":{\"value\":\"Forecasted_my_Stepwise\"},\"renderers\":[{\"id\":\"85f996a1-42b2-4b39-a96b-92481584e332\",\"type\":\"GlyphRenderer\"}]},\"id\":\"523aec1c-8a27-41eb-9ee7-4ad5fe1fd7a2\",\"type\":\"LegendItem\"}],\"root_ids\":[\"1ad0a06e-4d27-4a90-a5bc-b7daa1eaccc0\"]},\"title\":\"Bokeh Application\",\"version\":\"0.12.16\"}};\n",
       "  var render_items = [{\"docid\":\"3f5ea599-9ae8-467f-b4b8-78f6bba11176\",\"elementid\":\"1c4978ac-7c87-499f-a56d-38a649d5937f\",\"modelid\":\"1ad0a06e-4d27-4a90-a5bc-b7daa1eaccc0\"}];\n",
       "  root.Bokeh.embed.embed_items_notebook(docs_json, render_items);\n",
       "\n",
       "  }\n",
       "  if (root.Bokeh !== undefined) {\n",
       "    embed_document(root);\n",
       "  } else {\n",
       "    var attempts = 0;\n",
       "    var timer = setInterval(function(root) {\n",
       "      if (root.Bokeh !== undefined) {\n",
       "        embed_document(root);\n",
       "        clearInterval(timer);\n",
       "      }\n",
       "      attempts++;\n",
       "      if (attempts > 100) {\n",
       "        console.log(\"Bokeh: ERROR: Unable to run BokehJS code because BokehJS library is missing\")\n",
       "        clearInterval(timer);\n",
       "      }\n",
       "    }, 10, root)\n",
       "  }\n",
       "})(window);"
      ],
      "application/vnd.bokehjs_exec.v0+json": ""
     },
     "metadata": {
      "application/vnd.bokehjs_exec.v0+json": {
       "id": "1ad0a06e-4d27-4a90-a5bc-b7daa1eaccc0"
      }
     },
     "output_type": "display_data"
    },
    {
     "data": {
      "text/html": [
       "\n",
       "<div class=\"bk-root\">\n",
       "    <div class=\"bk-plotdiv\" id=\"6b5b7a52-6720-42f4-9f91-27aa12d7219c\"></div>\n",
       "</div>"
      ]
     },
     "metadata": {},
     "output_type": "display_data"
    },
    {
     "data": {
      "application/javascript": [
       "(function(root) {\n",
       "  function embed_document(root) {\n",
       "    \n",
       "  var docs_json = {\"14821cbf-02d1-4025-942f-dc199c572c92\":{\"roots\":{\"references\":[{\"attributes\":{\"plot\":null,\"text\":\"Comparison\"},\"id\":\"3b1b282c-91ce-4301-8600-c30d4ebcfad4\",\"type\":\"Title\"},{\"attributes\":{\"line_color\":\"#B2DF8A\",\"line_width\":2,\"x\":{\"field\":\"x\"},\"y\":{\"field\":\"y\"}},\"id\":\"983f90e4-38bb-422b-9ce1-82f8a84a74f2\",\"type\":\"Line\"},{\"attributes\":{\"line_alpha\":0.1,\"line_color\":\"#1f77b4\",\"line_width\":3,\"x\":{\"field\":\"x\"},\"y\":{\"field\":\"y\"}},\"id\":\"02d6b2c4-c417-4864-8094-6d793bdff781\",\"type\":\"Line\"},{\"attributes\":{\"data_source\":{\"id\":\"d1787ca8-b0ac-4e1c-90b5-6e61dc0f6dd0\",\"type\":\"ColumnDataSource\"},\"glyph\":{\"id\":\"d214e15f-7e1f-4ed1-9ccb-c5a28fc0d5bf\",\"type\":\"Line\"},\"hover_glyph\":null,\"muted_glyph\":null,\"nonselection_glyph\":{\"id\":\"02d6b2c4-c417-4864-8094-6d793bdff781\",\"type\":\"Line\"},\"selection_glyph\":null,\"view\":{\"id\":\"695e36a7-84f3-424e-9b6a-8b857f41f24e\",\"type\":\"CDSView\"}},\"id\":\"edcff45f-1f8e-4d90-9eb0-3bf65ddabedb\",\"type\":\"GlyphRenderer\"},{\"attributes\":{\"label\":{\"value\":\"Forecasted_my_Stepwise\"},\"renderers\":[{\"id\":\"da630286-e42b-41b7-9fc9-2924554c962b\",\"type\":\"GlyphRenderer\"}]},\"id\":\"a0c70910-f68c-4d43-bb31-3c26793b70f6\",\"type\":\"LegendItem\"},{\"attributes\":{\"items\":[{\"id\":\"a0c70910-f68c-4d43-bb31-3c26793b70f6\",\"type\":\"LegendItem\"},{\"id\":\"ceea09c4-f880-4c57-846f-4bc9bc06088b\",\"type\":\"LegendItem\"}],\"location\":[0,-30],\"plot\":{\"id\":\"d05a8f71-976f-4d09-893c-2a8fcde3a074\",\"subtype\":\"Figure\",\"type\":\"Plot\"}},\"id\":\"c251649d-34ef-44d2-948d-6a5e816facea\",\"type\":\"Legend\"},{\"attributes\":{},\"id\":\"600cbad6-1e47-4e41-9d60-c2198e9031e1\",\"type\":\"ResetTool\"},{\"attributes\":{\"source\":{\"id\":\"d1787ca8-b0ac-4e1c-90b5-6e61dc0f6dd0\",\"type\":\"ColumnDataSource\"}},\"id\":\"695e36a7-84f3-424e-9b6a-8b857f41f24e\",\"type\":\"CDSView\"},{\"attributes\":{},\"id\":\"fcdf8540-cca0-4057-a327-48efcc168b8f\",\"type\":\"BasicTickFormatter\"},{\"attributes\":{},\"id\":\"22c348ab-c501-4c50-90ca-1025a341ff5d\",\"type\":\"BasicTicker\"},{\"attributes\":{\"bottom_units\":\"screen\",\"fill_alpha\":{\"value\":0.5},\"fill_color\":{\"value\":\"lightgrey\"},\"left_units\":\"screen\",\"level\":\"overlay\",\"line_alpha\":{\"value\":1.0},\"line_color\":{\"value\":\"black\"},\"line_dash\":[4,4],\"line_width\":{\"value\":2},\"plot\":null,\"render_mode\":\"css\",\"right_units\":\"screen\",\"top_units\":\"screen\"},\"id\":\"2607469a-1639-42d7-af31-74dfc10edf6e\",\"type\":\"BoxAnnotation\"},{\"attributes\":{},\"id\":\"1171741b-dae2-4395-a9cf-c80dc1e80c49\",\"type\":\"LinearScale\"},{\"attributes\":{\"axis_label\":\"Value\",\"formatter\":{\"id\":\"fcdf8540-cca0-4057-a327-48efcc168b8f\",\"type\":\"BasicTickFormatter\"},\"plot\":{\"id\":\"d05a8f71-976f-4d09-893c-2a8fcde3a074\",\"subtype\":\"Figure\",\"type\":\"Plot\"},\"ticker\":{\"id\":\"22c348ab-c501-4c50-90ca-1025a341ff5d\",\"type\":\"BasicTicker\"}},\"id\":\"1c7a939a-8950-4913-bc7e-c5b739f7f7ea\",\"type\":\"LinearAxis\"},{\"attributes\":{\"data_source\":{\"id\":\"99a5e33e-be8b-42db-9cd2-3f8616301aec\",\"type\":\"ColumnDataSource\"},\"glyph\":{\"id\":\"983f90e4-38bb-422b-9ce1-82f8a84a74f2\",\"type\":\"Line\"},\"hover_glyph\":null,\"muted_glyph\":null,\"nonselection_glyph\":{\"id\":\"af1d8254-ae21-40ae-ad42-2d7837e7df8c\",\"type\":\"Line\"},\"selection_glyph\":null,\"view\":{\"id\":\"0ccc7462-3ce1-4698-b8f4-e2a642349d4e\",\"type\":\"CDSView\"}},\"id\":\"da630286-e42b-41b7-9fc9-2924554c962b\",\"type\":\"GlyphRenderer\"},{\"attributes\":{\"callback\":null,\"data\":{\"x\":[0,1,2,3,4,5,6,7,8,9,10,11,12,13,14,15,16,17],\"y\":{\"__ndarray__\":\"AEADRQBATkUAcK1FAACWRQAAYUUAYJ9FAIA7RQAgMkUAEKRFAADhRAAAYUUAQE5FANC2RQBgn0UAoFdFAABhRQCAu0UAwChF\",\"dtype\":\"float32\",\"shape\":[18]}},\"selected\":{\"id\":\"a56fa669-ec27-4249-8907-2d9dd62d6911\",\"type\":\"Selection\"},\"selection_policy\":{\"id\":\"2c6d8322-816d-45cc-933f-b502765d5df7\",\"type\":\"UnionRenderers\"}},\"id\":\"d1787ca8-b0ac-4e1c-90b5-6e61dc0f6dd0\",\"type\":\"ColumnDataSource\"},{\"attributes\":{\"line_alpha\":0.1,\"line_color\":\"#1f77b4\",\"line_width\":2,\"x\":{\"field\":\"x\"},\"y\":{\"field\":\"y\"}},\"id\":\"af1d8254-ae21-40ae-ad42-2d7837e7df8c\",\"type\":\"Line\"},{\"attributes\":{\"dimension\":1,\"grid_line_alpha\":{\"value\":0.3},\"plot\":{\"id\":\"d05a8f71-976f-4d09-893c-2a8fcde3a074\",\"subtype\":\"Figure\",\"type\":\"Plot\"},\"ticker\":{\"id\":\"22c348ab-c501-4c50-90ca-1025a341ff5d\",\"type\":\"BasicTicker\"}},\"id\":\"356b0db0-7cc7-4df5-b518-937b4d1c6db3\",\"type\":\"Grid\"},{\"attributes\":{\"overlay\":{\"id\":\"2607469a-1639-42d7-af31-74dfc10edf6e\",\"type\":\"BoxAnnotation\"}},\"id\":\"d73e2ce9-9a11-4f62-96de-169380fee141\",\"type\":\"BoxZoomTool\"},{\"attributes\":{},\"id\":\"af19cbf7-c8c4-4340-b633-f1a2fbcc79b6\",\"type\":\"BasicTickFormatter\"},{\"attributes\":{\"line_color\":\"#A6CEE3\",\"line_width\":3,\"x\":{\"field\":\"x\"},\"y\":{\"field\":\"y\"}},\"id\":\"d214e15f-7e1f-4ed1-9ccb-c5a28fc0d5bf\",\"type\":\"Line\"},{\"attributes\":{},\"id\":\"0b179d40-fd57-4227-ad67-8e013806296e\",\"type\":\"WheelZoomTool\"},{\"attributes\":{\"label\":{\"value\":\"Observed\"},\"renderers\":[{\"id\":\"edcff45f-1f8e-4d90-9eb0-3bf65ddabedb\",\"type\":\"GlyphRenderer\"}]},\"id\":\"ceea09c4-f880-4c57-846f-4bc9bc06088b\",\"type\":\"LegendItem\"},{\"attributes\":{},\"id\":\"51cb75cb-aaaf-4aab-aad3-24e585952674\",\"type\":\"PanTool\"},{\"attributes\":{\"axis_label\":\"Time\",\"formatter\":{\"id\":\"af19cbf7-c8c4-4340-b633-f1a2fbcc79b6\",\"type\":\"BasicTickFormatter\"},\"plot\":{\"id\":\"d05a8f71-976f-4d09-893c-2a8fcde3a074\",\"subtype\":\"Figure\",\"type\":\"Plot\"},\"ticker\":{\"id\":\"5ed46073-a418-4495-abf1-cabd01d55510\",\"type\":\"BasicTicker\"}},\"id\":\"93954daf-b1e5-420a-ad28-857049b3e0c4\",\"type\":\"LinearAxis\"},{\"attributes\":{\"callback\":null},\"id\":\"d90a9859-8c3e-4685-8599-ec499e5ba34d\",\"type\":\"DataRange1d\"},{\"attributes\":{\"source\":{\"id\":\"99a5e33e-be8b-42db-9cd2-3f8616301aec\",\"type\":\"ColumnDataSource\"}},\"id\":\"0ccc7462-3ce1-4698-b8f4-e2a642349d4e\",\"type\":\"CDSView\"},{\"attributes\":{\"below\":[{\"id\":\"93954daf-b1e5-420a-ad28-857049b3e0c4\",\"type\":\"LinearAxis\"}],\"left\":[{\"id\":\"1c7a939a-8950-4913-bc7e-c5b739f7f7ea\",\"type\":\"LinearAxis\"}],\"plot_width\":1000,\"renderers\":[{\"id\":\"93954daf-b1e5-420a-ad28-857049b3e0c4\",\"type\":\"LinearAxis\"},{\"id\":\"628e9e13-4925-47d8-afe6-e8eb9332a46c\",\"type\":\"Grid\"},{\"id\":\"1c7a939a-8950-4913-bc7e-c5b739f7f7ea\",\"type\":\"LinearAxis\"},{\"id\":\"356b0db0-7cc7-4df5-b518-937b4d1c6db3\",\"type\":\"Grid\"},{\"id\":\"2607469a-1639-42d7-af31-74dfc10edf6e\",\"type\":\"BoxAnnotation\"},{\"id\":\"da630286-e42b-41b7-9fc9-2924554c962b\",\"type\":\"GlyphRenderer\"},{\"id\":\"edcff45f-1f8e-4d90-9eb0-3bf65ddabedb\",\"type\":\"GlyphRenderer\"},{\"id\":\"c251649d-34ef-44d2-948d-6a5e816facea\",\"type\":\"Legend\"}],\"right\":[{\"id\":\"c251649d-34ef-44d2-948d-6a5e816facea\",\"type\":\"Legend\"}],\"title\":{\"id\":\"3b1b282c-91ce-4301-8600-c30d4ebcfad4\",\"type\":\"Title\"},\"toolbar\":{\"id\":\"4b4c3ed1-9aa6-4248-9d91-a1ea62869f78\",\"type\":\"Toolbar\"},\"x_range\":{\"id\":\"d90a9859-8c3e-4685-8599-ec499e5ba34d\",\"type\":\"DataRange1d\"},\"x_scale\":{\"id\":\"1171741b-dae2-4395-a9cf-c80dc1e80c49\",\"type\":\"LinearScale\"},\"y_range\":{\"id\":\"8b5440bd-58ae-4766-a193-6ff82c1efff1\",\"type\":\"DataRange1d\"},\"y_scale\":{\"id\":\"bcc92854-d168-43e7-a7d3-fe9c850b15fe\",\"type\":\"LinearScale\"}},\"id\":\"d05a8f71-976f-4d09-893c-2a8fcde3a074\",\"subtype\":\"Figure\",\"type\":\"Plot\"},{\"attributes\":{},\"id\":\"eabc3b3a-d796-4a23-9789-a9ca3533f559\",\"type\":\"Selection\"},{\"attributes\":{},\"id\":\"bcc92854-d168-43e7-a7d3-fe9c850b15fe\",\"type\":\"LinearScale\"},{\"attributes\":{\"callback\":null,\"data\":{\"x\":[0,1,2,3,4,5,6,7,8,9,10,11,12,13,14,15,16,17],\"y\":{\"__ndarray__\":\"JC/8YHqJoUCGA6X/qxuoQKsnLVt5oplAAH+sbHDhoUAZ7Xsp90uSQOreMBzTOKFAp7B6heSimUDQj8/PB3+hQJlWK0CKoZpAONecWjVToUDB/rm7fNCbQJy2iQGUzKBAKQyo+7MQnECKMTQlylmgQNUFEsKWi5xABp5LMzIVoEB11N6MUe+cQDsqx2u8w59A\",\"dtype\":\"float64\",\"shape\":[18]}},\"selected\":{\"id\":\"eabc3b3a-d796-4a23-9789-a9ca3533f559\",\"type\":\"Selection\"},\"selection_policy\":{\"id\":\"6f35dfe9-7a43-4dd7-86c9-05a735e93c2a\",\"type\":\"UnionRenderers\"}},\"id\":\"99a5e33e-be8b-42db-9cd2-3f8616301aec\",\"type\":\"ColumnDataSource\"},{\"attributes\":{},\"id\":\"6f35dfe9-7a43-4dd7-86c9-05a735e93c2a\",\"type\":\"UnionRenderers\"},{\"attributes\":{},\"id\":\"a56fa669-ec27-4249-8907-2d9dd62d6911\",\"type\":\"Selection\"},{\"attributes\":{\"active_drag\":\"auto\",\"active_inspect\":\"auto\",\"active_scroll\":\"auto\",\"active_tap\":\"auto\",\"tools\":[{\"id\":\"51cb75cb-aaaf-4aab-aad3-24e585952674\",\"type\":\"PanTool\"},{\"id\":\"0b179d40-fd57-4227-ad67-8e013806296e\",\"type\":\"WheelZoomTool\"},{\"id\":\"d73e2ce9-9a11-4f62-96de-169380fee141\",\"type\":\"BoxZoomTool\"},{\"id\":\"d39f1c87-a738-43e8-8548-b9bc0cd2c22b\",\"type\":\"SaveTool\"},{\"id\":\"600cbad6-1e47-4e41-9d60-c2198e9031e1\",\"type\":\"ResetTool\"},{\"id\":\"702474f6-e01d-487f-8bde-bf903a6a8c66\",\"type\":\"HelpTool\"}]},\"id\":\"4b4c3ed1-9aa6-4248-9d91-a1ea62869f78\",\"type\":\"Toolbar\"},{\"attributes\":{},\"id\":\"702474f6-e01d-487f-8bde-bf903a6a8c66\",\"type\":\"HelpTool\"},{\"attributes\":{},\"id\":\"5ed46073-a418-4495-abf1-cabd01d55510\",\"type\":\"BasicTicker\"},{\"attributes\":{},\"id\":\"2c6d8322-816d-45cc-933f-b502765d5df7\",\"type\":\"UnionRenderers\"},{\"attributes\":{\"callback\":null},\"id\":\"8b5440bd-58ae-4766-a193-6ff82c1efff1\",\"type\":\"DataRange1d\"},{\"attributes\":{},\"id\":\"d39f1c87-a738-43e8-8548-b9bc0cd2c22b\",\"type\":\"SaveTool\"},{\"attributes\":{\"grid_line_alpha\":{\"value\":0.3},\"plot\":{\"id\":\"d05a8f71-976f-4d09-893c-2a8fcde3a074\",\"subtype\":\"Figure\",\"type\":\"Plot\"},\"ticker\":{\"id\":\"5ed46073-a418-4495-abf1-cabd01d55510\",\"type\":\"BasicTicker\"}},\"id\":\"628e9e13-4925-47d8-afe6-e8eb9332a46c\",\"type\":\"Grid\"}],\"root_ids\":[\"d05a8f71-976f-4d09-893c-2a8fcde3a074\"]},\"title\":\"Bokeh Application\",\"version\":\"0.12.16\"}};\n",
       "  var render_items = [{\"docid\":\"14821cbf-02d1-4025-942f-dc199c572c92\",\"elementid\":\"6b5b7a52-6720-42f4-9f91-27aa12d7219c\",\"modelid\":\"d05a8f71-976f-4d09-893c-2a8fcde3a074\"}];\n",
       "  root.Bokeh.embed.embed_items_notebook(docs_json, render_items);\n",
       "\n",
       "  }\n",
       "  if (root.Bokeh !== undefined) {\n",
       "    embed_document(root);\n",
       "  } else {\n",
       "    var attempts = 0;\n",
       "    var timer = setInterval(function(root) {\n",
       "      if (root.Bokeh !== undefined) {\n",
       "        embed_document(root);\n",
       "        clearInterval(timer);\n",
       "      }\n",
       "      attempts++;\n",
       "      if (attempts > 100) {\n",
       "        console.log(\"Bokeh: ERROR: Unable to run BokehJS code because BokehJS library is missing\")\n",
       "        clearInterval(timer);\n",
       "      }\n",
       "    }, 10, root)\n",
       "  }\n",
       "})(window);"
      ],
      "application/vnd.bokehjs_exec.v0+json": ""
     },
     "metadata": {
      "application/vnd.bokehjs_exec.v0+json": {
       "id": "d05a8f71-976f-4d09-893c-2a8fcde3a074"
      }
     },
     "output_type": "display_data"
    },
    {
     "data": {
      "text/html": [
       "\n",
       "<div class=\"bk-root\">\n",
       "    <div class=\"bk-plotdiv\" id=\"b89056a6-e512-44f7-902b-9784b1062db2\"></div>\n",
       "</div>"
      ]
     },
     "metadata": {},
     "output_type": "display_data"
    },
    {
     "data": {
      "application/javascript": [
       "(function(root) {\n",
       "  function embed_document(root) {\n",
       "    \n",
       "  var docs_json = {\"4c6d44d7-5c1c-4929-88ac-1d176c227815\":{\"roots\":{\"references\":[{\"attributes\":{},\"id\":\"8271b384-7fda-4a66-8576-d0050d26bf01\",\"type\":\"ResetTool\"},{\"attributes\":{\"data_source\":{\"id\":\"6d29decf-7d85-4230-8e75-960859036c85\",\"type\":\"ColumnDataSource\"},\"glyph\":{\"id\":\"b78f74f5-6bd2-40aa-92db-d05051c2c2cf\",\"type\":\"Line\"},\"hover_glyph\":null,\"muted_glyph\":null,\"nonselection_glyph\":{\"id\":\"5cca9d18-6fa2-4eb2-a7bf-3c07d496fd6e\",\"type\":\"Line\"},\"selection_glyph\":null,\"view\":{\"id\":\"b9ed4a87-f513-440c-86b4-c01c01c6fd3b\",\"type\":\"CDSView\"}},\"id\":\"777f99e0-de77-45b4-b85d-e2c691a480c9\",\"type\":\"GlyphRenderer\"},{\"attributes\":{\"line_color\":\"#B2DF8A\",\"line_width\":2,\"x\":{\"field\":\"x\"},\"y\":{\"field\":\"y\"}},\"id\":\"5dfa67c3-df62-4809-a7f3-7f8cc93bd7fc\",\"type\":\"Line\"},{\"attributes\":{},\"id\":\"c42c827d-7bf4-4d9c-a0c9-bef8668620bb\",\"type\":\"UnionRenderers\"},{\"attributes\":{\"label\":{\"value\":\"Observed\"},\"renderers\":[{\"id\":\"777f99e0-de77-45b4-b85d-e2c691a480c9\",\"type\":\"GlyphRenderer\"}]},\"id\":\"df6b681f-b0bf-4b38-98f0-313aab4cd17c\",\"type\":\"LegendItem\"},{\"attributes\":{},\"id\":\"b05a322f-87aa-41fa-8131-72f34dc276aa\",\"type\":\"Selection\"},{\"attributes\":{\"callback\":null},\"id\":\"fa80c947-ac4f-43df-9727-9b6f47bd51e2\",\"type\":\"DataRange1d\"},{\"attributes\":{},\"id\":\"6b57504a-3438-4be8-b45f-2546b1dba1a1\",\"type\":\"BasicTicker\"},{\"attributes\":{\"axis_label\":\"Value\",\"formatter\":{\"id\":\"be7f38dd-d6a7-4e62-8cb2-2e5baeffb5e1\",\"type\":\"BasicTickFormatter\"},\"plot\":{\"id\":\"d06a2405-c68f-4a84-84f9-eed12dfee73c\",\"subtype\":\"Figure\",\"type\":\"Plot\"},\"ticker\":{\"id\":\"311728f6-0786-4771-a346-4658ce002f2b\",\"type\":\"BasicTicker\"}},\"id\":\"f940f543-d165-47bd-aa9b-909ea097b00d\",\"type\":\"LinearAxis\"},{\"attributes\":{\"line_alpha\":0.1,\"line_color\":\"#1f77b4\",\"line_width\":2,\"x\":{\"field\":\"x\"},\"y\":{\"field\":\"y\"}},\"id\":\"3b15e49b-b44d-4a5a-9df5-68c249fd323b\",\"type\":\"Line\"},{\"attributes\":{\"source\":{\"id\":\"83a15ec8-5fdb-4655-90c7-dbe5471af5fe\",\"type\":\"ColumnDataSource\"}},\"id\":\"3c4c76fe-8947-444d-ae2f-f9b519805d53\",\"type\":\"CDSView\"},{\"attributes\":{},\"id\":\"3ebce6b9-363b-4260-9ce7-d538dae2f70f\",\"type\":\"PanTool\"},{\"attributes\":{},\"id\":\"95af7658-87d3-411d-b5cf-a6df03865970\",\"type\":\"LinearScale\"},{\"attributes\":{},\"id\":\"72eb20df-9d7e-4ef4-bf0b-733214e17473\",\"type\":\"WheelZoomTool\"},{\"attributes\":{\"data_source\":{\"id\":\"83a15ec8-5fdb-4655-90c7-dbe5471af5fe\",\"type\":\"ColumnDataSource\"},\"glyph\":{\"id\":\"5dfa67c3-df62-4809-a7f3-7f8cc93bd7fc\",\"type\":\"Line\"},\"hover_glyph\":null,\"muted_glyph\":null,\"nonselection_glyph\":{\"id\":\"3b15e49b-b44d-4a5a-9df5-68c249fd323b\",\"type\":\"Line\"},\"selection_glyph\":null,\"view\":{\"id\":\"3c4c76fe-8947-444d-ae2f-f9b519805d53\",\"type\":\"CDSView\"}},\"id\":\"be6f8515-9821-4357-bd05-f08acf6dabb9\",\"type\":\"GlyphRenderer\"},{\"attributes\":{\"active_drag\":\"auto\",\"active_inspect\":\"auto\",\"active_scroll\":\"auto\",\"active_tap\":\"auto\",\"tools\":[{\"id\":\"3ebce6b9-363b-4260-9ce7-d538dae2f70f\",\"type\":\"PanTool\"},{\"id\":\"72eb20df-9d7e-4ef4-bf0b-733214e17473\",\"type\":\"WheelZoomTool\"},{\"id\":\"b5af5b39-c65d-401f-acfd-feb5211b3ccd\",\"type\":\"BoxZoomTool\"},{\"id\":\"eb8dc06b-e2f9-4978-aa81-b583b01b41c3\",\"type\":\"SaveTool\"},{\"id\":\"8271b384-7fda-4a66-8576-d0050d26bf01\",\"type\":\"ResetTool\"},{\"id\":\"6d24e366-ea02-4bcf-a47e-2244a51b1ce9\",\"type\":\"HelpTool\"}]},\"id\":\"72abda2a-f30e-4e87-a900-fcefdeea45e1\",\"type\":\"Toolbar\"},{\"attributes\":{\"line_color\":\"#A6CEE3\",\"line_width\":3,\"x\":{\"field\":\"x\"},\"y\":{\"field\":\"y\"}},\"id\":\"b78f74f5-6bd2-40aa-92db-d05051c2c2cf\",\"type\":\"Line\"},{\"attributes\":{\"callback\":null,\"data\":{\"x\":[0,1,2,3,4,5,6,7,8,9,10,11,12,13,14,15,16,17],\"y\":{\"__ndarray__\":\"AIA7RQCAO0UAYB9FAKAMRQDAc0UAQINFAGAfRQDAqEQAcPhFAMDzRACAu0QAoAxFALCaRQBAzkQAQINFAMAoRQAAlkUAwPNE\",\"dtype\":\"float32\",\"shape\":[18]}},\"selected\":{\"id\":\"b05a322f-87aa-41fa-8131-72f34dc276aa\",\"type\":\"Selection\"},\"selection_policy\":{\"id\":\"c42c827d-7bf4-4d9c-a0c9-bef8668620bb\",\"type\":\"UnionRenderers\"}},\"id\":\"6d29decf-7d85-4230-8e75-960859036c85\",\"type\":\"ColumnDataSource\"},{\"attributes\":{\"grid_line_alpha\":{\"value\":0.3},\"plot\":{\"id\":\"d06a2405-c68f-4a84-84f9-eed12dfee73c\",\"subtype\":\"Figure\",\"type\":\"Plot\"},\"ticker\":{\"id\":\"6b57504a-3438-4be8-b45f-2546b1dba1a1\",\"type\":\"BasicTicker\"}},\"id\":\"5be335fe-648c-4437-a0d4-a14ed1189de3\",\"type\":\"Grid\"},{\"attributes\":{},\"id\":\"609c7d28-0906-484e-a7df-23f28610b1d5\",\"type\":\"Selection\"},{\"attributes\":{\"items\":[{\"id\":\"ee178f36-d29a-47f2-a5f2-c30a42ca8300\",\"type\":\"LegendItem\"},{\"id\":\"df6b681f-b0bf-4b38-98f0-313aab4cd17c\",\"type\":\"LegendItem\"}],\"location\":[0,-30],\"plot\":{\"id\":\"d06a2405-c68f-4a84-84f9-eed12dfee73c\",\"subtype\":\"Figure\",\"type\":\"Plot\"}},\"id\":\"7f350560-248e-4666-a388-abb96e0cf5c6\",\"type\":\"Legend\"},{\"attributes\":{},\"id\":\"7d873400-ef81-4612-8f50-8b9bc0772720\",\"type\":\"LinearScale\"},{\"attributes\":{\"dimension\":1,\"grid_line_alpha\":{\"value\":0.3},\"plot\":{\"id\":\"d06a2405-c68f-4a84-84f9-eed12dfee73c\",\"subtype\":\"Figure\",\"type\":\"Plot\"},\"ticker\":{\"id\":\"311728f6-0786-4771-a346-4658ce002f2b\",\"type\":\"BasicTicker\"}},\"id\":\"ea18d9c9-6d97-4b18-ac0a-ee184663bbbb\",\"type\":\"Grid\"},{\"attributes\":{\"plot\":null,\"text\":\"Comparison\"},\"id\":\"5caf8962-4ef6-4c87-a5c1-5663c407880c\",\"type\":\"Title\"},{\"attributes\":{},\"id\":\"eb8dc06b-e2f9-4978-aa81-b583b01b41c3\",\"type\":\"SaveTool\"},{\"attributes\":{},\"id\":\"f4e6fb04-78a6-4fd6-8ea9-9651ef8302b5\",\"type\":\"UnionRenderers\"},{\"attributes\":{},\"id\":\"311728f6-0786-4771-a346-4658ce002f2b\",\"type\":\"BasicTicker\"},{\"attributes\":{\"line_alpha\":0.1,\"line_color\":\"#1f77b4\",\"line_width\":3,\"x\":{\"field\":\"x\"},\"y\":{\"field\":\"y\"}},\"id\":\"5cca9d18-6fa2-4eb2-a7bf-3c07d496fd6e\",\"type\":\"Line\"},{\"attributes\":{\"label\":{\"value\":\"Forecasted_my_Stepwise\"},\"renderers\":[{\"id\":\"be6f8515-9821-4357-bd05-f08acf6dabb9\",\"type\":\"GlyphRenderer\"}]},\"id\":\"ee178f36-d29a-47f2-a5f2-c30a42ca8300\",\"type\":\"LegendItem\"},{\"attributes\":{\"overlay\":{\"id\":\"8e394a4a-254f-4d75-badd-598ee77aabac\",\"type\":\"BoxAnnotation\"}},\"id\":\"b5af5b39-c65d-401f-acfd-feb5211b3ccd\",\"type\":\"BoxZoomTool\"},{\"attributes\":{\"callback\":null,\"data\":{\"x\":[0,1,2,3,4,5,6,7,8,9,10,11,12,13,14,15,16,17],\"y\":{\"__ndarray__\":\"5aWq3phmsEAu8NxeTWyjQFrsL+ixZqtASkLKPGYznkCnCk24GJioQCwqPv1rBaJASj7/ylyXqECCh3EIkIaiQLbEL9fc+qdAcQwnj2x5o0DbrkuiyWynQAyojlOZvaNALj7bQPXXpkASmMusFg6kQKQLygPue6ZA0QdRxnpNpED+ZfIC2TKmQFICRojsgqRA\",\"dtype\":\"float64\",\"shape\":[18]}},\"selected\":{\"id\":\"609c7d28-0906-484e-a7df-23f28610b1d5\",\"type\":\"Selection\"},\"selection_policy\":{\"id\":\"f4e6fb04-78a6-4fd6-8ea9-9651ef8302b5\",\"type\":\"UnionRenderers\"}},\"id\":\"83a15ec8-5fdb-4655-90c7-dbe5471af5fe\",\"type\":\"ColumnDataSource\"},{\"attributes\":{\"below\":[{\"id\":\"5feaac0f-39d3-4c2d-ae41-49f3195db1f6\",\"type\":\"LinearAxis\"}],\"left\":[{\"id\":\"f940f543-d165-47bd-aa9b-909ea097b00d\",\"type\":\"LinearAxis\"}],\"plot_width\":1000,\"renderers\":[{\"id\":\"5feaac0f-39d3-4c2d-ae41-49f3195db1f6\",\"type\":\"LinearAxis\"},{\"id\":\"5be335fe-648c-4437-a0d4-a14ed1189de3\",\"type\":\"Grid\"},{\"id\":\"f940f543-d165-47bd-aa9b-909ea097b00d\",\"type\":\"LinearAxis\"},{\"id\":\"ea18d9c9-6d97-4b18-ac0a-ee184663bbbb\",\"type\":\"Grid\"},{\"id\":\"8e394a4a-254f-4d75-badd-598ee77aabac\",\"type\":\"BoxAnnotation\"},{\"id\":\"be6f8515-9821-4357-bd05-f08acf6dabb9\",\"type\":\"GlyphRenderer\"},{\"id\":\"777f99e0-de77-45b4-b85d-e2c691a480c9\",\"type\":\"GlyphRenderer\"},{\"id\":\"7f350560-248e-4666-a388-abb96e0cf5c6\",\"type\":\"Legend\"}],\"right\":[{\"id\":\"7f350560-248e-4666-a388-abb96e0cf5c6\",\"type\":\"Legend\"}],\"title\":{\"id\":\"5caf8962-4ef6-4c87-a5c1-5663c407880c\",\"type\":\"Title\"},\"toolbar\":{\"id\":\"72abda2a-f30e-4e87-a900-fcefdeea45e1\",\"type\":\"Toolbar\"},\"x_range\":{\"id\":\"fa80c947-ac4f-43df-9727-9b6f47bd51e2\",\"type\":\"DataRange1d\"},\"x_scale\":{\"id\":\"95af7658-87d3-411d-b5cf-a6df03865970\",\"type\":\"LinearScale\"},\"y_range\":{\"id\":\"1e8f56b3-d021-45e1-aadc-19651e7d10fa\",\"type\":\"DataRange1d\"},\"y_scale\":{\"id\":\"7d873400-ef81-4612-8f50-8b9bc0772720\",\"type\":\"LinearScale\"}},\"id\":\"d06a2405-c68f-4a84-84f9-eed12dfee73c\",\"subtype\":\"Figure\",\"type\":\"Plot\"},{\"attributes\":{},\"id\":\"121482ef-815a-4add-ab78-ec62d7b0a4e8\",\"type\":\"BasicTickFormatter\"},{\"attributes\":{\"callback\":null},\"id\":\"1e8f56b3-d021-45e1-aadc-19651e7d10fa\",\"type\":\"DataRange1d\"},{\"attributes\":{\"source\":{\"id\":\"6d29decf-7d85-4230-8e75-960859036c85\",\"type\":\"ColumnDataSource\"}},\"id\":\"b9ed4a87-f513-440c-86b4-c01c01c6fd3b\",\"type\":\"CDSView\"},{\"attributes\":{\"bottom_units\":\"screen\",\"fill_alpha\":{\"value\":0.5},\"fill_color\":{\"value\":\"lightgrey\"},\"left_units\":\"screen\",\"level\":\"overlay\",\"line_alpha\":{\"value\":1.0},\"line_color\":{\"value\":\"black\"},\"line_dash\":[4,4],\"line_width\":{\"value\":2},\"plot\":null,\"render_mode\":\"css\",\"right_units\":\"screen\",\"top_units\":\"screen\"},\"id\":\"8e394a4a-254f-4d75-badd-598ee77aabac\",\"type\":\"BoxAnnotation\"},{\"attributes\":{\"axis_label\":\"Time\",\"formatter\":{\"id\":\"121482ef-815a-4add-ab78-ec62d7b0a4e8\",\"type\":\"BasicTickFormatter\"},\"plot\":{\"id\":\"d06a2405-c68f-4a84-84f9-eed12dfee73c\",\"subtype\":\"Figure\",\"type\":\"Plot\"},\"ticker\":{\"id\":\"6b57504a-3438-4be8-b45f-2546b1dba1a1\",\"type\":\"BasicTicker\"}},\"id\":\"5feaac0f-39d3-4c2d-ae41-49f3195db1f6\",\"type\":\"LinearAxis\"},{\"attributes\":{},\"id\":\"be7f38dd-d6a7-4e62-8cb2-2e5baeffb5e1\",\"type\":\"BasicTickFormatter\"},{\"attributes\":{},\"id\":\"6d24e366-ea02-4bcf-a47e-2244a51b1ce9\",\"type\":\"HelpTool\"}],\"root_ids\":[\"d06a2405-c68f-4a84-84f9-eed12dfee73c\"]},\"title\":\"Bokeh Application\",\"version\":\"0.12.16\"}};\n",
       "  var render_items = [{\"docid\":\"4c6d44d7-5c1c-4929-88ac-1d176c227815\",\"elementid\":\"b89056a6-e512-44f7-902b-9784b1062db2\",\"modelid\":\"d06a2405-c68f-4a84-84f9-eed12dfee73c\"}];\n",
       "  root.Bokeh.embed.embed_items_notebook(docs_json, render_items);\n",
       "\n",
       "  }\n",
       "  if (root.Bokeh !== undefined) {\n",
       "    embed_document(root);\n",
       "  } else {\n",
       "    var attempts = 0;\n",
       "    var timer = setInterval(function(root) {\n",
       "      if (root.Bokeh !== undefined) {\n",
       "        embed_document(root);\n",
       "        clearInterval(timer);\n",
       "      }\n",
       "      attempts++;\n",
       "      if (attempts > 100) {\n",
       "        console.log(\"Bokeh: ERROR: Unable to run BokehJS code because BokehJS library is missing\")\n",
       "        clearInterval(timer);\n",
       "      }\n",
       "    }, 10, root)\n",
       "  }\n",
       "})(window);"
      ],
      "application/vnd.bokehjs_exec.v0+json": ""
     },
     "metadata": {
      "application/vnd.bokehjs_exec.v0+json": {
       "id": "d06a2405-c68f-4a84-84f9-eed12dfee73c"
      }
     },
     "output_type": "display_data"
    },
    {
     "data": {
      "text/html": [
       "\n",
       "<div class=\"bk-root\">\n",
       "    <div class=\"bk-plotdiv\" id=\"3ed5eaff-5446-415b-a524-f94818c50081\"></div>\n",
       "</div>"
      ]
     },
     "metadata": {},
     "output_type": "display_data"
    },
    {
     "data": {
      "application/javascript": [
       "(function(root) {\n",
       "  function embed_document(root) {\n",
       "    \n",
       "  var docs_json = {\"3b6f9293-7294-4511-9e8c-8094253e3a9a\":{\"roots\":{\"references\":[{\"attributes\":{\"line_color\":\"#A6CEE3\",\"line_width\":3,\"x\":{\"field\":\"x\"},\"y\":{\"field\":\"y\"}},\"id\":\"46d106ed-2653-4972-85ff-9c40a9a5493e\",\"type\":\"Line\"},{\"attributes\":{\"line_alpha\":0.1,\"line_color\":\"#1f77b4\",\"line_width\":3,\"x\":{\"field\":\"x\"},\"y\":{\"field\":\"y\"}},\"id\":\"c8c403a8-024a-4d81-b23d-7f7e55f6e18e\",\"type\":\"Line\"},{\"attributes\":{},\"id\":\"5ce82775-c4bc-47d2-8a0f-40ac76b27873\",\"type\":\"HelpTool\"},{\"attributes\":{},\"id\":\"a84e670a-fb7c-49b9-85ad-6448e4020f12\",\"type\":\"ResetTool\"},{\"attributes\":{\"items\":[{\"id\":\"9dd87d7a-df92-4fa9-b130-5a2d45a9b6bd\",\"type\":\"LegendItem\"},{\"id\":\"cb609015-8feb-4b77-bc6d-37509b322925\",\"type\":\"LegendItem\"}],\"location\":[0,-30],\"plot\":{\"id\":\"116f46a6-e46f-4d42-9fe1-cb983db5ca29\",\"subtype\":\"Figure\",\"type\":\"Plot\"}},\"id\":\"46810e2e-b46e-40e9-89e7-e23d2070ec46\",\"type\":\"Legend\"},{\"attributes\":{},\"id\":\"5df613ed-40a3-451f-988a-efa40e8fbf29\",\"type\":\"SaveTool\"},{\"attributes\":{},\"id\":\"4b1fb58d-b8d2-42e0-a527-d4d47e15bbac\",\"type\":\"BasicTickFormatter\"},{\"attributes\":{},\"id\":\"656aaf70-3bad-4364-a634-43a2e42608fe\",\"type\":\"BasicTickFormatter\"},{\"attributes\":{\"label\":{\"value\":\"Forecasted_my_Stepwise\"},\"renderers\":[{\"id\":\"b88c9efe-5077-41bc-87fc-db13fb63bf33\",\"type\":\"GlyphRenderer\"}]},\"id\":\"9dd87d7a-df92-4fa9-b130-5a2d45a9b6bd\",\"type\":\"LegendItem\"},{\"attributes\":{},\"id\":\"12a6a755-562e-40f3-b911-380cf22a7fb2\",\"type\":\"Selection\"},{\"attributes\":{\"source\":{\"id\":\"8755976d-2d59-4757-877c-f17bd7c7efc5\",\"type\":\"ColumnDataSource\"}},\"id\":\"6c82a6fd-d914-4515-bfd9-91336774c155\",\"type\":\"CDSView\"},{\"attributes\":{},\"id\":\"59b6e7ab-58ae-428f-a23d-39b6987d379a\",\"type\":\"BasicTicker\"},{\"attributes\":{\"line_alpha\":0.1,\"line_color\":\"#1f77b4\",\"line_width\":2,\"x\":{\"field\":\"x\"},\"y\":{\"field\":\"y\"}},\"id\":\"b6a15807-63a0-428e-b10b-4a14430c6c76\",\"type\":\"Line\"},{\"attributes\":{},\"id\":\"dd5d4fd8-5af3-4dd3-9d1c-7379424fce06\",\"type\":\"UnionRenderers\"},{\"attributes\":{\"label\":{\"value\":\"Observed\"},\"renderers\":[{\"id\":\"b31b1752-2d07-437a-86f7-44358b8ceffa\",\"type\":\"GlyphRenderer\"}]},\"id\":\"cb609015-8feb-4b77-bc6d-37509b322925\",\"type\":\"LegendItem\"},{\"attributes\":{\"below\":[{\"id\":\"229b047c-326f-492d-95ba-6f6e536dd1f6\",\"type\":\"LinearAxis\"}],\"left\":[{\"id\":\"e9634e39-901c-4df8-9676-fb1574a8545b\",\"type\":\"LinearAxis\"}],\"plot_width\":1000,\"renderers\":[{\"id\":\"229b047c-326f-492d-95ba-6f6e536dd1f6\",\"type\":\"LinearAxis\"},{\"id\":\"780b338d-5a99-48e9-9101-3b3a3b6028a0\",\"type\":\"Grid\"},{\"id\":\"e9634e39-901c-4df8-9676-fb1574a8545b\",\"type\":\"LinearAxis\"},{\"id\":\"f1c86369-31e4-4fec-a6d4-e50fc0690aad\",\"type\":\"Grid\"},{\"id\":\"2581e906-bfcd-4569-8794-a603564e5e8c\",\"type\":\"BoxAnnotation\"},{\"id\":\"b88c9efe-5077-41bc-87fc-db13fb63bf33\",\"type\":\"GlyphRenderer\"},{\"id\":\"b31b1752-2d07-437a-86f7-44358b8ceffa\",\"type\":\"GlyphRenderer\"},{\"id\":\"46810e2e-b46e-40e9-89e7-e23d2070ec46\",\"type\":\"Legend\"}],\"right\":[{\"id\":\"46810e2e-b46e-40e9-89e7-e23d2070ec46\",\"type\":\"Legend\"}],\"title\":{\"id\":\"8ce18aec-377b-4a5e-b56b-232cdeb26f4a\",\"type\":\"Title\"},\"toolbar\":{\"id\":\"a02acfe5-5a41-4e70-b2d7-b1cd7682c09f\",\"type\":\"Toolbar\"},\"x_range\":{\"id\":\"4ec7e803-5741-4e99-af12-1eccc522f772\",\"type\":\"DataRange1d\"},\"x_scale\":{\"id\":\"7782ace6-0a82-4251-aa0e-849841937aca\",\"type\":\"LinearScale\"},\"y_range\":{\"id\":\"baca48f5-10e7-4e78-9af3-ee2fc894ad98\",\"type\":\"DataRange1d\"},\"y_scale\":{\"id\":\"3deb2ba7-f7f4-4301-bd1f-8292ac3551b4\",\"type\":\"LinearScale\"}},\"id\":\"116f46a6-e46f-4d42-9fe1-cb983db5ca29\",\"subtype\":\"Figure\",\"type\":\"Plot\"},{\"attributes\":{},\"id\":\"7782ace6-0a82-4251-aa0e-849841937aca\",\"type\":\"LinearScale\"},{\"attributes\":{\"callback\":null},\"id\":\"4ec7e803-5741-4e99-af12-1eccc522f772\",\"type\":\"DataRange1d\"},{\"attributes\":{\"source\":{\"id\":\"beb3a9ad-7338-4c61-9981-ce0c6558be0c\",\"type\":\"ColumnDataSource\"}},\"id\":\"d3dd2f87-da5a-4bc7-8847-ed7a45ffea5e\",\"type\":\"CDSView\"},{\"attributes\":{},\"id\":\"3f9e54f5-082d-4289-9350-f98f915dcbb5\",\"type\":\"Selection\"},{\"attributes\":{\"grid_line_alpha\":{\"value\":0.3},\"plot\":{\"id\":\"116f46a6-e46f-4d42-9fe1-cb983db5ca29\",\"subtype\":\"Figure\",\"type\":\"Plot\"},\"ticker\":{\"id\":\"bd95b2d2-574c-4cc1-a356-15907db56aca\",\"type\":\"BasicTicker\"}},\"id\":\"780b338d-5a99-48e9-9101-3b3a3b6028a0\",\"type\":\"Grid\"},{\"attributes\":{\"plot\":null,\"text\":\"Comparison\"},\"id\":\"8ce18aec-377b-4a5e-b56b-232cdeb26f4a\",\"type\":\"Title\"},{\"attributes\":{\"data_source\":{\"id\":\"beb3a9ad-7338-4c61-9981-ce0c6558be0c\",\"type\":\"ColumnDataSource\"},\"glyph\":{\"id\":\"1a056164-0cff-48fb-b747-5fb85b656e83\",\"type\":\"Line\"},\"hover_glyph\":null,\"muted_glyph\":null,\"nonselection_glyph\":{\"id\":\"b6a15807-63a0-428e-b10b-4a14430c6c76\",\"type\":\"Line\"},\"selection_glyph\":null,\"view\":{\"id\":\"d3dd2f87-da5a-4bc7-8847-ed7a45ffea5e\",\"type\":\"CDSView\"}},\"id\":\"b88c9efe-5077-41bc-87fc-db13fb63bf33\",\"type\":\"GlyphRenderer\"},{\"attributes\":{\"dimension\":1,\"grid_line_alpha\":{\"value\":0.3},\"plot\":{\"id\":\"116f46a6-e46f-4d42-9fe1-cb983db5ca29\",\"subtype\":\"Figure\",\"type\":\"Plot\"},\"ticker\":{\"id\":\"59b6e7ab-58ae-428f-a23d-39b6987d379a\",\"type\":\"BasicTicker\"}},\"id\":\"f1c86369-31e4-4fec-a6d4-e50fc0690aad\",\"type\":\"Grid\"},{\"attributes\":{\"active_drag\":\"auto\",\"active_inspect\":\"auto\",\"active_scroll\":\"auto\",\"active_tap\":\"auto\",\"tools\":[{\"id\":\"072f0682-33ab-4569-8d68-645df86e274a\",\"type\":\"PanTool\"},{\"id\":\"b35b2e27-81ca-4ffc-a7ad-fff749c68db6\",\"type\":\"WheelZoomTool\"},{\"id\":\"9f1799a0-a89c-4ade-adda-12f0b4c61cb4\",\"type\":\"BoxZoomTool\"},{\"id\":\"5df613ed-40a3-451f-988a-efa40e8fbf29\",\"type\":\"SaveTool\"},{\"id\":\"a84e670a-fb7c-49b9-85ad-6448e4020f12\",\"type\":\"ResetTool\"},{\"id\":\"5ce82775-c4bc-47d2-8a0f-40ac76b27873\",\"type\":\"HelpTool\"}]},\"id\":\"a02acfe5-5a41-4e70-b2d7-b1cd7682c09f\",\"type\":\"Toolbar\"},{\"attributes\":{},\"id\":\"bd95b2d2-574c-4cc1-a356-15907db56aca\",\"type\":\"BasicTicker\"},{\"attributes\":{\"axis_label\":\"Time\",\"formatter\":{\"id\":\"656aaf70-3bad-4364-a634-43a2e42608fe\",\"type\":\"BasicTickFormatter\"},\"plot\":{\"id\":\"116f46a6-e46f-4d42-9fe1-cb983db5ca29\",\"subtype\":\"Figure\",\"type\":\"Plot\"},\"ticker\":{\"id\":\"bd95b2d2-574c-4cc1-a356-15907db56aca\",\"type\":\"BasicTicker\"}},\"id\":\"229b047c-326f-492d-95ba-6f6e536dd1f6\",\"type\":\"LinearAxis\"},{\"attributes\":{\"data_source\":{\"id\":\"8755976d-2d59-4757-877c-f17bd7c7efc5\",\"type\":\"ColumnDataSource\"},\"glyph\":{\"id\":\"46d106ed-2653-4972-85ff-9c40a9a5493e\",\"type\":\"Line\"},\"hover_glyph\":null,\"muted_glyph\":null,\"nonselection_glyph\":{\"id\":\"c8c403a8-024a-4d81-b23d-7f7e55f6e18e\",\"type\":\"Line\"},\"selection_glyph\":null,\"view\":{\"id\":\"6c82a6fd-d914-4515-bfd9-91336774c155\",\"type\":\"CDSView\"}},\"id\":\"b31b1752-2d07-437a-86f7-44358b8ceffa\",\"type\":\"GlyphRenderer\"},{\"attributes\":{\"line_color\":\"#B2DF8A\",\"line_width\":2,\"x\":{\"field\":\"x\"},\"y\":{\"field\":\"y\"}},\"id\":\"1a056164-0cff-48fb-b747-5fb85b656e83\",\"type\":\"Line\"},{\"attributes\":{},\"id\":\"3deb2ba7-f7f4-4301-bd1f-8292ac3551b4\",\"type\":\"LinearScale\"},{\"attributes\":{\"callback\":null},\"id\":\"baca48f5-10e7-4e78-9af3-ee2fc894ad98\",\"type\":\"DataRange1d\"},{\"attributes\":{\"axis_label\":\"Value\",\"formatter\":{\"id\":\"4b1fb58d-b8d2-42e0-a527-d4d47e15bbac\",\"type\":\"BasicTickFormatter\"},\"plot\":{\"id\":\"116f46a6-e46f-4d42-9fe1-cb983db5ca29\",\"subtype\":\"Figure\",\"type\":\"Plot\"},\"ticker\":{\"id\":\"59b6e7ab-58ae-428f-a23d-39b6987d379a\",\"type\":\"BasicTicker\"}},\"id\":\"e9634e39-901c-4df8-9676-fb1574a8545b\",\"type\":\"LinearAxis\"},{\"attributes\":{\"callback\":null,\"data\":{\"x\":[0,1,2,3,4,5,6,7,8,9,10,11,12,13,14,15,16,17],\"y\":{\"__ndarray__\":\"6IjtU0/6sEBkIxa+aJO0QCEjCfOb6LJAjAF4eeU5skBJtihubU6yQE+EVEYRE7NA0oo4R/mkskDx/CDQHteyQENs2Q+DsLJAGWkNkbvmskBk/Zv4H7CyQLmTqNFtxbJAueSQAlafskBsR2l5ariyQPfY0oFRnLJAx8bScNauskAPfdPXVZmyQGwmb5rqqLJA\",\"dtype\":\"float64\",\"shape\":[18]}},\"selected\":{\"id\":\"3f9e54f5-082d-4289-9350-f98f915dcbb5\",\"type\":\"Selection\"},\"selection_policy\":{\"id\":\"03fd914f-2a71-458d-9c70-d30c9e9e7865\",\"type\":\"UnionRenderers\"}},\"id\":\"beb3a9ad-7338-4c61-9981-ce0c6558be0c\",\"type\":\"ColumnDataSource\"},{\"attributes\":{},\"id\":\"b35b2e27-81ca-4ffc-a7ad-fff749c68db6\",\"type\":\"WheelZoomTool\"},{\"attributes\":{},\"id\":\"03fd914f-2a71-458d-9c70-d30c9e9e7865\",\"type\":\"UnionRenderers\"},{\"attributes\":{\"bottom_units\":\"screen\",\"fill_alpha\":{\"value\":0.5},\"fill_color\":{\"value\":\"lightgrey\"},\"left_units\":\"screen\",\"level\":\"overlay\",\"line_alpha\":{\"value\":1.0},\"line_color\":{\"value\":\"black\"},\"line_dash\":[4,4],\"line_width\":{\"value\":2},\"plot\":null,\"render_mode\":\"css\",\"right_units\":\"screen\",\"top_units\":\"screen\"},\"id\":\"2581e906-bfcd-4569-8794-a603564e5e8c\",\"type\":\"BoxAnnotation\"},{\"attributes\":{\"callback\":null,\"data\":{\"x\":[0,1,2,3,4,5,6,7,8,9,10,11,12,13,14,15,16,17],\"y\":{\"__ndarray__\":\"AEAwRQCgr0UAQFNFAAC5RAAAEUUAgE9FAOCIRQCACUUAQF1FAAAbRQDAAEUAQDBFAEAwRQCADkUAQCtFAICORACA7UQAgIRF\",\"dtype\":\"float32\",\"shape\":[18]}},\"selected\":{\"id\":\"12a6a755-562e-40f3-b911-380cf22a7fb2\",\"type\":\"Selection\"},\"selection_policy\":{\"id\":\"dd5d4fd8-5af3-4dd3-9d1c-7379424fce06\",\"type\":\"UnionRenderers\"}},\"id\":\"8755976d-2d59-4757-877c-f17bd7c7efc5\",\"type\":\"ColumnDataSource\"},{\"attributes\":{\"overlay\":{\"id\":\"2581e906-bfcd-4569-8794-a603564e5e8c\",\"type\":\"BoxAnnotation\"}},\"id\":\"9f1799a0-a89c-4ade-adda-12f0b4c61cb4\",\"type\":\"BoxZoomTool\"},{\"attributes\":{},\"id\":\"072f0682-33ab-4569-8d68-645df86e274a\",\"type\":\"PanTool\"}],\"root_ids\":[\"116f46a6-e46f-4d42-9fe1-cb983db5ca29\"]},\"title\":\"Bokeh Application\",\"version\":\"0.12.16\"}};\n",
       "  var render_items = [{\"docid\":\"3b6f9293-7294-4511-9e8c-8094253e3a9a\",\"elementid\":\"3ed5eaff-5446-415b-a524-f94818c50081\",\"modelid\":\"116f46a6-e46f-4d42-9fe1-cb983db5ca29\"}];\n",
       "  root.Bokeh.embed.embed_items_notebook(docs_json, render_items);\n",
       "\n",
       "  }\n",
       "  if (root.Bokeh !== undefined) {\n",
       "    embed_document(root);\n",
       "  } else {\n",
       "    var attempts = 0;\n",
       "    var timer = setInterval(function(root) {\n",
       "      if (root.Bokeh !== undefined) {\n",
       "        embed_document(root);\n",
       "        clearInterval(timer);\n",
       "      }\n",
       "      attempts++;\n",
       "      if (attempts > 100) {\n",
       "        console.log(\"Bokeh: ERROR: Unable to run BokehJS code because BokehJS library is missing\")\n",
       "        clearInterval(timer);\n",
       "      }\n",
       "    }, 10, root)\n",
       "  }\n",
       "})(window);"
      ],
      "application/vnd.bokehjs_exec.v0+json": ""
     },
     "metadata": {
      "application/vnd.bokehjs_exec.v0+json": {
       "id": "116f46a6-e46f-4d42-9fe1-cb983db5ca29"
      }
     },
     "output_type": "display_data"
    },
    {
     "data": {
      "text/html": [
       "\n",
       "<div class=\"bk-root\">\n",
       "    <div class=\"bk-plotdiv\" id=\"77cf7eeb-6d68-4d15-94e6-77f699f3c7c9\"></div>\n",
       "</div>"
      ]
     },
     "metadata": {},
     "output_type": "display_data"
    },
    {
     "data": {
      "application/javascript": [
       "(function(root) {\n",
       "  function embed_document(root) {\n",
       "    \n",
       "  var docs_json = {\"d1be54f9-79cf-4848-aa35-0c69e1d8f8b0\":{\"roots\":{\"references\":[{\"attributes\":{},\"id\":\"1616989f-99cd-4f43-b32b-2561b567f34b\",\"type\":\"SaveTool\"},{\"attributes\":{\"bottom_units\":\"screen\",\"fill_alpha\":{\"value\":0.5},\"fill_color\":{\"value\":\"lightgrey\"},\"left_units\":\"screen\",\"level\":\"overlay\",\"line_alpha\":{\"value\":1.0},\"line_color\":{\"value\":\"black\"},\"line_dash\":[4,4],\"line_width\":{\"value\":2},\"plot\":null,\"render_mode\":\"css\",\"right_units\":\"screen\",\"top_units\":\"screen\"},\"id\":\"3f6fb95b-e5bc-4ef9-ba64-6ccc972b0f5f\",\"type\":\"BoxAnnotation\"},{\"attributes\":{},\"id\":\"a7d6034b-6156-4c67-abe9-9c323e04ff2e\",\"type\":\"ResetTool\"},{\"attributes\":{\"callback\":null,\"data\":{\"x\":[0,1,2,3,4,5,6,7,8,9,10,11,12,13,14,15,16,17],\"y\":{\"__ndarray__\":\"AOCIRQDAnkUAIJRFAIBtRQAgnkUAIIVFAOCNRQBANUUAoIxFAEBdRQAAcEUAAH9FAEBiRQDAbkUAgJhFAAAvRQCAY0UAIIBF\",\"dtype\":\"float32\",\"shape\":[18]}},\"selected\":{\"id\":\"8420863c-7905-4cc1-b427-1d3b0d5f0904\",\"type\":\"Selection\"},\"selection_policy\":{\"id\":\"aceaadb3-8a40-42a0-92c3-5668370d0ee4\",\"type\":\"UnionRenderers\"}},\"id\":\"6a9a02d0-db3e-475f-ac6a-e2657d52d7c9\",\"type\":\"ColumnDataSource\"},{\"attributes\":{},\"id\":\"748c6e72-3604-45b3-b96b-635db78cd00d\",\"type\":\"HelpTool\"},{\"attributes\":{},\"id\":\"864f3152-dfbe-490b-8226-a2cd32b086ab\",\"type\":\"PanTool\"},{\"attributes\":{\"line_color\":\"#A6CEE3\",\"line_width\":3,\"x\":{\"field\":\"x\"},\"y\":{\"field\":\"y\"}},\"id\":\"ac355211-f56f-4377-b4f6-dfd575eb31e1\",\"type\":\"Line\"},{\"attributes\":{\"axis_label\":\"Value\",\"formatter\":{\"id\":\"735a7dbb-4b83-42b9-90a5-0dce6aa5d2d9\",\"type\":\"BasicTickFormatter\"},\"plot\":{\"id\":\"4c72c3cd-e814-480e-a184-0287d8da2ae3\",\"subtype\":\"Figure\",\"type\":\"Plot\"},\"ticker\":{\"id\":\"bbffad5d-6d27-42ed-94ec-65a86b7b0a6d\",\"type\":\"BasicTicker\"}},\"id\":\"4f835e9a-f596-41a8-98c9-ba05eba8542b\",\"type\":\"LinearAxis\"},{\"attributes\":{},\"id\":\"879cfa6e-dcc7-4319-8ba2-c0d5a35fbf6e\",\"type\":\"UnionRenderers\"},{\"attributes\":{\"line_alpha\":0.1,\"line_color\":\"#1f77b4\",\"line_width\":3,\"x\":{\"field\":\"x\"},\"y\":{\"field\":\"y\"}},\"id\":\"c4b1c7a3-141e-4c66-afb1-a3cd3d322632\",\"type\":\"Line\"},{\"attributes\":{\"data_source\":{\"id\":\"6a9a02d0-db3e-475f-ac6a-e2657d52d7c9\",\"type\":\"ColumnDataSource\"},\"glyph\":{\"id\":\"ac355211-f56f-4377-b4f6-dfd575eb31e1\",\"type\":\"Line\"},\"hover_glyph\":null,\"muted_glyph\":null,\"nonselection_glyph\":{\"id\":\"c4b1c7a3-141e-4c66-afb1-a3cd3d322632\",\"type\":\"Line\"},\"selection_glyph\":null,\"view\":{\"id\":\"e3d57f7b-d92a-47e8-a74a-58d45b10273c\",\"type\":\"CDSView\"}},\"id\":\"b392fc89-f36e-4a2b-8a1f-583ecc7c3b05\",\"type\":\"GlyphRenderer\"},{\"attributes\":{\"callback\":null},\"id\":\"9f019641-8f67-4eb1-8545-e25eb7b70950\",\"type\":\"DataRange1d\"},{\"attributes\":{\"label\":{\"value\":\"Forecasted_my_Stepwise\"},\"renderers\":[{\"id\":\"2232017d-ddaf-4c10-acd7-aeffdb90798d\",\"type\":\"GlyphRenderer\"}]},\"id\":\"9cf76ee3-bfb2-4d11-bd6d-66e1475b7a76\",\"type\":\"LegendItem\"},{\"attributes\":{},\"id\":\"735a7dbb-4b83-42b9-90a5-0dce6aa5d2d9\",\"type\":\"BasicTickFormatter\"},{\"attributes\":{\"source\":{\"id\":\"6a9a02d0-db3e-475f-ac6a-e2657d52d7c9\",\"type\":\"ColumnDataSource\"}},\"id\":\"e3d57f7b-d92a-47e8-a74a-58d45b10273c\",\"type\":\"CDSView\"},{\"attributes\":{\"below\":[{\"id\":\"848fcf55-80db-4f0f-a69f-18a94131ba2b\",\"type\":\"LinearAxis\"}],\"left\":[{\"id\":\"4f835e9a-f596-41a8-98c9-ba05eba8542b\",\"type\":\"LinearAxis\"}],\"plot_width\":1000,\"renderers\":[{\"id\":\"848fcf55-80db-4f0f-a69f-18a94131ba2b\",\"type\":\"LinearAxis\"},{\"id\":\"7ebc236f-1de2-46f9-bf91-858fde8e697a\",\"type\":\"Grid\"},{\"id\":\"4f835e9a-f596-41a8-98c9-ba05eba8542b\",\"type\":\"LinearAxis\"},{\"id\":\"da77ea8c-9fb8-4412-abb8-cb7a7a5fc829\",\"type\":\"Grid\"},{\"id\":\"3f6fb95b-e5bc-4ef9-ba64-6ccc972b0f5f\",\"type\":\"BoxAnnotation\"},{\"id\":\"2232017d-ddaf-4c10-acd7-aeffdb90798d\",\"type\":\"GlyphRenderer\"},{\"id\":\"b392fc89-f36e-4a2b-8a1f-583ecc7c3b05\",\"type\":\"GlyphRenderer\"},{\"id\":\"86f71dac-a193-491c-98f2-d34d636704f3\",\"type\":\"Legend\"}],\"right\":[{\"id\":\"86f71dac-a193-491c-98f2-d34d636704f3\",\"type\":\"Legend\"}],\"title\":{\"id\":\"f18cb24a-3a76-4ed1-8706-523d916da7d2\",\"type\":\"Title\"},\"toolbar\":{\"id\":\"091469ce-71a9-4dc4-8dea-c244e0553c3c\",\"type\":\"Toolbar\"},\"x_range\":{\"id\":\"c6cd063e-e7bf-4924-a59b-3ea8d450adc5\",\"type\":\"DataRange1d\"},\"x_scale\":{\"id\":\"426d97a3-5b7d-4d9d-a0d2-e3b5cf1c736f\",\"type\":\"LinearScale\"},\"y_range\":{\"id\":\"9f019641-8f67-4eb1-8545-e25eb7b70950\",\"type\":\"DataRange1d\"},\"y_scale\":{\"id\":\"1cd5d338-480d-47ff-8c98-9b081886ed49\",\"type\":\"LinearScale\"}},\"id\":\"4c72c3cd-e814-480e-a184-0287d8da2ae3\",\"subtype\":\"Figure\",\"type\":\"Plot\"},{\"attributes\":{},\"id\":\"aceaadb3-8a40-42a0-92c3-5668370d0ee4\",\"type\":\"UnionRenderers\"},{\"attributes\":{\"items\":[{\"id\":\"9cf76ee3-bfb2-4d11-bd6d-66e1475b7a76\",\"type\":\"LegendItem\"},{\"id\":\"a5ac5c92-4ae9-4262-85c4-6bac6789b4db\",\"type\":\"LegendItem\"}],\"location\":[0,-30],\"plot\":{\"id\":\"4c72c3cd-e814-480e-a184-0287d8da2ae3\",\"subtype\":\"Figure\",\"type\":\"Plot\"}},\"id\":\"86f71dac-a193-491c-98f2-d34d636704f3\",\"type\":\"Legend\"},{\"attributes\":{\"line_color\":\"#B2DF8A\",\"line_width\":2,\"x\":{\"field\":\"x\"},\"y\":{\"field\":\"y\"}},\"id\":\"bf9f4ed1-aea7-4bd9-9ecb-9ad0bb2b4fa1\",\"type\":\"Line\"},{\"attributes\":{\"label\":{\"value\":\"Observed\"},\"renderers\":[{\"id\":\"b392fc89-f36e-4a2b-8a1f-583ecc7c3b05\",\"type\":\"GlyphRenderer\"}]},\"id\":\"a5ac5c92-4ae9-4262-85c4-6bac6789b4db\",\"type\":\"LegendItem\"},{\"attributes\":{\"dimension\":1,\"grid_line_alpha\":{\"value\":0.3},\"plot\":{\"id\":\"4c72c3cd-e814-480e-a184-0287d8da2ae3\",\"subtype\":\"Figure\",\"type\":\"Plot\"},\"ticker\":{\"id\":\"bbffad5d-6d27-42ed-94ec-65a86b7b0a6d\",\"type\":\"BasicTicker\"}},\"id\":\"da77ea8c-9fb8-4412-abb8-cb7a7a5fc829\",\"type\":\"Grid\"},{\"attributes\":{},\"id\":\"d78261b2-9251-42f5-ad0f-8299878aba0c\",\"type\":\"Selection\"},{\"attributes\":{\"overlay\":{\"id\":\"3f6fb95b-e5bc-4ef9-ba64-6ccc972b0f5f\",\"type\":\"BoxAnnotation\"}},\"id\":\"03c750f2-c5ea-42ef-8b2c-a209040ca5f8\",\"type\":\"BoxZoomTool\"},{\"attributes\":{\"data_source\":{\"id\":\"7cb0ff25-be54-4bbc-b984-8e752b7ccd63\",\"type\":\"ColumnDataSource\"},\"glyph\":{\"id\":\"bf9f4ed1-aea7-4bd9-9ecb-9ad0bb2b4fa1\",\"type\":\"Line\"},\"hover_glyph\":null,\"muted_glyph\":null,\"nonselection_glyph\":{\"id\":\"d518d22b-db84-477c-969d-37ec9717d216\",\"type\":\"Line\"},\"selection_glyph\":null,\"view\":{\"id\":\"b50f4fe1-6356-4ab0-bba7-e36f5179413b\",\"type\":\"CDSView\"}},\"id\":\"2232017d-ddaf-4c10-acd7-aeffdb90798d\",\"type\":\"GlyphRenderer\"},{\"attributes\":{},\"id\":\"8420863c-7905-4cc1-b427-1d3b0d5f0904\",\"type\":\"Selection\"},{\"attributes\":{},\"id\":\"f86b2688-28a6-450d-b397-a4d7d3b02f0a\",\"type\":\"BasicTickFormatter\"},{\"attributes\":{},\"id\":\"426d97a3-5b7d-4d9d-a0d2-e3b5cf1c736f\",\"type\":\"LinearScale\"},{\"attributes\":{\"plot\":null,\"text\":\"Comparison\"},\"id\":\"f18cb24a-3a76-4ed1-8706-523d916da7d2\",\"type\":\"Title\"},{\"attributes\":{\"line_alpha\":0.1,\"line_color\":\"#1f77b4\",\"line_width\":2,\"x\":{\"field\":\"x\"},\"y\":{\"field\":\"y\"}},\"id\":\"d518d22b-db84-477c-969d-37ec9717d216\",\"type\":\"Line\"},{\"attributes\":{\"callback\":null},\"id\":\"c6cd063e-e7bf-4924-a59b-3ea8d450adc5\",\"type\":\"DataRange1d\"},{\"attributes\":{},\"id\":\"bbffad5d-6d27-42ed-94ec-65a86b7b0a6d\",\"type\":\"BasicTicker\"},{\"attributes\":{\"source\":{\"id\":\"7cb0ff25-be54-4bbc-b984-8e752b7ccd63\",\"type\":\"ColumnDataSource\"}},\"id\":\"b50f4fe1-6356-4ab0-bba7-e36f5179413b\",\"type\":\"CDSView\"},{\"attributes\":{\"axis_label\":\"Time\",\"formatter\":{\"id\":\"f86b2688-28a6-450d-b397-a4d7d3b02f0a\",\"type\":\"BasicTickFormatter\"},\"plot\":{\"id\":\"4c72c3cd-e814-480e-a184-0287d8da2ae3\",\"subtype\":\"Figure\",\"type\":\"Plot\"},\"ticker\":{\"id\":\"e63d8d07-43a2-4f8c-a21a-ab9e8354f7c9\",\"type\":\"BasicTicker\"}},\"id\":\"848fcf55-80db-4f0f-a69f-18a94131ba2b\",\"type\":\"LinearAxis\"},{\"attributes\":{},\"id\":\"1cd5d338-480d-47ff-8c98-9b081886ed49\",\"type\":\"LinearScale\"},{\"attributes\":{},\"id\":\"3eeae695-6f9f-4ed5-bb09-f28e8a2d71a0\",\"type\":\"WheelZoomTool\"},{\"attributes\":{},\"id\":\"e63d8d07-43a2-4f8c-a21a-ab9e8354f7c9\",\"type\":\"BasicTicker\"},{\"attributes\":{\"active_drag\":\"auto\",\"active_inspect\":\"auto\",\"active_scroll\":\"auto\",\"active_tap\":\"auto\",\"tools\":[{\"id\":\"864f3152-dfbe-490b-8226-a2cd32b086ab\",\"type\":\"PanTool\"},{\"id\":\"3eeae695-6f9f-4ed5-bb09-f28e8a2d71a0\",\"type\":\"WheelZoomTool\"},{\"id\":\"03c750f2-c5ea-42ef-8b2c-a209040ca5f8\",\"type\":\"BoxZoomTool\"},{\"id\":\"1616989f-99cd-4f43-b32b-2561b567f34b\",\"type\":\"SaveTool\"},{\"id\":\"a7d6034b-6156-4c67-abe9-9c323e04ff2e\",\"type\":\"ResetTool\"},{\"id\":\"748c6e72-3604-45b3-b96b-635db78cd00d\",\"type\":\"HelpTool\"}]},\"id\":\"091469ce-71a9-4dc4-8dea-c244e0553c3c\",\"type\":\"Toolbar\"},{\"attributes\":{\"callback\":null,\"data\":{\"x\":[0,1,2,3,4,5,6,7,8,9,10,11,12,13,14,15,16,17],\"y\":{\"__ndarray__\":\"PIEeV1s4t0BGkhZf/v66QLjELddJQbtAf6HnE3pOvECjHQ/p4428QE+1A55/gbxAqhaIXGXqvEAgqoCqwsi8QMdPCS4yorxAhg7QSKdmvECIcArWz228QL9peCgjVLxAIfiux8xbvEAV4wRp7UW8QNVaoH8GUbxAIweFj6VCvECbKUH6JUq8QIPYSY9ZPbxA\",\"dtype\":\"float64\",\"shape\":[18]}},\"selected\":{\"id\":\"d78261b2-9251-42f5-ad0f-8299878aba0c\",\"type\":\"Selection\"},\"selection_policy\":{\"id\":\"879cfa6e-dcc7-4319-8ba2-c0d5a35fbf6e\",\"type\":\"UnionRenderers\"}},\"id\":\"7cb0ff25-be54-4bbc-b984-8e752b7ccd63\",\"type\":\"ColumnDataSource\"},{\"attributes\":{\"grid_line_alpha\":{\"value\":0.3},\"plot\":{\"id\":\"4c72c3cd-e814-480e-a184-0287d8da2ae3\",\"subtype\":\"Figure\",\"type\":\"Plot\"},\"ticker\":{\"id\":\"e63d8d07-43a2-4f8c-a21a-ab9e8354f7c9\",\"type\":\"BasicTicker\"}},\"id\":\"7ebc236f-1de2-46f9-bf91-858fde8e697a\",\"type\":\"Grid\"}],\"root_ids\":[\"4c72c3cd-e814-480e-a184-0287d8da2ae3\"]},\"title\":\"Bokeh Application\",\"version\":\"0.12.16\"}};\n",
       "  var render_items = [{\"docid\":\"d1be54f9-79cf-4848-aa35-0c69e1d8f8b0\",\"elementid\":\"77cf7eeb-6d68-4d15-94e6-77f699f3c7c9\",\"modelid\":\"4c72c3cd-e814-480e-a184-0287d8da2ae3\"}];\n",
       "  root.Bokeh.embed.embed_items_notebook(docs_json, render_items);\n",
       "\n",
       "  }\n",
       "  if (root.Bokeh !== undefined) {\n",
       "    embed_document(root);\n",
       "  } else {\n",
       "    var attempts = 0;\n",
       "    var timer = setInterval(function(root) {\n",
       "      if (root.Bokeh !== undefined) {\n",
       "        embed_document(root);\n",
       "        clearInterval(timer);\n",
       "      }\n",
       "      attempts++;\n",
       "      if (attempts > 100) {\n",
       "        console.log(\"Bokeh: ERROR: Unable to run BokehJS code because BokehJS library is missing\")\n",
       "        clearInterval(timer);\n",
       "      }\n",
       "    }, 10, root)\n",
       "  }\n",
       "})(window);"
      ],
      "application/vnd.bokehjs_exec.v0+json": ""
     },
     "metadata": {
      "application/vnd.bokehjs_exec.v0+json": {
       "id": "4c72c3cd-e814-480e-a184-0287d8da2ae3"
      }
     },
     "output_type": "display_data"
    },
    {
     "data": {
      "text/html": [
       "\n",
       "<div class=\"bk-root\">\n",
       "    <div class=\"bk-plotdiv\" id=\"1eb06347-9b2e-4a0d-aacc-b779d06ca742\"></div>\n",
       "</div>"
      ]
     },
     "metadata": {},
     "output_type": "display_data"
    },
    {
     "data": {
      "application/javascript": [
       "(function(root) {\n",
       "  function embed_document(root) {\n",
       "    \n",
       "  var docs_json = {\"952c4b85-1805-40b0-baf2-e125b7f67512\":{\"roots\":{\"references\":[{\"attributes\":{},\"id\":\"413fd587-8a27-4eab-a485-0d0871d109d9\",\"type\":\"BasicTicker\"},{\"attributes\":{\"grid_line_alpha\":{\"value\":0.3},\"plot\":{\"id\":\"f1b941c9-720d-48ee-a251-386e5e3c0404\",\"subtype\":\"Figure\",\"type\":\"Plot\"},\"ticker\":{\"id\":\"413fd587-8a27-4eab-a485-0d0871d109d9\",\"type\":\"BasicTicker\"}},\"id\":\"f7f127da-4baa-40f4-8462-7972b925deab\",\"type\":\"Grid\"},{\"attributes\":{\"line_alpha\":0.1,\"line_color\":\"#1f77b4\",\"line_width\":2,\"x\":{\"field\":\"x\"},\"y\":{\"field\":\"y\"}},\"id\":\"c3f038ad-0aff-4444-bb4a-754b92976544\",\"type\":\"Line\"},{\"attributes\":{},\"id\":\"b368abdb-f2c8-497b-b28e-dcf98d2d1242\",\"type\":\"LinearScale\"},{\"attributes\":{\"axis_label\":\"Value\",\"formatter\":{\"id\":\"7f1f2c83-3145-4334-9fad-ab9e46e344e1\",\"type\":\"BasicTickFormatter\"},\"plot\":{\"id\":\"f1b941c9-720d-48ee-a251-386e5e3c0404\",\"subtype\":\"Figure\",\"type\":\"Plot\"},\"ticker\":{\"id\":\"54f8b607-4ab2-4cfe-8dfb-3b7634da1f5c\",\"type\":\"BasicTicker\"}},\"id\":\"cc3c0714-1587-43d8-8a7c-f7f5c8b7ca7f\",\"type\":\"LinearAxis\"},{\"attributes\":{\"dimension\":1,\"grid_line_alpha\":{\"value\":0.3},\"plot\":{\"id\":\"f1b941c9-720d-48ee-a251-386e5e3c0404\",\"subtype\":\"Figure\",\"type\":\"Plot\"},\"ticker\":{\"id\":\"54f8b607-4ab2-4cfe-8dfb-3b7634da1f5c\",\"type\":\"BasicTicker\"}},\"id\":\"1109e934-b855-4d5b-b082-20b25f036ae2\",\"type\":\"Grid\"},{\"attributes\":{\"overlay\":{\"id\":\"54c71236-40ac-4e88-a976-f58d1a63c810\",\"type\":\"BoxAnnotation\"}},\"id\":\"41883c99-352d-4cf9-baa3-a209d53067fe\",\"type\":\"BoxZoomTool\"},{\"attributes\":{},\"id\":\"025997a9-c366-4dee-bb36-c30c539086a6\",\"type\":\"PanTool\"},{\"attributes\":{\"bottom_units\":\"screen\",\"fill_alpha\":{\"value\":0.5},\"fill_color\":{\"value\":\"lightgrey\"},\"left_units\":\"screen\",\"level\":\"overlay\",\"line_alpha\":{\"value\":1.0},\"line_color\":{\"value\":\"black\"},\"line_dash\":[4,4],\"line_width\":{\"value\":2},\"plot\":null,\"render_mode\":\"css\",\"right_units\":\"screen\",\"top_units\":\"screen\"},\"id\":\"54c71236-40ac-4e88-a976-f58d1a63c810\",\"type\":\"BoxAnnotation\"},{\"attributes\":{\"callback\":null,\"data\":{\"x\":[0,1,2,3,4,5,6,7,8,9,10,11,12,13,14,15,16,17],\"y\":{\"__ndarray__\":\"OQeNLpNgqkD1mPtB2r+wQOcSbXn6Iq5AzrRTiemRsUBMx8Om7GiwQNcwbj1eSbJAxcNirjGssEAET7kAheexQDAWJBxku7BAlZBZVm6IsUCDY36g4auwQIgMlekRW7FAIgdM71C3sEC98wq1HUOxQAg3BGy9wrBAdktdz4kwsUD0EB6DMsywQOuhcm7GILFA\",\"dtype\":\"float64\",\"shape\":[18]}},\"selected\":{\"id\":\"68d64f50-a3e7-4788-bd21-c982c6ca357d\",\"type\":\"Selection\"},\"selection_policy\":{\"id\":\"58c32ed2-1215-41e2-93bc-b0633e378719\",\"type\":\"UnionRenderers\"}},\"id\":\"a566c909-bd0a-4cad-9aae-a539807c57e6\",\"type\":\"ColumnDataSource\"},{\"attributes\":{\"items\":[{\"id\":\"f0455ef2-e657-4f94-9152-16e938b24d39\",\"type\":\"LegendItem\"},{\"id\":\"0f0ace0a-8b24-40b7-97a0-2719abdd5237\",\"type\":\"LegendItem\"}],\"location\":[0,-30],\"plot\":{\"id\":\"f1b941c9-720d-48ee-a251-386e5e3c0404\",\"subtype\":\"Figure\",\"type\":\"Plot\"}},\"id\":\"f1e872ba-64e3-4c52-b483-7fb4df509e56\",\"type\":\"Legend\"},{\"attributes\":{},\"id\":\"58c32ed2-1215-41e2-93bc-b0633e378719\",\"type\":\"UnionRenderers\"},{\"attributes\":{},\"id\":\"59f178b0-72ee-4d0b-ac0b-2a7b866b5741\",\"type\":\"SaveTool\"},{\"attributes\":{\"data_source\":{\"id\":\"a566c909-bd0a-4cad-9aae-a539807c57e6\",\"type\":\"ColumnDataSource\"},\"glyph\":{\"id\":\"a3b1ad67-3f6e-4b40-aa48-ebc9bb8ef9b2\",\"type\":\"Line\"},\"hover_glyph\":null,\"muted_glyph\":null,\"nonselection_glyph\":{\"id\":\"c3f038ad-0aff-4444-bb4a-754b92976544\",\"type\":\"Line\"},\"selection_glyph\":null,\"view\":{\"id\":\"9be930cf-584e-447b-a53c-cf222817560d\",\"type\":\"CDSView\"}},\"id\":\"c532125a-a4eb-462b-8e41-3723be75edbb\",\"type\":\"GlyphRenderer\"},{\"attributes\":{},\"id\":\"025335fb-db04-479b-b491-a89ec4c1be15\",\"type\":\"WheelZoomTool\"},{\"attributes\":{\"callback\":null,\"data\":{\"x\":[0,1,2,3,4,5,6,7,8,9,10,11,12,13,14,15,16,17],\"y\":{\"__ndarray__\":\"AIA2RQBAXUUAwCNFAMAeRQBAA0UAwHNFAEB2RQCACUUAgGNFAIA7RQCAIkUAAC9FAAAWRQDAVUUAQDpFAIDeRAAAL0UAAFxF\",\"dtype\":\"float32\",\"shape\":[18]}},\"selected\":{\"id\":\"d42f7bde-a2e1-4c0b-b619-25aa212e980f\",\"type\":\"Selection\"},\"selection_policy\":{\"id\":\"999b5249-1368-4077-9f6f-e01b6f3fbf46\",\"type\":\"UnionRenderers\"}},\"id\":\"07220a4c-7af7-4a2a-b44b-a5d7746720cd\",\"type\":\"ColumnDataSource\"},{\"attributes\":{\"line_color\":\"#A6CEE3\",\"line_width\":3,\"x\":{\"field\":\"x\"},\"y\":{\"field\":\"y\"}},\"id\":\"2be09f1b-1001-4539-bfe2-c54c2e48c736\",\"type\":\"Line\"},{\"attributes\":{\"line_alpha\":0.1,\"line_color\":\"#1f77b4\",\"line_width\":3,\"x\":{\"field\":\"x\"},\"y\":{\"field\":\"y\"}},\"id\":\"f10e2325-377b-45cf-97ca-ccf0c70cf8b1\",\"type\":\"Line\"},{\"attributes\":{},\"id\":\"db713ed9-dcc0-441c-be67-f9e03aa8f5c3\",\"type\":\"HelpTool\"},{\"attributes\":{},\"id\":\"d71eaa9c-2b28-430d-bee7-5cf45c23b1e9\",\"type\":\"ResetTool\"},{\"attributes\":{},\"id\":\"32b3309a-b14c-48f0-9942-bf71ab83d622\",\"type\":\"LinearScale\"},{\"attributes\":{\"data_source\":{\"id\":\"07220a4c-7af7-4a2a-b44b-a5d7746720cd\",\"type\":\"ColumnDataSource\"},\"glyph\":{\"id\":\"2be09f1b-1001-4539-bfe2-c54c2e48c736\",\"type\":\"Line\"},\"hover_glyph\":null,\"muted_glyph\":null,\"nonselection_glyph\":{\"id\":\"f10e2325-377b-45cf-97ca-ccf0c70cf8b1\",\"type\":\"Line\"},\"selection_glyph\":null,\"view\":{\"id\":\"dea05694-25af-4884-848c-3bbc9d3cd881\",\"type\":\"CDSView\"}},\"id\":\"3eef2da9-e994-4ae9-a4a5-367841397368\",\"type\":\"GlyphRenderer\"},{\"attributes\":{},\"id\":\"7f1f2c83-3145-4334-9fad-ab9e46e344e1\",\"type\":\"BasicTickFormatter\"},{\"attributes\":{\"source\":{\"id\":\"07220a4c-7af7-4a2a-b44b-a5d7746720cd\",\"type\":\"ColumnDataSource\"}},\"id\":\"dea05694-25af-4884-848c-3bbc9d3cd881\",\"type\":\"CDSView\"},{\"attributes\":{\"label\":{\"value\":\"Forecasted_my_Stepwise\"},\"renderers\":[{\"id\":\"c532125a-a4eb-462b-8e41-3723be75edbb\",\"type\":\"GlyphRenderer\"}]},\"id\":\"f0455ef2-e657-4f94-9152-16e938b24d39\",\"type\":\"LegendItem\"},{\"attributes\":{\"source\":{\"id\":\"a566c909-bd0a-4cad-9aae-a539807c57e6\",\"type\":\"ColumnDataSource\"}},\"id\":\"9be930cf-584e-447b-a53c-cf222817560d\",\"type\":\"CDSView\"},{\"attributes\":{\"callback\":null},\"id\":\"b6faad6f-8d1f-4767-a573-0275d4846ee0\",\"type\":\"DataRange1d\"},{\"attributes\":{},\"id\":\"54f8b607-4ab2-4cfe-8dfb-3b7634da1f5c\",\"type\":\"BasicTicker\"},{\"attributes\":{},\"id\":\"68d64f50-a3e7-4788-bd21-c982c6ca357d\",\"type\":\"Selection\"},{\"attributes\":{\"plot\":null,\"text\":\"Comparison\"},\"id\":\"ca679452-551f-418c-951a-9005ebc070b9\",\"type\":\"Title\"},{\"attributes\":{\"line_color\":\"#B2DF8A\",\"line_width\":2,\"x\":{\"field\":\"x\"},\"y\":{\"field\":\"y\"}},\"id\":\"a3b1ad67-3f6e-4b40-aa48-ebc9bb8ef9b2\",\"type\":\"Line\"},{\"attributes\":{},\"id\":\"38e88996-1ac1-41a6-866e-c0d83759b484\",\"type\":\"BasicTickFormatter\"},{\"attributes\":{\"active_drag\":\"auto\",\"active_inspect\":\"auto\",\"active_scroll\":\"auto\",\"active_tap\":\"auto\",\"tools\":[{\"id\":\"025997a9-c366-4dee-bb36-c30c539086a6\",\"type\":\"PanTool\"},{\"id\":\"025335fb-db04-479b-b491-a89ec4c1be15\",\"type\":\"WheelZoomTool\"},{\"id\":\"41883c99-352d-4cf9-baa3-a209d53067fe\",\"type\":\"BoxZoomTool\"},{\"id\":\"59f178b0-72ee-4d0b-ac0b-2a7b866b5741\",\"type\":\"SaveTool\"},{\"id\":\"d71eaa9c-2b28-430d-bee7-5cf45c23b1e9\",\"type\":\"ResetTool\"},{\"id\":\"db713ed9-dcc0-441c-be67-f9e03aa8f5c3\",\"type\":\"HelpTool\"}]},\"id\":\"1214ef9b-996e-4224-8512-89dee06f3f83\",\"type\":\"Toolbar\"},{\"attributes\":{},\"id\":\"999b5249-1368-4077-9f6f-e01b6f3fbf46\",\"type\":\"UnionRenderers\"},{\"attributes\":{\"callback\":null},\"id\":\"97782bad-d676-4633-83cd-1afeaa38097f\",\"type\":\"DataRange1d\"},{\"attributes\":{\"label\":{\"value\":\"Observed\"},\"renderers\":[{\"id\":\"3eef2da9-e994-4ae9-a4a5-367841397368\",\"type\":\"GlyphRenderer\"}]},\"id\":\"0f0ace0a-8b24-40b7-97a0-2719abdd5237\",\"type\":\"LegendItem\"},{\"attributes\":{\"axis_label\":\"Time\",\"formatter\":{\"id\":\"38e88996-1ac1-41a6-866e-c0d83759b484\",\"type\":\"BasicTickFormatter\"},\"plot\":{\"id\":\"f1b941c9-720d-48ee-a251-386e5e3c0404\",\"subtype\":\"Figure\",\"type\":\"Plot\"},\"ticker\":{\"id\":\"413fd587-8a27-4eab-a485-0d0871d109d9\",\"type\":\"BasicTicker\"}},\"id\":\"2f50935d-6d17-4766-b36b-660bac0dda9d\",\"type\":\"LinearAxis\"},{\"attributes\":{\"below\":[{\"id\":\"2f50935d-6d17-4766-b36b-660bac0dda9d\",\"type\":\"LinearAxis\"}],\"left\":[{\"id\":\"cc3c0714-1587-43d8-8a7c-f7f5c8b7ca7f\",\"type\":\"LinearAxis\"}],\"plot_width\":1000,\"renderers\":[{\"id\":\"2f50935d-6d17-4766-b36b-660bac0dda9d\",\"type\":\"LinearAxis\"},{\"id\":\"f7f127da-4baa-40f4-8462-7972b925deab\",\"type\":\"Grid\"},{\"id\":\"cc3c0714-1587-43d8-8a7c-f7f5c8b7ca7f\",\"type\":\"LinearAxis\"},{\"id\":\"1109e934-b855-4d5b-b082-20b25f036ae2\",\"type\":\"Grid\"},{\"id\":\"54c71236-40ac-4e88-a976-f58d1a63c810\",\"type\":\"BoxAnnotation\"},{\"id\":\"c532125a-a4eb-462b-8e41-3723be75edbb\",\"type\":\"GlyphRenderer\"},{\"id\":\"3eef2da9-e994-4ae9-a4a5-367841397368\",\"type\":\"GlyphRenderer\"},{\"id\":\"f1e872ba-64e3-4c52-b483-7fb4df509e56\",\"type\":\"Legend\"}],\"right\":[{\"id\":\"f1e872ba-64e3-4c52-b483-7fb4df509e56\",\"type\":\"Legend\"}],\"title\":{\"id\":\"ca679452-551f-418c-951a-9005ebc070b9\",\"type\":\"Title\"},\"toolbar\":{\"id\":\"1214ef9b-996e-4224-8512-89dee06f3f83\",\"type\":\"Toolbar\"},\"x_range\":{\"id\":\"97782bad-d676-4633-83cd-1afeaa38097f\",\"type\":\"DataRange1d\"},\"x_scale\":{\"id\":\"32b3309a-b14c-48f0-9942-bf71ab83d622\",\"type\":\"LinearScale\"},\"y_range\":{\"id\":\"b6faad6f-8d1f-4767-a573-0275d4846ee0\",\"type\":\"DataRange1d\"},\"y_scale\":{\"id\":\"b368abdb-f2c8-497b-b28e-dcf98d2d1242\",\"type\":\"LinearScale\"}},\"id\":\"f1b941c9-720d-48ee-a251-386e5e3c0404\",\"subtype\":\"Figure\",\"type\":\"Plot\"},{\"attributes\":{},\"id\":\"d42f7bde-a2e1-4c0b-b619-25aa212e980f\",\"type\":\"Selection\"}],\"root_ids\":[\"f1b941c9-720d-48ee-a251-386e5e3c0404\"]},\"title\":\"Bokeh Application\",\"version\":\"0.12.16\"}};\n",
       "  var render_items = [{\"docid\":\"952c4b85-1805-40b0-baf2-e125b7f67512\",\"elementid\":\"1eb06347-9b2e-4a0d-aacc-b779d06ca742\",\"modelid\":\"f1b941c9-720d-48ee-a251-386e5e3c0404\"}];\n",
       "  root.Bokeh.embed.embed_items_notebook(docs_json, render_items);\n",
       "\n",
       "  }\n",
       "  if (root.Bokeh !== undefined) {\n",
       "    embed_document(root);\n",
       "  } else {\n",
       "    var attempts = 0;\n",
       "    var timer = setInterval(function(root) {\n",
       "      if (root.Bokeh !== undefined) {\n",
       "        embed_document(root);\n",
       "        clearInterval(timer);\n",
       "      }\n",
       "      attempts++;\n",
       "      if (attempts > 100) {\n",
       "        console.log(\"Bokeh: ERROR: Unable to run BokehJS code because BokehJS library is missing\")\n",
       "        clearInterval(timer);\n",
       "      }\n",
       "    }, 10, root)\n",
       "  }\n",
       "})(window);"
      ],
      "application/vnd.bokehjs_exec.v0+json": ""
     },
     "metadata": {
      "application/vnd.bokehjs_exec.v0+json": {
       "id": "f1b941c9-720d-48ee-a251-386e5e3c0404"
      }
     },
     "output_type": "display_data"
    },
    {
     "data": {
      "text/html": [
       "\n",
       "<div class=\"bk-root\">\n",
       "    <div class=\"bk-plotdiv\" id=\"0a95a5a2-e22e-4c17-96af-906aaeaf8bd4\"></div>\n",
       "</div>"
      ]
     },
     "metadata": {},
     "output_type": "display_data"
    },
    {
     "data": {
      "application/javascript": [
       "(function(root) {\n",
       "  function embed_document(root) {\n",
       "    \n",
       "  var docs_json = {\"6a61883d-0f5b-426c-a504-c5546acaf7b6\":{\"roots\":{\"references\":[{\"attributes\":{\"axis_label\":\"Time\",\"formatter\":{\"id\":\"3428a48d-32c3-4237-a519-c71e68f033b5\",\"type\":\"BasicTickFormatter\"},\"plot\":{\"id\":\"a6632de4-e810-45da-95ea-14c390d1212e\",\"subtype\":\"Figure\",\"type\":\"Plot\"},\"ticker\":{\"id\":\"1a5a6a31-2328-4a01-9061-c0561425e80f\",\"type\":\"BasicTicker\"}},\"id\":\"0d4f75be-b216-43bb-87c0-f06868109631\",\"type\":\"LinearAxis\"},{\"attributes\":{\"grid_line_alpha\":{\"value\":0.3},\"plot\":{\"id\":\"a6632de4-e810-45da-95ea-14c390d1212e\",\"subtype\":\"Figure\",\"type\":\"Plot\"},\"ticker\":{\"id\":\"1a5a6a31-2328-4a01-9061-c0561425e80f\",\"type\":\"BasicTicker\"}},\"id\":\"bd63e4d4-6dce-49b8-b3e1-7aee2d791592\",\"type\":\"Grid\"},{\"attributes\":{},\"id\":\"621dc10d-615c-41bb-94bd-5f84873ffbe7\",\"type\":\"LinearScale\"},{\"attributes\":{\"line_alpha\":0.1,\"line_color\":\"#1f77b4\",\"line_width\":2,\"x\":{\"field\":\"x\"},\"y\":{\"field\":\"y\"}},\"id\":\"94238948-a731-480a-ba25-31783025f3c4\",\"type\":\"Line\"},{\"attributes\":{},\"id\":\"94694a82-cd54-423b-860c-aedfde53f726\",\"type\":\"Selection\"},{\"attributes\":{\"axis_label\":\"Value\",\"formatter\":{\"id\":\"75552c01-aa7f-43af-9d47-bfa00e022314\",\"type\":\"BasicTickFormatter\"},\"plot\":{\"id\":\"a6632de4-e810-45da-95ea-14c390d1212e\",\"subtype\":\"Figure\",\"type\":\"Plot\"},\"ticker\":{\"id\":\"cfa7d350-09aa-49eb-b654-3781a88e34ff\",\"type\":\"BasicTicker\"}},\"id\":\"9c65d4d6-2b37-4762-b67b-e5d4d26088df\",\"type\":\"LinearAxis\"},{\"attributes\":{\"callback\":null},\"id\":\"4483f484-e38e-4f2d-a272-3eb82333ce3e\",\"type\":\"DataRange1d\"},{\"attributes\":{},\"id\":\"57e8d24e-043d-4858-a443-07dfca157efc\",\"type\":\"SaveTool\"},{\"attributes\":{\"line_color\":\"#B2DF8A\",\"line_width\":2,\"x\":{\"field\":\"x\"},\"y\":{\"field\":\"y\"}},\"id\":\"d03a7b35-4b08-4dd1-b64f-0fed019cc09f\",\"type\":\"Line\"},{\"attributes\":{},\"id\":\"1a5a6a31-2328-4a01-9061-c0561425e80f\",\"type\":\"BasicTicker\"},{\"attributes\":{\"overlay\":{\"id\":\"8f1d08d2-38cc-412d-b88f-ccaecfeb9200\",\"type\":\"BoxAnnotation\"}},\"id\":\"a78f8199-ac91-476f-a107-04b131567c7d\",\"type\":\"BoxZoomTool\"},{\"attributes\":{},\"id\":\"cfa7d350-09aa-49eb-b654-3781a88e34ff\",\"type\":\"BasicTicker\"},{\"attributes\":{\"dimension\":1,\"grid_line_alpha\":{\"value\":0.3},\"plot\":{\"id\":\"a6632de4-e810-45da-95ea-14c390d1212e\",\"subtype\":\"Figure\",\"type\":\"Plot\"},\"ticker\":{\"id\":\"cfa7d350-09aa-49eb-b654-3781a88e34ff\",\"type\":\"BasicTicker\"}},\"id\":\"b46a37e7-eea3-4cbb-a1e4-be6df072d148\",\"type\":\"Grid\"},{\"attributes\":{},\"id\":\"ab48e8be-1601-4b75-9254-97285e427708\",\"type\":\"UnionRenderers\"},{\"attributes\":{},\"id\":\"ba8b9ce5-be96-4f5b-afec-ed2abb7c06aa\",\"type\":\"LinearScale\"},{\"attributes\":{},\"id\":\"daef2fe9-8ff2-4e94-bdc6-d7d51307fdd3\",\"type\":\"WheelZoomTool\"},{\"attributes\":{\"data_source\":{\"id\":\"8a2fdd07-a9c9-409a-8831-cf30e462632a\",\"type\":\"ColumnDataSource\"},\"glyph\":{\"id\":\"d03a7b35-4b08-4dd1-b64f-0fed019cc09f\",\"type\":\"Line\"},\"hover_glyph\":null,\"muted_glyph\":null,\"nonselection_glyph\":{\"id\":\"94238948-a731-480a-ba25-31783025f3c4\",\"type\":\"Line\"},\"selection_glyph\":null,\"view\":{\"id\":\"9640f324-c989-4c78-8ba8-10793dbf987a\",\"type\":\"CDSView\"}},\"id\":\"41c34dfb-afed-4c24-b9a1-204e427a8496\",\"type\":\"GlyphRenderer\"},{\"attributes\":{},\"id\":\"5d2878f7-a933-44fa-9218-efa72cd2c1e6\",\"type\":\"ResetTool\"},{\"attributes\":{\"source\":{\"id\":\"8a2fdd07-a9c9-409a-8831-cf30e462632a\",\"type\":\"ColumnDataSource\"}},\"id\":\"9640f324-c989-4c78-8ba8-10793dbf987a\",\"type\":\"CDSView\"},{\"attributes\":{\"bottom_units\":\"screen\",\"fill_alpha\":{\"value\":0.5},\"fill_color\":{\"value\":\"lightgrey\"},\"left_units\":\"screen\",\"level\":\"overlay\",\"line_alpha\":{\"value\":1.0},\"line_color\":{\"value\":\"black\"},\"line_dash\":[4,4],\"line_width\":{\"value\":2},\"plot\":null,\"render_mode\":\"css\",\"right_units\":\"screen\",\"top_units\":\"screen\"},\"id\":\"8f1d08d2-38cc-412d-b88f-ccaecfeb9200\",\"type\":\"BoxAnnotation\"},{\"attributes\":{},\"id\":\"ed238c92-0b1b-45d9-8990-fafbe352df3a\",\"type\":\"PanTool\"},{\"attributes\":{},\"id\":\"35f84377-6883-4127-a279-6752dec21fe2\",\"type\":\"HelpTool\"},{\"attributes\":{},\"id\":\"3428a48d-32c3-4237-a519-c71e68f033b5\",\"type\":\"BasicTickFormatter\"},{\"attributes\":{\"below\":[{\"id\":\"0d4f75be-b216-43bb-87c0-f06868109631\",\"type\":\"LinearAxis\"}],\"left\":[{\"id\":\"9c65d4d6-2b37-4762-b67b-e5d4d26088df\",\"type\":\"LinearAxis\"}],\"plot_width\":1000,\"renderers\":[{\"id\":\"0d4f75be-b216-43bb-87c0-f06868109631\",\"type\":\"LinearAxis\"},{\"id\":\"bd63e4d4-6dce-49b8-b3e1-7aee2d791592\",\"type\":\"Grid\"},{\"id\":\"9c65d4d6-2b37-4762-b67b-e5d4d26088df\",\"type\":\"LinearAxis\"},{\"id\":\"b46a37e7-eea3-4cbb-a1e4-be6df072d148\",\"type\":\"Grid\"},{\"id\":\"8f1d08d2-38cc-412d-b88f-ccaecfeb9200\",\"type\":\"BoxAnnotation\"},{\"id\":\"41c34dfb-afed-4c24-b9a1-204e427a8496\",\"type\":\"GlyphRenderer\"},{\"id\":\"27093c80-cc66-4fbf-9a6c-72fcaa6e6b24\",\"type\":\"GlyphRenderer\"},{\"id\":\"bca18d93-68ef-4326-a796-4787c916e8c8\",\"type\":\"Legend\"}],\"right\":[{\"id\":\"bca18d93-68ef-4326-a796-4787c916e8c8\",\"type\":\"Legend\"}],\"title\":{\"id\":\"ce04ea40-7391-4048-be4b-dfe235da683e\",\"type\":\"Title\"},\"toolbar\":{\"id\":\"fdd503dd-a118-4429-8b58-fd64e3d9de2b\",\"type\":\"Toolbar\"},\"x_range\":{\"id\":\"4483f484-e38e-4f2d-a272-3eb82333ce3e\",\"type\":\"DataRange1d\"},\"x_scale\":{\"id\":\"ba8b9ce5-be96-4f5b-afec-ed2abb7c06aa\",\"type\":\"LinearScale\"},\"y_range\":{\"id\":\"46a9bcae-d3d3-49b8-b4c0-5bde11961442\",\"type\":\"DataRange1d\"},\"y_scale\":{\"id\":\"621dc10d-615c-41bb-94bd-5f84873ffbe7\",\"type\":\"LinearScale\"}},\"id\":\"a6632de4-e810-45da-95ea-14c390d1212e\",\"subtype\":\"Figure\",\"type\":\"Plot\"},{\"attributes\":{\"items\":[{\"id\":\"72e00a6f-129b-42ce-a8c7-e0804f6e5766\",\"type\":\"LegendItem\"},{\"id\":\"56a7a994-a7f3-4fcf-a43d-a82e4aba7ae8\",\"type\":\"LegendItem\"}],\"location\":[0,-30],\"plot\":{\"id\":\"a6632de4-e810-45da-95ea-14c390d1212e\",\"subtype\":\"Figure\",\"type\":\"Plot\"}},\"id\":\"bca18d93-68ef-4326-a796-4787c916e8c8\",\"type\":\"Legend\"},{\"attributes\":{\"line_alpha\":0.1,\"line_color\":\"#1f77b4\",\"line_width\":3,\"x\":{\"field\":\"x\"},\"y\":{\"field\":\"y\"}},\"id\":\"68f3ddfb-5072-4d34-8ca4-7da4fea0d23e\",\"type\":\"Line\"},{\"attributes\":{\"plot\":null,\"text\":\"Comparison\"},\"id\":\"ce04ea40-7391-4048-be4b-dfe235da683e\",\"type\":\"Title\"},{\"attributes\":{\"line_color\":\"#A6CEE3\",\"line_width\":3,\"x\":{\"field\":\"x\"},\"y\":{\"field\":\"y\"}},\"id\":\"b755d190-1a9f-45ed-a4ec-bae0e7f49404\",\"type\":\"Line\"},{\"attributes\":{\"active_drag\":\"auto\",\"active_inspect\":\"auto\",\"active_scroll\":\"auto\",\"active_tap\":\"auto\",\"tools\":[{\"id\":\"ed238c92-0b1b-45d9-8990-fafbe352df3a\",\"type\":\"PanTool\"},{\"id\":\"daef2fe9-8ff2-4e94-bdc6-d7d51307fdd3\",\"type\":\"WheelZoomTool\"},{\"id\":\"a78f8199-ac91-476f-a107-04b131567c7d\",\"type\":\"BoxZoomTool\"},{\"id\":\"57e8d24e-043d-4858-a443-07dfca157efc\",\"type\":\"SaveTool\"},{\"id\":\"5d2878f7-a933-44fa-9218-efa72cd2c1e6\",\"type\":\"ResetTool\"},{\"id\":\"35f84377-6883-4127-a279-6752dec21fe2\",\"type\":\"HelpTool\"}]},\"id\":\"fdd503dd-a118-4429-8b58-fd64e3d9de2b\",\"type\":\"Toolbar\"},{\"attributes\":{\"callback\":null,\"data\":{\"x\":[0,1,2,3,4,5,6,7,8,9,10,11,12,13,14,15,16,17],\"y\":{\"__ndarray__\":\"AADmRQAAdUQAgJNEAMA3RQAgCkYAQGxFAICORACACUUAAHpFACAeRgAAlkMAYNZFAEBdRQBAXUUAAPBCAAAWRQDAX0YAAAxD\",\"dtype\":\"float32\",\"shape\":[18]}},\"selected\":{\"id\":\"050ca6b7-79b7-4273-8982-5d22538abd58\",\"type\":\"Selection\"},\"selection_policy\":{\"id\":\"ae39f132-4c33-4615-b84d-d3e5ffaa2137\",\"type\":\"UnionRenderers\"}},\"id\":\"3f601729-bcb2-4d31-9bb9-139571a0cca7\",\"type\":\"ColumnDataSource\"},{\"attributes\":{},\"id\":\"75552c01-aa7f-43af-9d47-bfa00e022314\",\"type\":\"BasicTickFormatter\"},{\"attributes\":{\"callback\":null,\"data\":{\"x\":[0,1,2,3,4,5,6,7,8,9,10,11,12,13,14,15,16,17],\"y\":{\"__ndarray__\":\"XqoOBARotkBW9tW9wuDDQFJXQC/yDatAeEQlnK5pwkDQQFb21xivQIs6Hmi7fLxAHtGJiobHqEB5ntS/Xsi5QECjwvGBfa1Ad0hMIQbauEBupcUzJbivQCkMji551LdAPKMbeqDpsECdr1E41/q2QK+elsDoebFAS6T9+/UwtkB20bl0avKxQL6FUarHobVA\",\"dtype\":\"float64\",\"shape\":[18]}},\"selected\":{\"id\":\"94694a82-cd54-423b-860c-aedfde53f726\",\"type\":\"Selection\"},\"selection_policy\":{\"id\":\"ab48e8be-1601-4b75-9254-97285e427708\",\"type\":\"UnionRenderers\"}},\"id\":\"8a2fdd07-a9c9-409a-8831-cf30e462632a\",\"type\":\"ColumnDataSource\"},{\"attributes\":{\"data_source\":{\"id\":\"3f601729-bcb2-4d31-9bb9-139571a0cca7\",\"type\":\"ColumnDataSource\"},\"glyph\":{\"id\":\"b755d190-1a9f-45ed-a4ec-bae0e7f49404\",\"type\":\"Line\"},\"hover_glyph\":null,\"muted_glyph\":null,\"nonselection_glyph\":{\"id\":\"68f3ddfb-5072-4d34-8ca4-7da4fea0d23e\",\"type\":\"Line\"},\"selection_glyph\":null,\"view\":{\"id\":\"d9353dd4-da2d-425f-b73a-ba5384083bb0\",\"type\":\"CDSView\"}},\"id\":\"27093c80-cc66-4fbf-9a6c-72fcaa6e6b24\",\"type\":\"GlyphRenderer\"},{\"attributes\":{\"label\":{\"value\":\"Forecasted_my_Stepwise\"},\"renderers\":[{\"id\":\"41c34dfb-afed-4c24-b9a1-204e427a8496\",\"type\":\"GlyphRenderer\"}]},\"id\":\"72e00a6f-129b-42ce-a8c7-e0804f6e5766\",\"type\":\"LegendItem\"},{\"attributes\":{\"source\":{\"id\":\"3f601729-bcb2-4d31-9bb9-139571a0cca7\",\"type\":\"ColumnDataSource\"}},\"id\":\"d9353dd4-da2d-425f-b73a-ba5384083bb0\",\"type\":\"CDSView\"},{\"attributes\":{\"callback\":null},\"id\":\"46a9bcae-d3d3-49b8-b4c0-5bde11961442\",\"type\":\"DataRange1d\"},{\"attributes\":{},\"id\":\"050ca6b7-79b7-4273-8982-5d22538abd58\",\"type\":\"Selection\"},{\"attributes\":{\"label\":{\"value\":\"Observed\"},\"renderers\":[{\"id\":\"27093c80-cc66-4fbf-9a6c-72fcaa6e6b24\",\"type\":\"GlyphRenderer\"}]},\"id\":\"56a7a994-a7f3-4fcf-a43d-a82e4aba7ae8\",\"type\":\"LegendItem\"},{\"attributes\":{},\"id\":\"ae39f132-4c33-4615-b84d-d3e5ffaa2137\",\"type\":\"UnionRenderers\"}],\"root_ids\":[\"a6632de4-e810-45da-95ea-14c390d1212e\"]},\"title\":\"Bokeh Application\",\"version\":\"0.12.16\"}};\n",
       "  var render_items = [{\"docid\":\"6a61883d-0f5b-426c-a504-c5546acaf7b6\",\"elementid\":\"0a95a5a2-e22e-4c17-96af-906aaeaf8bd4\",\"modelid\":\"a6632de4-e810-45da-95ea-14c390d1212e\"}];\n",
       "  root.Bokeh.embed.embed_items_notebook(docs_json, render_items);\n",
       "\n",
       "  }\n",
       "  if (root.Bokeh !== undefined) {\n",
       "    embed_document(root);\n",
       "  } else {\n",
       "    var attempts = 0;\n",
       "    var timer = setInterval(function(root) {\n",
       "      if (root.Bokeh !== undefined) {\n",
       "        embed_document(root);\n",
       "        clearInterval(timer);\n",
       "      }\n",
       "      attempts++;\n",
       "      if (attempts > 100) {\n",
       "        console.log(\"Bokeh: ERROR: Unable to run BokehJS code because BokehJS library is missing\")\n",
       "        clearInterval(timer);\n",
       "      }\n",
       "    }, 10, root)\n",
       "  }\n",
       "})(window);"
      ],
      "application/vnd.bokehjs_exec.v0+json": ""
     },
     "metadata": {
      "application/vnd.bokehjs_exec.v0+json": {
       "id": "a6632de4-e810-45da-95ea-14c390d1212e"
      }
     },
     "output_type": "display_data"
    },
    {
     "data": {
      "text/html": [
       "\n",
       "<div class=\"bk-root\">\n",
       "    <div class=\"bk-plotdiv\" id=\"b60b2df6-f056-41d0-b108-eb1f60984a88\"></div>\n",
       "</div>"
      ]
     },
     "metadata": {},
     "output_type": "display_data"
    },
    {
     "data": {
      "application/javascript": [
       "(function(root) {\n",
       "  function embed_document(root) {\n",
       "    \n",
       "  var docs_json = {\"0b7c7dd3-bbee-4480-9179-1d0869f34a1a\":{\"roots\":{\"references\":[{\"attributes\":{\"label\":{\"value\":\"Observed\"},\"renderers\":[{\"id\":\"8895985a-173a-4b36-92ec-01d12eb70c3f\",\"type\":\"GlyphRenderer\"}]},\"id\":\"1e902792-938a-474d-8136-a3fd7fd8f570\",\"type\":\"LegendItem\"},{\"attributes\":{\"grid_line_alpha\":{\"value\":0.3},\"plot\":{\"id\":\"18bbf459-532b-402e-a1e8-b32dfe597d7f\",\"subtype\":\"Figure\",\"type\":\"Plot\"},\"ticker\":{\"id\":\"806499d5-c916-4581-bc5c-62638bf54041\",\"type\":\"BasicTicker\"}},\"id\":\"c3185821-fe1b-4cc8-8466-07fc8640eec0\",\"type\":\"Grid\"},{\"attributes\":{\"items\":[{\"id\":\"edadcca6-8e68-4dee-a5ae-b003ef64e942\",\"type\":\"LegendItem\"},{\"id\":\"1e902792-938a-474d-8136-a3fd7fd8f570\",\"type\":\"LegendItem\"}],\"location\":[0,-30],\"plot\":{\"id\":\"18bbf459-532b-402e-a1e8-b32dfe597d7f\",\"subtype\":\"Figure\",\"type\":\"Plot\"}},\"id\":\"a7291286-686d-4ec8-9f14-4cffbd8cbc22\",\"type\":\"Legend\"},{\"attributes\":{\"plot\":null,\"text\":\"Comparison\"},\"id\":\"9d94993e-df13-4c2f-a070-0c46e18f416b\",\"type\":\"Title\"},{\"attributes\":{\"label\":{\"value\":\"Forecasted_my_Stepwise\"},\"renderers\":[{\"id\":\"6126e454-ca3c-47f6-8f7e-bf910288119d\",\"type\":\"GlyphRenderer\"}]},\"id\":\"edadcca6-8e68-4dee-a5ae-b003ef64e942\",\"type\":\"LegendItem\"},{\"attributes\":{\"source\":{\"id\":\"a298f61f-b1c9-497c-b887-86ca259a0899\",\"type\":\"ColumnDataSource\"}},\"id\":\"bae5c064-b2bb-4389-87fa-38cce989dc3c\",\"type\":\"CDSView\"},{\"attributes\":{\"callback\":null,\"data\":{\"x\":[0,1,2,3,4,5,6,7,8,9,10,11,12,13,14,15,16,17],\"y\":{\"__ndarray__\":\"AMAoRQBAHEUAUJFFAOArRQCIEEYAQANFAEDORABgBkUAQJxFAGAfRQBgakUAwEFFAIA7RQCgDEUAQM5EAIBtRQAQ1kUAQANF\",\"dtype\":\"float32\",\"shape\":[18]}},\"selected\":{\"id\":\"0ad1d178-a243-4304-9466-241191cccb20\",\"type\":\"Selection\"},\"selection_policy\":{\"id\":\"eb220e2a-dcb5-4089-8959-0170c5537f90\",\"type\":\"UnionRenderers\"}},\"id\":\"70e27806-1cb6-4ba7-bd6c-3de0e193fb67\",\"type\":\"ColumnDataSource\"},{\"attributes\":{\"source\":{\"id\":\"70e27806-1cb6-4ba7-bd6c-3de0e193fb67\",\"type\":\"ColumnDataSource\"}},\"id\":\"db9112c3-f102-455d-8f66-02b86b0934b7\",\"type\":\"CDSView\"},{\"attributes\":{},\"id\":\"024e1de6-4649-45b6-a355-69ffacdf61e0\",\"type\":\"BasicTickFormatter\"},{\"attributes\":{},\"id\":\"c2f97c49-3951-4474-b597-bcdb653f6c5c\",\"type\":\"HelpTool\"},{\"attributes\":{\"data_source\":{\"id\":\"70e27806-1cb6-4ba7-bd6c-3de0e193fb67\",\"type\":\"ColumnDataSource\"},\"glyph\":{\"id\":\"ead9e917-2ff9-423f-93af-fce469ea958c\",\"type\":\"Line\"},\"hover_glyph\":null,\"muted_glyph\":null,\"nonselection_glyph\":{\"id\":\"6d64079a-8046-438d-891d-e2e65787de22\",\"type\":\"Line\"},\"selection_glyph\":null,\"view\":{\"id\":\"db9112c3-f102-455d-8f66-02b86b0934b7\",\"type\":\"CDSView\"}},\"id\":\"8895985a-173a-4b36-92ec-01d12eb70c3f\",\"type\":\"GlyphRenderer\"},{\"attributes\":{},\"id\":\"806499d5-c916-4581-bc5c-62638bf54041\",\"type\":\"BasicTicker\"},{\"attributes\":{\"callback\":null},\"id\":\"58fe9742-67ee-49e1-a14f-338a3f780cde\",\"type\":\"DataRange1d\"},{\"attributes\":{},\"id\":\"0c694a13-9ea4-4614-b512-e4d5a19e9fae\",\"type\":\"LinearScale\"},{\"attributes\":{\"below\":[{\"id\":\"798402b5-d562-488d-813a-ce85f006b605\",\"type\":\"LinearAxis\"}],\"left\":[{\"id\":\"ac8896fa-12b9-4267-aa84-a0cae697dfbe\",\"type\":\"LinearAxis\"}],\"plot_width\":1000,\"renderers\":[{\"id\":\"798402b5-d562-488d-813a-ce85f006b605\",\"type\":\"LinearAxis\"},{\"id\":\"c3185821-fe1b-4cc8-8466-07fc8640eec0\",\"type\":\"Grid\"},{\"id\":\"ac8896fa-12b9-4267-aa84-a0cae697dfbe\",\"type\":\"LinearAxis\"},{\"id\":\"4266d8c3-fc25-4881-bb48-fc3aedd85d28\",\"type\":\"Grid\"},{\"id\":\"f9a8a5f0-adbc-418c-9f2f-59a668a7c217\",\"type\":\"BoxAnnotation\"},{\"id\":\"6126e454-ca3c-47f6-8f7e-bf910288119d\",\"type\":\"GlyphRenderer\"},{\"id\":\"8895985a-173a-4b36-92ec-01d12eb70c3f\",\"type\":\"GlyphRenderer\"},{\"id\":\"a7291286-686d-4ec8-9f14-4cffbd8cbc22\",\"type\":\"Legend\"}],\"right\":[{\"id\":\"a7291286-686d-4ec8-9f14-4cffbd8cbc22\",\"type\":\"Legend\"}],\"title\":{\"id\":\"9d94993e-df13-4c2f-a070-0c46e18f416b\",\"type\":\"Title\"},\"toolbar\":{\"id\":\"f3cb27d2-9b15-4b7f-b838-ea8c93c124c3\",\"type\":\"Toolbar\"},\"x_range\":{\"id\":\"91377d65-346f-49b1-9c3f-5c3578f853f8\",\"type\":\"DataRange1d\"},\"x_scale\":{\"id\":\"0c694a13-9ea4-4614-b512-e4d5a19e9fae\",\"type\":\"LinearScale\"},\"y_range\":{\"id\":\"58fe9742-67ee-49e1-a14f-338a3f780cde\",\"type\":\"DataRange1d\"},\"y_scale\":{\"id\":\"176cf266-7d50-4961-87cb-a258bd348b79\",\"type\":\"LinearScale\"}},\"id\":\"18bbf459-532b-402e-a1e8-b32dfe597d7f\",\"subtype\":\"Figure\",\"type\":\"Plot\"},{\"attributes\":{},\"id\":\"176cf266-7d50-4961-87cb-a258bd348b79\",\"type\":\"LinearScale\"},{\"attributes\":{\"line_alpha\":0.1,\"line_color\":\"#1f77b4\",\"line_width\":2,\"x\":{\"field\":\"x\"},\"y\":{\"field\":\"y\"}},\"id\":\"b3a0ad94-d953-4763-8437-781a63010025\",\"type\":\"Line\"},{\"attributes\":{\"line_color\":\"#B2DF8A\",\"line_width\":2,\"x\":{\"field\":\"x\"},\"y\":{\"field\":\"y\"}},\"id\":\"b04638c6-9779-4ea4-869c-276604baedd8\",\"type\":\"Line\"},{\"attributes\":{\"callback\":null,\"data\":{\"x\":[0,1,2,3,4,5,6,7,8,9,10,11,12,13,14,15,16,17],\"y\":{\"__ndarray__\":\"dOC187s9vUBNaBfGKl+4QKg2YnL+YLxAFX/ljEOQuEAgbGZCxZ65QMOSti8JJ7hAZlVqHNODuUANnPZxgXG3QOHZ8PI817hALb//ql/0t0AJHtOeYdu4QFZ2IV1jBbhAPpaotLqsuECgHryBDxK4QGhdHF8QlbhAuxmReO0UuEBspzoDwnq4QOnjJjSDGbhA\",\"dtype\":\"float64\",\"shape\":[18]}},\"selected\":{\"id\":\"7c6a95be-9b10-4ebe-af44-95518a5ea9a6\",\"type\":\"Selection\"},\"selection_policy\":{\"id\":\"df4820f0-70ad-44a5-bacc-fb171b0ab69a\",\"type\":\"UnionRenderers\"}},\"id\":\"a298f61f-b1c9-497c-b887-86ca259a0899\",\"type\":\"ColumnDataSource\"},{\"attributes\":{\"active_drag\":\"auto\",\"active_inspect\":\"auto\",\"active_scroll\":\"auto\",\"active_tap\":\"auto\",\"tools\":[{\"id\":\"97babc91-1baa-4e05-b7e9-f3874ed9daf8\",\"type\":\"PanTool\"},{\"id\":\"d578cbf1-9131-4179-b175-0fd50a48cef7\",\"type\":\"WheelZoomTool\"},{\"id\":\"9c647667-80fd-4d79-809d-199943caaa8b\",\"type\":\"BoxZoomTool\"},{\"id\":\"7a41d9f6-377b-4b45-932b-68f0cf88ca97\",\"type\":\"SaveTool\"},{\"id\":\"2f45d1a1-a12b-44a6-ad60-b7aebc586426\",\"type\":\"ResetTool\"},{\"id\":\"c2f97c49-3951-4474-b597-bcdb653f6c5c\",\"type\":\"HelpTool\"}]},\"id\":\"f3cb27d2-9b15-4b7f-b838-ea8c93c124c3\",\"type\":\"Toolbar\"},{\"attributes\":{\"callback\":null},\"id\":\"91377d65-346f-49b1-9c3f-5c3578f853f8\",\"type\":\"DataRange1d\"},{\"attributes\":{\"bottom_units\":\"screen\",\"fill_alpha\":{\"value\":0.5},\"fill_color\":{\"value\":\"lightgrey\"},\"left_units\":\"screen\",\"level\":\"overlay\",\"line_alpha\":{\"value\":1.0},\"line_color\":{\"value\":\"black\"},\"line_dash\":[4,4],\"line_width\":{\"value\":2},\"plot\":null,\"render_mode\":\"css\",\"right_units\":\"screen\",\"top_units\":\"screen\"},\"id\":\"f9a8a5f0-adbc-418c-9f2f-59a668a7c217\",\"type\":\"BoxAnnotation\"},{\"attributes\":{\"axis_label\":\"Value\",\"formatter\":{\"id\":\"e1754d5c-a707-489c-969b-f861ff00f12a\",\"type\":\"BasicTickFormatter\"},\"plot\":{\"id\":\"18bbf459-532b-402e-a1e8-b32dfe597d7f\",\"subtype\":\"Figure\",\"type\":\"Plot\"},\"ticker\":{\"id\":\"d1646c0f-efe2-4b1a-b67a-41496e4a4edb\",\"type\":\"BasicTicker\"}},\"id\":\"ac8896fa-12b9-4267-aa84-a0cae697dfbe\",\"type\":\"LinearAxis\"},{\"attributes\":{},\"id\":\"0ad1d178-a243-4304-9466-241191cccb20\",\"type\":\"Selection\"},{\"attributes\":{\"dimension\":1,\"grid_line_alpha\":{\"value\":0.3},\"plot\":{\"id\":\"18bbf459-532b-402e-a1e8-b32dfe597d7f\",\"subtype\":\"Figure\",\"type\":\"Plot\"},\"ticker\":{\"id\":\"d1646c0f-efe2-4b1a-b67a-41496e4a4edb\",\"type\":\"BasicTicker\"}},\"id\":\"4266d8c3-fc25-4881-bb48-fc3aedd85d28\",\"type\":\"Grid\"},{\"attributes\":{},\"id\":\"d1646c0f-efe2-4b1a-b67a-41496e4a4edb\",\"type\":\"BasicTicker\"},{\"attributes\":{},\"id\":\"df4820f0-70ad-44a5-bacc-fb171b0ab69a\",\"type\":\"UnionRenderers\"},{\"attributes\":{\"axis_label\":\"Time\",\"formatter\":{\"id\":\"024e1de6-4649-45b6-a355-69ffacdf61e0\",\"type\":\"BasicTickFormatter\"},\"plot\":{\"id\":\"18bbf459-532b-402e-a1e8-b32dfe597d7f\",\"subtype\":\"Figure\",\"type\":\"Plot\"},\"ticker\":{\"id\":\"806499d5-c916-4581-bc5c-62638bf54041\",\"type\":\"BasicTicker\"}},\"id\":\"798402b5-d562-488d-813a-ce85f006b605\",\"type\":\"LinearAxis\"},{\"attributes\":{},\"id\":\"eb220e2a-dcb5-4089-8959-0170c5537f90\",\"type\":\"UnionRenderers\"},{\"attributes\":{},\"id\":\"97babc91-1baa-4e05-b7e9-f3874ed9daf8\",\"type\":\"PanTool\"},{\"attributes\":{},\"id\":\"7c6a95be-9b10-4ebe-af44-95518a5ea9a6\",\"type\":\"Selection\"},{\"attributes\":{},\"id\":\"7a41d9f6-377b-4b45-932b-68f0cf88ca97\",\"type\":\"SaveTool\"},{\"attributes\":{\"line_color\":\"#A6CEE3\",\"line_width\":3,\"x\":{\"field\":\"x\"},\"y\":{\"field\":\"y\"}},\"id\":\"ead9e917-2ff9-423f-93af-fce469ea958c\",\"type\":\"Line\"},{\"attributes\":{},\"id\":\"e1754d5c-a707-489c-969b-f861ff00f12a\",\"type\":\"BasicTickFormatter\"},{\"attributes\":{\"data_source\":{\"id\":\"a298f61f-b1c9-497c-b887-86ca259a0899\",\"type\":\"ColumnDataSource\"},\"glyph\":{\"id\":\"b04638c6-9779-4ea4-869c-276604baedd8\",\"type\":\"Line\"},\"hover_glyph\":null,\"muted_glyph\":null,\"nonselection_glyph\":{\"id\":\"b3a0ad94-d953-4763-8437-781a63010025\",\"type\":\"Line\"},\"selection_glyph\":null,\"view\":{\"id\":\"bae5c064-b2bb-4389-87fa-38cce989dc3c\",\"type\":\"CDSView\"}},\"id\":\"6126e454-ca3c-47f6-8f7e-bf910288119d\",\"type\":\"GlyphRenderer\"},{\"attributes\":{},\"id\":\"2f45d1a1-a12b-44a6-ad60-b7aebc586426\",\"type\":\"ResetTool\"},{\"attributes\":{\"overlay\":{\"id\":\"f9a8a5f0-adbc-418c-9f2f-59a668a7c217\",\"type\":\"BoxAnnotation\"}},\"id\":\"9c647667-80fd-4d79-809d-199943caaa8b\",\"type\":\"BoxZoomTool\"},{\"attributes\":{},\"id\":\"d578cbf1-9131-4179-b175-0fd50a48cef7\",\"type\":\"WheelZoomTool\"},{\"attributes\":{\"line_alpha\":0.1,\"line_color\":\"#1f77b4\",\"line_width\":3,\"x\":{\"field\":\"x\"},\"y\":{\"field\":\"y\"}},\"id\":\"6d64079a-8046-438d-891d-e2e65787de22\",\"type\":\"Line\"}],\"root_ids\":[\"18bbf459-532b-402e-a1e8-b32dfe597d7f\"]},\"title\":\"Bokeh Application\",\"version\":\"0.12.16\"}};\n",
       "  var render_items = [{\"docid\":\"0b7c7dd3-bbee-4480-9179-1d0869f34a1a\",\"elementid\":\"b60b2df6-f056-41d0-b108-eb1f60984a88\",\"modelid\":\"18bbf459-532b-402e-a1e8-b32dfe597d7f\"}];\n",
       "  root.Bokeh.embed.embed_items_notebook(docs_json, render_items);\n",
       "\n",
       "  }\n",
       "  if (root.Bokeh !== undefined) {\n",
       "    embed_document(root);\n",
       "  } else {\n",
       "    var attempts = 0;\n",
       "    var timer = setInterval(function(root) {\n",
       "      if (root.Bokeh !== undefined) {\n",
       "        embed_document(root);\n",
       "        clearInterval(timer);\n",
       "      }\n",
       "      attempts++;\n",
       "      if (attempts > 100) {\n",
       "        console.log(\"Bokeh: ERROR: Unable to run BokehJS code because BokehJS library is missing\")\n",
       "        clearInterval(timer);\n",
       "      }\n",
       "    }, 10, root)\n",
       "  }\n",
       "})(window);"
      ],
      "application/vnd.bokehjs_exec.v0+json": ""
     },
     "metadata": {
      "application/vnd.bokehjs_exec.v0+json": {
       "id": "18bbf459-532b-402e-a1e8-b32dfe597d7f"
      }
     },
     "output_type": "display_data"
    },
    {
     "data": {
      "text/html": [
       "\n",
       "<div class=\"bk-root\">\n",
       "    <div class=\"bk-plotdiv\" id=\"894e55fa-be31-435e-863c-911ef25734d7\"></div>\n",
       "</div>"
      ]
     },
     "metadata": {},
     "output_type": "display_data"
    },
    {
     "data": {
      "application/javascript": [
       "(function(root) {\n",
       "  function embed_document(root) {\n",
       "    \n",
       "  var docs_json = {\"3f62d305-1db4-4d8a-b19f-fddad4615a4f\":{\"roots\":{\"references\":[{\"attributes\":{\"axis_label\":\"Time\",\"formatter\":{\"id\":\"4e64af6a-9b9e-4afa-abe5-b83c13514879\",\"type\":\"BasicTickFormatter\"},\"plot\":{\"id\":\"573ebb34-b172-4e56-ac57-aa1a73148202\",\"subtype\":\"Figure\",\"type\":\"Plot\"},\"ticker\":{\"id\":\"0f619132-4802-46ac-a258-a794039c4fc4\",\"type\":\"BasicTicker\"}},\"id\":\"aa4997ea-4e33-44c7-9ae1-4b86750b1f79\",\"type\":\"LinearAxis\"},{\"attributes\":{\"grid_line_alpha\":{\"value\":0.3},\"plot\":{\"id\":\"573ebb34-b172-4e56-ac57-aa1a73148202\",\"subtype\":\"Figure\",\"type\":\"Plot\"},\"ticker\":{\"id\":\"0f619132-4802-46ac-a258-a794039c4fc4\",\"type\":\"BasicTicker\"}},\"id\":\"fed6a389-bbcf-494c-a0c0-7e56627f786f\",\"type\":\"Grid\"},{\"attributes\":{},\"id\":\"38809827-0f7f-4260-ba27-102b89ebd06b\",\"type\":\"UnionRenderers\"},{\"attributes\":{},\"id\":\"afe456ee-e8b6-4321-9282-d26bf9fb1025\",\"type\":\"LinearScale\"},{\"attributes\":{\"callback\":null},\"id\":\"1e38253f-8c7d-4a2f-bd42-42f3a6c7f1de\",\"type\":\"DataRange1d\"},{\"attributes\":{\"line_alpha\":0.1,\"line_color\":\"#1f77b4\",\"line_width\":2,\"x\":{\"field\":\"x\"},\"y\":{\"field\":\"y\"}},\"id\":\"cd29406a-2077-4102-b893-78970ed78ccb\",\"type\":\"Line\"},{\"attributes\":{},\"id\":\"4e64af6a-9b9e-4afa-abe5-b83c13514879\",\"type\":\"BasicTickFormatter\"},{\"attributes\":{\"axis_label\":\"Value\",\"formatter\":{\"id\":\"d30b1b8c-7e54-45b6-b77b-a491311dab09\",\"type\":\"BasicTickFormatter\"},\"plot\":{\"id\":\"573ebb34-b172-4e56-ac57-aa1a73148202\",\"subtype\":\"Figure\",\"type\":\"Plot\"},\"ticker\":{\"id\":\"5bcf8721-6473-4276-8677-987d28570d62\",\"type\":\"BasicTicker\"}},\"id\":\"ec7791ef-8760-4abf-a21a-3ab1ae1a9024\",\"type\":\"LinearAxis\"},{\"attributes\":{\"callback\":null},\"id\":\"cd963b22-581c-46cf-a385-5476842fe546\",\"type\":\"DataRange1d\"},{\"attributes\":{},\"id\":\"d22927cf-6ae0-4150-8b94-b8412f6c7b8b\",\"type\":\"UnionRenderers\"},{\"attributes\":{},\"id\":\"5bcf8721-6473-4276-8677-987d28570d62\",\"type\":\"BasicTicker\"},{\"attributes\":{\"line_color\":\"#B2DF8A\",\"line_width\":2,\"x\":{\"field\":\"x\"},\"y\":{\"field\":\"y\"}},\"id\":\"a6894854-9181-46e6-92ed-c51203e21a66\",\"type\":\"Line\"},{\"attributes\":{},\"id\":\"0f619132-4802-46ac-a258-a794039c4fc4\",\"type\":\"BasicTicker\"},{\"attributes\":{\"dimension\":1,\"grid_line_alpha\":{\"value\":0.3},\"plot\":{\"id\":\"573ebb34-b172-4e56-ac57-aa1a73148202\",\"subtype\":\"Figure\",\"type\":\"Plot\"},\"ticker\":{\"id\":\"5bcf8721-6473-4276-8677-987d28570d62\",\"type\":\"BasicTicker\"}},\"id\":\"f0621eae-0346-4b44-a8e7-b7db068b7e63\",\"type\":\"Grid\"},{\"attributes\":{},\"id\":\"7a967983-7c0b-4532-a964-39fdcecb7490\",\"type\":\"WheelZoomTool\"},{\"attributes\":{\"data_source\":{\"id\":\"52548244-74e6-44cb-b565-7a9edb1bf9b1\",\"type\":\"ColumnDataSource\"},\"glyph\":{\"id\":\"a6894854-9181-46e6-92ed-c51203e21a66\",\"type\":\"Line\"},\"hover_glyph\":null,\"muted_glyph\":null,\"nonselection_glyph\":{\"id\":\"cd29406a-2077-4102-b893-78970ed78ccb\",\"type\":\"Line\"},\"selection_glyph\":null,\"view\":{\"id\":\"3c4d135e-da3b-4cc3-b4cc-570bb901bb52\",\"type\":\"CDSView\"}},\"id\":\"2ca9fd3b-8904-4b21-902a-d839fb517c4e\",\"type\":\"GlyphRenderer\"},{\"attributes\":{\"line_color\":\"#A6CEE3\",\"line_width\":3,\"x\":{\"field\":\"x\"},\"y\":{\"field\":\"y\"}},\"id\":\"e1412ef3-450a-4878-9682-f19f8cb50ef0\",\"type\":\"Line\"},{\"attributes\":{\"overlay\":{\"id\":\"d6a82323-b13d-4524-8560-0471c71e5f9b\",\"type\":\"BoxAnnotation\"}},\"id\":\"4449605e-0419-48ca-aa34-ffe07d7e3a58\",\"type\":\"BoxZoomTool\"},{\"attributes\":{\"bottom_units\":\"screen\",\"fill_alpha\":{\"value\":0.5},\"fill_color\":{\"value\":\"lightgrey\"},\"left_units\":\"screen\",\"level\":\"overlay\",\"line_alpha\":{\"value\":1.0},\"line_color\":{\"value\":\"black\"},\"line_dash\":[4,4],\"line_width\":{\"value\":2},\"plot\":null,\"render_mode\":\"css\",\"right_units\":\"screen\",\"top_units\":\"screen\"},\"id\":\"d6a82323-b13d-4524-8560-0471c71e5f9b\",\"type\":\"BoxAnnotation\"},{\"attributes\":{},\"id\":\"84bb9b39-833a-451c-8ef5-d03c865530dc\",\"type\":\"PanTool\"},{\"attributes\":{\"active_drag\":\"auto\",\"active_inspect\":\"auto\",\"active_scroll\":\"auto\",\"active_tap\":\"auto\",\"tools\":[{\"id\":\"84bb9b39-833a-451c-8ef5-d03c865530dc\",\"type\":\"PanTool\"},{\"id\":\"7a967983-7c0b-4532-a964-39fdcecb7490\",\"type\":\"WheelZoomTool\"},{\"id\":\"4449605e-0419-48ca-aa34-ffe07d7e3a58\",\"type\":\"BoxZoomTool\"},{\"id\":\"b082523b-2957-48f7-bf3f-26e5abd107be\",\"type\":\"SaveTool\"},{\"id\":\"e20d8216-4839-4e31-8c5a-6a20bdedfbb6\",\"type\":\"ResetTool\"},{\"id\":\"69ac1918-b94e-4f97-975d-3d59a913b34c\",\"type\":\"HelpTool\"}]},\"id\":\"ba2ec5b3-b74c-411e-98cc-cd441240db93\",\"type\":\"Toolbar\"},{\"attributes\":{\"callback\":null,\"data\":{\"x\":[0,1,2,3,4,5,6,7,8,9,10,11,12,13,14,15,16,17],\"y\":{\"__ndarray__\":\"AJDJRQAAlkUAgNRFAAAvRQCA1EUAIJlFAGBRRQCAIkUAwFpFAIDURACAiUQAAEhFAPCgRQAQi0UAwNpFACAZRQB4G0YAQBxF\",\"dtype\":\"float32\",\"shape\":[18]}},\"selected\":{\"id\":\"6f2fc656-505a-4e2a-a9c4-df4c91fcd968\",\"type\":\"Selection\"},\"selection_policy\":{\"id\":\"38809827-0f7f-4260-ba27-102b89ebd06b\",\"type\":\"UnionRenderers\"}},\"id\":\"38c70495-0388-4a87-b34e-090deb49d59b\",\"type\":\"ColumnDataSource\"},{\"attributes\":{\"source\":{\"id\":\"52548244-74e6-44cb-b565-7a9edb1bf9b1\",\"type\":\"ColumnDataSource\"}},\"id\":\"3c4d135e-da3b-4cc3-b4cc-570bb901bb52\",\"type\":\"CDSView\"},{\"attributes\":{},\"id\":\"b082523b-2957-48f7-bf3f-26e5abd107be\",\"type\":\"SaveTool\"},{\"attributes\":{},\"id\":\"e20d8216-4839-4e31-8c5a-6a20bdedfbb6\",\"type\":\"ResetTool\"},{\"attributes\":{},\"id\":\"69ac1918-b94e-4f97-975d-3d59a913b34c\",\"type\":\"HelpTool\"},{\"attributes\":{\"plot\":null,\"text\":\"Comparison\"},\"id\":\"0b29a271-d438-456c-8c18-74cce84b5540\",\"type\":\"Title\"},{\"attributes\":{\"line_alpha\":0.1,\"line_color\":\"#1f77b4\",\"line_width\":3,\"x\":{\"field\":\"x\"},\"y\":{\"field\":\"y\"}},\"id\":\"6f300a06-5455-4abc-aaa5-4e93dd3463a6\",\"type\":\"Line\"},{\"attributes\":{\"data_source\":{\"id\":\"38c70495-0388-4a87-b34e-090deb49d59b\",\"type\":\"ColumnDataSource\"},\"glyph\":{\"id\":\"e1412ef3-450a-4878-9682-f19f8cb50ef0\",\"type\":\"Line\"},\"hover_glyph\":null,\"muted_glyph\":null,\"nonselection_glyph\":{\"id\":\"6f300a06-5455-4abc-aaa5-4e93dd3463a6\",\"type\":\"Line\"},\"selection_glyph\":null,\"view\":{\"id\":\"16c5ca66-ce5c-4c39-9d48-4b1dae8a9677\",\"type\":\"CDSView\"}},\"id\":\"add240a2-8370-448b-907d-578dd5437298\",\"type\":\"GlyphRenderer\"},{\"attributes\":{\"label\":{\"value\":\"Forecasted_my_Stepwise\"},\"renderers\":[{\"id\":\"2ca9fd3b-8904-4b21-902a-d839fb517c4e\",\"type\":\"GlyphRenderer\"}]},\"id\":\"4780bd9a-8dfb-479a-befd-7684c4f6875d\",\"type\":\"LegendItem\"},{\"attributes\":{\"callback\":null,\"data\":{\"x\":[0,1,2,3,4,5,6,7,8,9,10,11,12,13,14,15,16,17],\"y\":{\"__ndarray__\":\"R/MIJPU2uUDlXQFkhRa+QLnZuuTiz79AnBcFUd6Kv0BdJl2bdRvAQObq/zLW1MFAaZzsad72wUBgniO2lYfBQELjDNCyDMFAyBXHHf1bwUDLOWalvxXBQFQ3DnblOsFA7txA3qv9wEAzHe6K9S7BQKflqoeNDMFAse7dcJEtwUB0J8FW6Q3BQFbYSmkqJ8FA\",\"dtype\":\"float64\",\"shape\":[18]}},\"selected\":{\"id\":\"b1af9713-032d-4858-b1b4-b5736833dd63\",\"type\":\"Selection\"},\"selection_policy\":{\"id\":\"d22927cf-6ae0-4150-8b94-b8412f6c7b8b\",\"type\":\"UnionRenderers\"}},\"id\":\"52548244-74e6-44cb-b565-7a9edb1bf9b1\",\"type\":\"ColumnDataSource\"},{\"attributes\":{},\"id\":\"d30b1b8c-7e54-45b6-b77b-a491311dab09\",\"type\":\"BasicTickFormatter\"},{\"attributes\":{\"source\":{\"id\":\"38c70495-0388-4a87-b34e-090deb49d59b\",\"type\":\"ColumnDataSource\"}},\"id\":\"16c5ca66-ce5c-4c39-9d48-4b1dae8a9677\",\"type\":\"CDSView\"},{\"attributes\":{},\"id\":\"d7ce583c-15c0-4d19-9b58-8dea740fd02b\",\"type\":\"LinearScale\"},{\"attributes\":{},\"id\":\"b1af9713-032d-4858-b1b4-b5736833dd63\",\"type\":\"Selection\"},{\"attributes\":{\"items\":[{\"id\":\"4780bd9a-8dfb-479a-befd-7684c4f6875d\",\"type\":\"LegendItem\"},{\"id\":\"81e670b7-4c23-456f-b1ea-62fd8ff7a536\",\"type\":\"LegendItem\"}],\"location\":[0,-30],\"plot\":{\"id\":\"573ebb34-b172-4e56-ac57-aa1a73148202\",\"subtype\":\"Figure\",\"type\":\"Plot\"}},\"id\":\"46561053-1a8c-43fc-be6d-5d78b91d62b7\",\"type\":\"Legend\"},{\"attributes\":{\"label\":{\"value\":\"Observed\"},\"renderers\":[{\"id\":\"add240a2-8370-448b-907d-578dd5437298\",\"type\":\"GlyphRenderer\"}]},\"id\":\"81e670b7-4c23-456f-b1ea-62fd8ff7a536\",\"type\":\"LegendItem\"},{\"attributes\":{},\"id\":\"6f2fc656-505a-4e2a-a9c4-df4c91fcd968\",\"type\":\"Selection\"},{\"attributes\":{\"below\":[{\"id\":\"aa4997ea-4e33-44c7-9ae1-4b86750b1f79\",\"type\":\"LinearAxis\"}],\"left\":[{\"id\":\"ec7791ef-8760-4abf-a21a-3ab1ae1a9024\",\"type\":\"LinearAxis\"}],\"plot_width\":1000,\"renderers\":[{\"id\":\"aa4997ea-4e33-44c7-9ae1-4b86750b1f79\",\"type\":\"LinearAxis\"},{\"id\":\"fed6a389-bbcf-494c-a0c0-7e56627f786f\",\"type\":\"Grid\"},{\"id\":\"ec7791ef-8760-4abf-a21a-3ab1ae1a9024\",\"type\":\"LinearAxis\"},{\"id\":\"f0621eae-0346-4b44-a8e7-b7db068b7e63\",\"type\":\"Grid\"},{\"id\":\"d6a82323-b13d-4524-8560-0471c71e5f9b\",\"type\":\"BoxAnnotation\"},{\"id\":\"2ca9fd3b-8904-4b21-902a-d839fb517c4e\",\"type\":\"GlyphRenderer\"},{\"id\":\"add240a2-8370-448b-907d-578dd5437298\",\"type\":\"GlyphRenderer\"},{\"id\":\"46561053-1a8c-43fc-be6d-5d78b91d62b7\",\"type\":\"Legend\"}],\"right\":[{\"id\":\"46561053-1a8c-43fc-be6d-5d78b91d62b7\",\"type\":\"Legend\"}],\"title\":{\"id\":\"0b29a271-d438-456c-8c18-74cce84b5540\",\"type\":\"Title\"},\"toolbar\":{\"id\":\"ba2ec5b3-b74c-411e-98cc-cd441240db93\",\"type\":\"Toolbar\"},\"x_range\":{\"id\":\"1e38253f-8c7d-4a2f-bd42-42f3a6c7f1de\",\"type\":\"DataRange1d\"},\"x_scale\":{\"id\":\"d7ce583c-15c0-4d19-9b58-8dea740fd02b\",\"type\":\"LinearScale\"},\"y_range\":{\"id\":\"cd963b22-581c-46cf-a385-5476842fe546\",\"type\":\"DataRange1d\"},\"y_scale\":{\"id\":\"afe456ee-e8b6-4321-9282-d26bf9fb1025\",\"type\":\"LinearScale\"}},\"id\":\"573ebb34-b172-4e56-ac57-aa1a73148202\",\"subtype\":\"Figure\",\"type\":\"Plot\"}],\"root_ids\":[\"573ebb34-b172-4e56-ac57-aa1a73148202\"]},\"title\":\"Bokeh Application\",\"version\":\"0.12.16\"}};\n",
       "  var render_items = [{\"docid\":\"3f62d305-1db4-4d8a-b19f-fddad4615a4f\",\"elementid\":\"894e55fa-be31-435e-863c-911ef25734d7\",\"modelid\":\"573ebb34-b172-4e56-ac57-aa1a73148202\"}];\n",
       "  root.Bokeh.embed.embed_items_notebook(docs_json, render_items);\n",
       "\n",
       "  }\n",
       "  if (root.Bokeh !== undefined) {\n",
       "    embed_document(root);\n",
       "  } else {\n",
       "    var attempts = 0;\n",
       "    var timer = setInterval(function(root) {\n",
       "      if (root.Bokeh !== undefined) {\n",
       "        embed_document(root);\n",
       "        clearInterval(timer);\n",
       "      }\n",
       "      attempts++;\n",
       "      if (attempts > 100) {\n",
       "        console.log(\"Bokeh: ERROR: Unable to run BokehJS code because BokehJS library is missing\")\n",
       "        clearInterval(timer);\n",
       "      }\n",
       "    }, 10, root)\n",
       "  }\n",
       "})(window);"
      ],
      "application/vnd.bokehjs_exec.v0+json": ""
     },
     "metadata": {
      "application/vnd.bokehjs_exec.v0+json": {
       "id": "573ebb34-b172-4e56-ac57-aa1a73148202"
      }
     },
     "output_type": "display_data"
    },
    {
     "data": {
      "text/html": [
       "\n",
       "<div class=\"bk-root\">\n",
       "    <div class=\"bk-plotdiv\" id=\"787a22ce-4f2f-4628-8770-bdf2e155bc7b\"></div>\n",
       "</div>"
      ]
     },
     "metadata": {},
     "output_type": "display_data"
    },
    {
     "data": {
      "application/javascript": [
       "(function(root) {\n",
       "  function embed_document(root) {\n",
       "    \n",
       "  var docs_json = {\"a7a865d2-5600-4040-8c8a-622fe803da0e\":{\"roots\":{\"references\":[{\"attributes\":{},\"id\":\"be8e88ef-d807-44de-9198-3f820e15071c\",\"type\":\"UnionRenderers\"},{\"attributes\":{},\"id\":\"69faa4ea-711e-447b-9378-e4be4c11835a\",\"type\":\"Selection\"},{\"attributes\":{\"source\":{\"id\":\"b44f34c7-f671-4258-8a77-7ae05803902e\",\"type\":\"ColumnDataSource\"}},\"id\":\"71c1f58c-3050-48eb-a5d4-073b5fcdfcf7\",\"type\":\"CDSView\"},{\"attributes\":{\"callback\":null,\"data\":{\"x\":[0,1,2,3,4,5,6,7,8,9,10,11,12,13,14,15,16,17],\"y\":{\"__ndarray__\":\"AEBORQAA+kQAgDZFAICiRAAAKkUAQCtFAABSRAAAoEQAwAVFAAARRAAAdUQAAOtEAMAZRQAA0kQAgKdEAABSRACA6EQAAKpE\",\"dtype\":\"float32\",\"shape\":[18]}},\"selected\":{\"id\":\"69faa4ea-711e-447b-9378-e4be4c11835a\",\"type\":\"Selection\"},\"selection_policy\":{\"id\":\"be8e88ef-d807-44de-9198-3f820e15071c\",\"type\":\"UnionRenderers\"}},\"id\":\"3756b84a-a925-461e-ae90-8448a812d65d\",\"type\":\"ColumnDataSource\"},{\"attributes\":{},\"id\":\"bc4c21ce-d2e6-4166-aff5-fc77cda6e289\",\"type\":\"Selection\"},{\"attributes\":{\"line_color\":\"#A6CEE3\",\"line_width\":3,\"x\":{\"field\":\"x\"},\"y\":{\"field\":\"y\"}},\"id\":\"1777fbf7-13f0-40a6-bc25-a87d47a7dad5\",\"type\":\"Line\"},{\"attributes\":{\"source\":{\"id\":\"3756b84a-a925-461e-ae90-8448a812d65d\",\"type\":\"ColumnDataSource\"}},\"id\":\"584e637c-46c1-4f81-a313-691bf4340e62\",\"type\":\"CDSView\"},{\"attributes\":{\"data_source\":{\"id\":\"3756b84a-a925-461e-ae90-8448a812d65d\",\"type\":\"ColumnDataSource\"},\"glyph\":{\"id\":\"1777fbf7-13f0-40a6-bc25-a87d47a7dad5\",\"type\":\"Line\"},\"hover_glyph\":null,\"muted_glyph\":null,\"nonselection_glyph\":{\"id\":\"f579ca35-1044-49f5-a5cc-415902db36e9\",\"type\":\"Line\"},\"selection_glyph\":null,\"view\":{\"id\":\"584e637c-46c1-4f81-a313-691bf4340e62\",\"type\":\"CDSView\"}},\"id\":\"b773e44b-c82d-425d-bc1b-f794098039be\",\"type\":\"GlyphRenderer\"},{\"attributes\":{\"items\":[{\"id\":\"ee1dc250-0672-4929-94e1-e1f05c303460\",\"type\":\"LegendItem\"},{\"id\":\"99d6fb14-4efd-4983-ba1a-5f1f055cff84\",\"type\":\"LegendItem\"}],\"location\":[0,-30],\"plot\":{\"id\":\"d4e694ec-5b97-4b7d-84d2-baa5845c69e2\",\"subtype\":\"Figure\",\"type\":\"Plot\"}},\"id\":\"2c8377a6-211a-4707-9dca-05ab23ddf25e\",\"type\":\"Legend\"},{\"attributes\":{},\"id\":\"b0bc090c-ad38-47be-a0d5-e2d405f8d766\",\"type\":\"LinearScale\"},{\"attributes\":{\"grid_line_alpha\":{\"value\":0.3},\"plot\":{\"id\":\"d4e694ec-5b97-4b7d-84d2-baa5845c69e2\",\"subtype\":\"Figure\",\"type\":\"Plot\"},\"ticker\":{\"id\":\"0ec5a8f8-804d-4178-a1cf-2026cb9221dc\",\"type\":\"BasicTicker\"}},\"id\":\"e8d92573-b9ea-4519-8888-a68c5cd40f70\",\"type\":\"Grid\"},{\"attributes\":{},\"id\":\"a82349e0-867f-42f6-9c58-f02b75636f3a\",\"type\":\"BasicTickFormatter\"},{\"attributes\":{\"below\":[{\"id\":\"49c1658f-7f83-40a6-9cf9-de321acb984a\",\"type\":\"LinearAxis\"}],\"left\":[{\"id\":\"b0fcfe9a-de2b-4a80-af1e-aa91b4911d99\",\"type\":\"LinearAxis\"}],\"plot_width\":1000,\"renderers\":[{\"id\":\"49c1658f-7f83-40a6-9cf9-de321acb984a\",\"type\":\"LinearAxis\"},{\"id\":\"e8d92573-b9ea-4519-8888-a68c5cd40f70\",\"type\":\"Grid\"},{\"id\":\"b0fcfe9a-de2b-4a80-af1e-aa91b4911d99\",\"type\":\"LinearAxis\"},{\"id\":\"daa53935-15db-44ae-8772-9aee392f2695\",\"type\":\"Grid\"},{\"id\":\"1b8c199e-9753-4fa8-b24d-6edf6664733b\",\"type\":\"BoxAnnotation\"},{\"id\":\"3e884cf4-5255-450f-a7ca-788c5f9d88c1\",\"type\":\"GlyphRenderer\"},{\"id\":\"b773e44b-c82d-425d-bc1b-f794098039be\",\"type\":\"GlyphRenderer\"},{\"id\":\"2c8377a6-211a-4707-9dca-05ab23ddf25e\",\"type\":\"Legend\"}],\"right\":[{\"id\":\"2c8377a6-211a-4707-9dca-05ab23ddf25e\",\"type\":\"Legend\"}],\"title\":{\"id\":\"6a08e82f-9c67-4610-97b0-d3a7b711a627\",\"type\":\"Title\"},\"toolbar\":{\"id\":\"5dde6bba-bd21-452f-897c-2fa3028143e5\",\"type\":\"Toolbar\"},\"x_range\":{\"id\":\"e333c501-64f6-4bb0-a6a7-d2275db5c729\",\"type\":\"DataRange1d\"},\"x_scale\":{\"id\":\"a3b25e62-659b-4ad3-bc16-ed217b801661\",\"type\":\"LinearScale\"},\"y_range\":{\"id\":\"4831defc-c739-44b3-90db-6b0b102858f5\",\"type\":\"DataRange1d\"},\"y_scale\":{\"id\":\"b0bc090c-ad38-47be-a0d5-e2d405f8d766\",\"type\":\"LinearScale\"}},\"id\":\"d4e694ec-5b97-4b7d-84d2-baa5845c69e2\",\"subtype\":\"Figure\",\"type\":\"Plot\"},{\"attributes\":{},\"id\":\"4a9baad8-edc9-42ef-b4b5-226e16d19e12\",\"type\":\"BasicTickFormatter\"},{\"attributes\":{\"data_source\":{\"id\":\"b44f34c7-f671-4258-8a77-7ae05803902e\",\"type\":\"ColumnDataSource\"},\"glyph\":{\"id\":\"0208744b-da08-4bf5-beee-69cb2dc17e81\",\"type\":\"Line\"},\"hover_glyph\":null,\"muted_glyph\":null,\"nonselection_glyph\":{\"id\":\"0db96a16-ca13-49a9-bda0-601cfa74809c\",\"type\":\"Line\"},\"selection_glyph\":null,\"view\":{\"id\":\"71c1f58c-3050-48eb-a5d4-073b5fcdfcf7\",\"type\":\"CDSView\"}},\"id\":\"3e884cf4-5255-450f-a7ca-788c5f9d88c1\",\"type\":\"GlyphRenderer\"},{\"attributes\":{\"active_drag\":\"auto\",\"active_inspect\":\"auto\",\"active_scroll\":\"auto\",\"active_tap\":\"auto\",\"tools\":[{\"id\":\"cc00cefc-8e5c-48fd-ac61-b3a0ac750b48\",\"type\":\"PanTool\"},{\"id\":\"431b695b-7e3f-4afe-a6ff-a265722a2946\",\"type\":\"WheelZoomTool\"},{\"id\":\"772d42c1-d07c-44fe-9945-23f974a25717\",\"type\":\"BoxZoomTool\"},{\"id\":\"eaf70c52-9920-4b18-a0c4-d1cb13ee89f2\",\"type\":\"SaveTool\"},{\"id\":\"00d587df-c459-4269-9d95-5b81c23bd09e\",\"type\":\"ResetTool\"},{\"id\":\"70aa9d2d-71fa-43cd-b7e5-e312a17c9351\",\"type\":\"HelpTool\"}]},\"id\":\"5dde6bba-bd21-452f-897c-2fa3028143e5\",\"type\":\"Toolbar\"},{\"attributes\":{\"label\":{\"value\":\"Observed\"},\"renderers\":[{\"id\":\"b773e44b-c82d-425d-bc1b-f794098039be\",\"type\":\"GlyphRenderer\"}]},\"id\":\"99d6fb14-4efd-4983-ba1a-5f1f055cff84\",\"type\":\"LegendItem\"},{\"attributes\":{\"callback\":null},\"id\":\"e333c501-64f6-4bb0-a6a7-d2275db5c729\",\"type\":\"DataRange1d\"},{\"attributes\":{},\"id\":\"a3b25e62-659b-4ad3-bc16-ed217b801661\",\"type\":\"LinearScale\"},{\"attributes\":{\"line_color\":\"#B2DF8A\",\"line_width\":2,\"x\":{\"field\":\"x\"},\"y\":{\"field\":\"y\"}},\"id\":\"0208744b-da08-4bf5-beee-69cb2dc17e81\",\"type\":\"Line\"},{\"attributes\":{\"line_alpha\":0.1,\"line_color\":\"#1f77b4\",\"line_width\":3,\"x\":{\"field\":\"x\"},\"y\":{\"field\":\"y\"}},\"id\":\"f579ca35-1044-49f5-a5cc-415902db36e9\",\"type\":\"Line\"},{\"attributes\":{\"line_alpha\":0.1,\"line_color\":\"#1f77b4\",\"line_width\":2,\"x\":{\"field\":\"x\"},\"y\":{\"field\":\"y\"}},\"id\":\"0db96a16-ca13-49a9-bda0-601cfa74809c\",\"type\":\"Line\"},{\"attributes\":{\"label\":{\"value\":\"Forecasted_my_Stepwise\"},\"renderers\":[{\"id\":\"3e884cf4-5255-450f-a7ca-788c5f9d88c1\",\"type\":\"GlyphRenderer\"}]},\"id\":\"ee1dc250-0672-4929-94e1-e1f05c303460\",\"type\":\"LegendItem\"},{\"attributes\":{},\"id\":\"0ec5a8f8-804d-4178-a1cf-2026cb9221dc\",\"type\":\"BasicTicker\"},{\"attributes\":{\"callback\":null},\"id\":\"4831defc-c739-44b3-90db-6b0b102858f5\",\"type\":\"DataRange1d\"},{\"attributes\":{\"axis_label\":\"Value\",\"formatter\":{\"id\":\"a82349e0-867f-42f6-9c58-f02b75636f3a\",\"type\":\"BasicTickFormatter\"},\"plot\":{\"id\":\"d4e694ec-5b97-4b7d-84d2-baa5845c69e2\",\"subtype\":\"Figure\",\"type\":\"Plot\"},\"ticker\":{\"id\":\"62c4a6c3-bbfc-4fea-942c-d0ddddbd6150\",\"type\":\"BasicTicker\"}},\"id\":\"b0fcfe9a-de2b-4a80-af1e-aa91b4911d99\",\"type\":\"LinearAxis\"},{\"attributes\":{},\"id\":\"eaf70c52-9920-4b18-a0c4-d1cb13ee89f2\",\"type\":\"SaveTool\"},{\"attributes\":{\"axis_label\":\"Time\",\"formatter\":{\"id\":\"4a9baad8-edc9-42ef-b4b5-226e16d19e12\",\"type\":\"BasicTickFormatter\"},\"plot\":{\"id\":\"d4e694ec-5b97-4b7d-84d2-baa5845c69e2\",\"subtype\":\"Figure\",\"type\":\"Plot\"},\"ticker\":{\"id\":\"0ec5a8f8-804d-4178-a1cf-2026cb9221dc\",\"type\":\"BasicTicker\"}},\"id\":\"49c1658f-7f83-40a6-9cf9-de321acb984a\",\"type\":\"LinearAxis\"},{\"attributes\":{\"dimension\":1,\"grid_line_alpha\":{\"value\":0.3},\"plot\":{\"id\":\"d4e694ec-5b97-4b7d-84d2-baa5845c69e2\",\"subtype\":\"Figure\",\"type\":\"Plot\"},\"ticker\":{\"id\":\"62c4a6c3-bbfc-4fea-942c-d0ddddbd6150\",\"type\":\"BasicTicker\"}},\"id\":\"daa53935-15db-44ae-8772-9aee392f2695\",\"type\":\"Grid\"},{\"attributes\":{\"plot\":null,\"text\":\"Comparison\"},\"id\":\"6a08e82f-9c67-4610-97b0-d3a7b711a627\",\"type\":\"Title\"},{\"attributes\":{},\"id\":\"62c4a6c3-bbfc-4fea-942c-d0ddddbd6150\",\"type\":\"BasicTicker\"},{\"attributes\":{\"callback\":null,\"data\":{\"x\":[0,1,2,3,4,5,6,7,8,9,10,11,12,13,14,15,16,17],\"y\":{\"__ndarray__\":\"TO33Mww0pkDGkasFMt+mQArH25g2c6FAMjicBD71okAIrBQvqL+kQJtiXd8mtqVAhUTlYJuRpEDl0/QLoEOkQIHRKXHK16RAAYWqzq+7pEDp9ee/TZ+kQBZbX41wcqRAuVPccguFpECS4FPqj36kQCqfltg3gqRACRCtv/hzpEApzYPI9HqkQACAumQWc6RA\",\"dtype\":\"float64\",\"shape\":[18]}},\"selected\":{\"id\":\"bc4c21ce-d2e6-4166-aff5-fc77cda6e289\",\"type\":\"Selection\"},\"selection_policy\":{\"id\":\"aa78f719-4616-4e79-a576-b70aca36780b\",\"type\":\"UnionRenderers\"}},\"id\":\"b44f34c7-f671-4258-8a77-7ae05803902e\",\"type\":\"ColumnDataSource\"},{\"attributes\":{},\"id\":\"aa78f719-4616-4e79-a576-b70aca36780b\",\"type\":\"UnionRenderers\"},{\"attributes\":{},\"id\":\"431b695b-7e3f-4afe-a6ff-a265722a2946\",\"type\":\"WheelZoomTool\"},{\"attributes\":{\"overlay\":{\"id\":\"1b8c199e-9753-4fa8-b24d-6edf6664733b\",\"type\":\"BoxAnnotation\"}},\"id\":\"772d42c1-d07c-44fe-9945-23f974a25717\",\"type\":\"BoxZoomTool\"},{\"attributes\":{},\"id\":\"cc00cefc-8e5c-48fd-ac61-b3a0ac750b48\",\"type\":\"PanTool\"},{\"attributes\":{\"bottom_units\":\"screen\",\"fill_alpha\":{\"value\":0.5},\"fill_color\":{\"value\":\"lightgrey\"},\"left_units\":\"screen\",\"level\":\"overlay\",\"line_alpha\":{\"value\":1.0},\"line_color\":{\"value\":\"black\"},\"line_dash\":[4,4],\"line_width\":{\"value\":2},\"plot\":null,\"render_mode\":\"css\",\"right_units\":\"screen\",\"top_units\":\"screen\"},\"id\":\"1b8c199e-9753-4fa8-b24d-6edf6664733b\",\"type\":\"BoxAnnotation\"},{\"attributes\":{},\"id\":\"70aa9d2d-71fa-43cd-b7e5-e312a17c9351\",\"type\":\"HelpTool\"},{\"attributes\":{},\"id\":\"00d587df-c459-4269-9d95-5b81c23bd09e\",\"type\":\"ResetTool\"}],\"root_ids\":[\"d4e694ec-5b97-4b7d-84d2-baa5845c69e2\"]},\"title\":\"Bokeh Application\",\"version\":\"0.12.16\"}};\n",
       "  var render_items = [{\"docid\":\"a7a865d2-5600-4040-8c8a-622fe803da0e\",\"elementid\":\"787a22ce-4f2f-4628-8770-bdf2e155bc7b\",\"modelid\":\"d4e694ec-5b97-4b7d-84d2-baa5845c69e2\"}];\n",
       "  root.Bokeh.embed.embed_items_notebook(docs_json, render_items);\n",
       "\n",
       "  }\n",
       "  if (root.Bokeh !== undefined) {\n",
       "    embed_document(root);\n",
       "  } else {\n",
       "    var attempts = 0;\n",
       "    var timer = setInterval(function(root) {\n",
       "      if (root.Bokeh !== undefined) {\n",
       "        embed_document(root);\n",
       "        clearInterval(timer);\n",
       "      }\n",
       "      attempts++;\n",
       "      if (attempts > 100) {\n",
       "        console.log(\"Bokeh: ERROR: Unable to run BokehJS code because BokehJS library is missing\")\n",
       "        clearInterval(timer);\n",
       "      }\n",
       "    }, 10, root)\n",
       "  }\n",
       "})(window);"
      ],
      "application/vnd.bokehjs_exec.v0+json": ""
     },
     "metadata": {
      "application/vnd.bokehjs_exec.v0+json": {
       "id": "d4e694ec-5b97-4b7d-84d2-baa5845c69e2"
      }
     },
     "output_type": "display_data"
    }
   ],
   "source": [
    "for i in range(15):\n",
    "    show(plot_arima_comparison(test_data[:,i],predictions_ts[:,i]))"
   ]
  },
  {
   "cell_type": "code",
   "execution_count": null,
   "metadata": {},
   "outputs": [],
   "source": [
    "print ('MAPE (Stepwise)      :', mean_absolute_percentage_error(validate_data,next_validate))\n",
    "print ('MAPE (Stepwise force):', mean_absolute_percentage_error(validate_data,next_validate_force))\n",
    "print ('MAPE (RS)            :', mean_absolute_percentage_error(validate_data,next_validate_rs))\n",
    "print ('MAPE (Theta)         :', mean_absolute_percentage_error(validate_data,forecast_Theta))\n",
    "print ('MAPE (FPro)          :', mean_absolute_percentage_error(validate_data, forecast_FPro))\n",
    "print ('MAPE (FX)            :', mean_absolute_percentage_error(validate_data,forecast_FX))"
   ]
  },
  {
   "cell_type": "code",
   "execution_count": 74,
   "metadata": {},
   "outputs": [
    {
     "data": {
      "text/plain": [
       "[ARIMA(callback=None, disp=0, maxiter=50, method=None, order=(0, 0, 0),\n",
       "    out_of_sample_size=0, scoring='mse', scoring_args={},\n",
       "    seasonal_order=(1, 0, 1, 12), solver='lbfgs', start_params=None,\n",
       "    suppress_warnings=True, transparams=True, trend='c'),\n",
       " ARIMA(callback=None, disp=0, maxiter=50, method=None, order=(0, 0, 0),\n",
       "    out_of_sample_size=0, scoring='mse', scoring_args={},\n",
       "    seasonal_order=(1, 0, 0, 12), solver='lbfgs', start_params=None,\n",
       "    suppress_warnings=True, transparams=True, trend='c'),\n",
       " ARIMA(callback=None, disp=0, maxiter=50, method=None, order=(0, 0, 1),\n",
       "    out_of_sample_size=0, scoring='mse', scoring_args={},\n",
       "    seasonal_order=(0, 0, 0, 12), solver='lbfgs', start_params=None,\n",
       "    suppress_warnings=True, transparams=True, trend='c'),\n",
       " ARIMA(callback=None, disp=0, maxiter=50, method=None, order=(1, 1, 0),\n",
       "    out_of_sample_size=0, scoring='mse', scoring_args={},\n",
       "    seasonal_order=(1, 0, 0, 12), solver='lbfgs', start_params=None,\n",
       "    suppress_warnings=True, transparams=True, trend='c'),\n",
       " ARIMA(callback=None, disp=0, maxiter=50, method=None, order=(0, 0, 1),\n",
       "    out_of_sample_size=0, scoring='mse', scoring_args={},\n",
       "    seasonal_order=(1, 0, 0, 12), solver='lbfgs', start_params=None,\n",
       "    suppress_warnings=True, transparams=True, trend='c'),\n",
       " ARIMA(callback=None, disp=0, maxiter=50, method=None, order=(0, 0, 1),\n",
       "    out_of_sample_size=0, scoring='mse', scoring_args={},\n",
       "    seasonal_order=(0, 0, 0, 12), solver='lbfgs', start_params=None,\n",
       "    suppress_warnings=True, transparams=True, trend='c'),\n",
       " ARIMA(callback=None, disp=0, maxiter=50, method=None, order=(0, 0, 1),\n",
       "    out_of_sample_size=0, scoring='mse', scoring_args={},\n",
       "    seasonal_order=(0, 0, 0, 12), solver='lbfgs', start_params=None,\n",
       "    suppress_warnings=True, transparams=True, trend='c'),\n",
       " ARIMA(callback=None, disp=0, maxiter=50, method=None, order=(0, 0, 0),\n",
       "    out_of_sample_size=0, scoring='mse', scoring_args={},\n",
       "    seasonal_order=(0, 0, 0, 12), solver='lbfgs', start_params=None,\n",
       "    suppress_warnings=True, transparams=True, trend='c'),\n",
       " ARIMA(callback=None, disp=0, maxiter=50, method=None, order=(2, 0, 1),\n",
       "    out_of_sample_size=0, scoring='mse', scoring_args={},\n",
       "    seasonal_order=(0, 0, 0, 12), solver='lbfgs', start_params=None,\n",
       "    suppress_warnings=True, transparams=True, trend='c'),\n",
       " ARIMA(callback=None, disp=0, maxiter=50, method=None, order=(0, 0, 0),\n",
       "    out_of_sample_size=0, scoring='mse', scoring_args={},\n",
       "    seasonal_order=(0, 0, 0, 12), solver='lbfgs', start_params=None,\n",
       "    suppress_warnings=True, transparams=True, trend='c'),\n",
       " ARIMA(callback=None, disp=0, maxiter=50, method=None, order=(0, 0, 1),\n",
       "    out_of_sample_size=0, scoring='mse', scoring_args={},\n",
       "    seasonal_order=(0, 0, 0, 12), solver='lbfgs', start_params=None,\n",
       "    suppress_warnings=True, transparams=True, trend='c'),\n",
       " ARIMA(callback=None, disp=0, maxiter=50, method=None, order=(1, 0, 0),\n",
       "    out_of_sample_size=0, scoring='mse', scoring_args={},\n",
       "    seasonal_order=(2, 0, 0, 12), solver='lbfgs', start_params=None,\n",
       "    suppress_warnings=True, transparams=True, trend='c'),\n",
       " ARIMA(callback=None, disp=0, maxiter=50, method=None, order=(0, 0, 2),\n",
       "    out_of_sample_size=0, scoring='mse', scoring_args={},\n",
       "    seasonal_order=(0, 0, 1, 12), solver='lbfgs', start_params=None,\n",
       "    suppress_warnings=True, transparams=True, trend='c'),\n",
       " ARIMA(callback=None, disp=0, maxiter=50, method=None, order=(5, 0, 1),\n",
       "    out_of_sample_size=0, scoring='mse', scoring_args={},\n",
       "    seasonal_order=(0, 0, 0, 12), solver='lbfgs', start_params=None,\n",
       "    suppress_warnings=True, transparams=True, trend='c'),\n",
       " ARIMA(callback=None, disp=0, maxiter=50, method=None, order=(1, 0, 0),\n",
       "    out_of_sample_size=0, scoring='mse', scoring_args={},\n",
       "    seasonal_order=(0, 0, 0, 12), solver='lbfgs', start_params=None,\n",
       "    suppress_warnings=True, transparams=True, trend='c')]"
      ]
     },
     "execution_count": 74,
     "metadata": {},
     "output_type": "execute_result"
    }
   ],
   "source": [
    "models"
   ]
  },
  {
   "cell_type": "code",
   "execution_count": null,
   "metadata": {},
   "outputs": [],
   "source": []
  }
 ],
 "metadata": {
  "kernelspec": {
   "display_name": "Python 3",
   "language": "python",
   "name": "python3"
  },
  "language_info": {
   "codemirror_mode": {
    "name": "ipython",
    "version": 3
   },
   "file_extension": ".py",
   "mimetype": "text/x-python",
   "name": "python",
   "nbconvert_exporter": "python",
   "pygments_lexer": "ipython3",
   "version": "3.6.5"
  }
 },
 "nbformat": 4,
 "nbformat_minor": 2
}
